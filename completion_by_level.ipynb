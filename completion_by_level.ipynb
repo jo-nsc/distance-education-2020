{
 "cells": [
  {
   "cell_type": "code",
   "execution_count": 227,
   "metadata": {},
   "outputs": [],
   "source": [
    "import pandas as pd\n",
    "import numpy as np\n",
    "import matplotlib as plt\n",
    "\n",
    "#logs = pd.read_csv(\"anonimized_logs.csv\")\n",
    "courses = pd.read_csv(\"anonimized_courses.csv\")\n",
    "registrations = pd.read_csv(\"anonimized_registrations.csv\")\n",
    "users = pd.read_csv(\"anonimized_users.csv\")\n",
    "tasks = pd.read_csv(\"anonimized_tasks.csv\")\n",
    "#sections = pd.read_csv(\"anonimized_sections.csv\")\n",
    "#sec_harness = pd.read_csv(\"anonimized_section_harnessing_task.csv\")"
   ]
  },
  {
   "cell_type": "code",
   "execution_count": 228,
   "metadata": {},
   "outputs": [
    {
     "data": {
      "text/html": [
       "<div>\n",
       "<style scoped>\n",
       "    .dataframe tbody tr th:only-of-type {\n",
       "        vertical-align: middle;\n",
       "    }\n",
       "\n",
       "    .dataframe tbody tr th {\n",
       "        vertical-align: top;\n",
       "    }\n",
       "\n",
       "    .dataframe thead th {\n",
       "        text-align: right;\n",
       "    }\n",
       "</style>\n",
       "<table border=\"1\" class=\"dataframe\">\n",
       "  <thead>\n",
       "    <tr style=\"text-align: right;\">\n",
       "      <th></th>\n",
       "      <th>user_uuid</th>\n",
       "      <th>course_uuid</th>\n",
       "      <th>createdAt</th>\n",
       "      <th>finishedAt</th>\n",
       "      <th>lastAccessDate</th>\n",
       "      <th>currentState</th>\n",
       "    </tr>\n",
       "  </thead>\n",
       "  <tbody>\n",
       "    <tr>\n",
       "      <th>0</th>\n",
       "      <td>36802</td>\n",
       "      <td>113</td>\n",
       "      <td>2015-09-15 06:33:25</td>\n",
       "      <td>2015-09-28 21:54:56</td>\n",
       "      <td>2017-11-28 16:22:04</td>\n",
       "      <td>IN_PROGRESS</td>\n",
       "    </tr>\n",
       "    <tr>\n",
       "      <th>1</th>\n",
       "      <td>34892</td>\n",
       "      <td>764</td>\n",
       "      <td>2015-09-15 00:00:21</td>\n",
       "      <td>2016-03-01 14:11:05</td>\n",
       "      <td>2016-10-18 13:15:22</td>\n",
       "      <td>IN_PROGRESS</td>\n",
       "    </tr>\n",
       "    <tr>\n",
       "      <th>2</th>\n",
       "      <td>37440</td>\n",
       "      <td>764</td>\n",
       "      <td>2015-09-15 00:00:21</td>\n",
       "      <td>NaN</td>\n",
       "      <td>2015-09-15 00:00:21</td>\n",
       "      <td>IN_PROGRESS</td>\n",
       "    </tr>\n",
       "    <tr>\n",
       "      <th>3</th>\n",
       "      <td>58529</td>\n",
       "      <td>76</td>\n",
       "      <td>2015-09-15 00:00:20</td>\n",
       "      <td>NaN</td>\n",
       "      <td>2018-03-14 20:27:27</td>\n",
       "      <td>NOT_VISIBLE</td>\n",
       "    </tr>\n",
       "    <tr>\n",
       "      <th>4</th>\n",
       "      <td>48059</td>\n",
       "      <td>76</td>\n",
       "      <td>2015-09-15 00:00:20</td>\n",
       "      <td>NaN</td>\n",
       "      <td>2015-09-15 00:00:20</td>\n",
       "      <td>IN_PROGRESS</td>\n",
       "    </tr>\n",
       "  </tbody>\n",
       "</table>\n",
       "</div>"
      ],
      "text/plain": [
       "   user_uuid  course_uuid            createdAt           finishedAt  \\\n",
       "0      36802          113  2015-09-15 06:33:25  2015-09-28 21:54:56   \n",
       "1      34892          764  2015-09-15 00:00:21  2016-03-01 14:11:05   \n",
       "2      37440          764  2015-09-15 00:00:21                  NaN   \n",
       "3      58529           76  2015-09-15 00:00:20                  NaN   \n",
       "4      48059           76  2015-09-15 00:00:20                  NaN   \n",
       "\n",
       "        lastAccessDate currentState  \n",
       "0  2017-11-28 16:22:04  IN_PROGRESS  \n",
       "1  2016-10-18 13:15:22  IN_PROGRESS  \n",
       "2  2015-09-15 00:00:21  IN_PROGRESS  \n",
       "3  2018-03-14 20:27:27  NOT_VISIBLE  \n",
       "4  2015-09-15 00:00:20  IN_PROGRESS  "
      ]
     },
     "execution_count": 228,
     "metadata": {},
     "output_type": "execute_result"
    }
   ],
   "source": [
    "registrations.head()"
   ]
  },
  {
   "cell_type": "code",
   "execution_count": 229,
   "metadata": {},
   "outputs": [
    {
     "data": {
      "text/html": [
       "<div>\n",
       "<style scoped>\n",
       "    .dataframe tbody tr th:only-of-type {\n",
       "        vertical-align: middle;\n",
       "    }\n",
       "\n",
       "    .dataframe tbody tr th {\n",
       "        vertical-align: top;\n",
       "    }\n",
       "\n",
       "    .dataframe thead th {\n",
       "        text-align: right;\n",
       "    }\n",
       "</style>\n",
       "<table border=\"1\" class=\"dataframe\">\n",
       "  <thead>\n",
       "    <tr style=\"text-align: right;\">\n",
       "      <th></th>\n",
       "      <th>createdAt</th>\n",
       "      <th>level</th>\n",
       "      <th>publicatedAt</th>\n",
       "      <th>totalVideoTime</th>\n",
       "      <th>subCategory_id</th>\n",
       "      <th>situation</th>\n",
       "      <th>isProject</th>\n",
       "      <th>removedAt</th>\n",
       "      <th>uuid</th>\n",
       "      <th>substitute_uuid</th>\n",
       "    </tr>\n",
       "  </thead>\n",
       "  <tbody>\n",
       "    <tr>\n",
       "      <th>0</th>\n",
       "      <td>2011-09-22</td>\n",
       "      <td>1</td>\n",
       "      <td>2011-09-22</td>\n",
       "      <td>51</td>\n",
       "      <td>30</td>\n",
       "      <td>PUBLISHED</td>\n",
       "      <td>0</td>\n",
       "      <td>NaN</td>\n",
       "      <td>588</td>\n",
       "      <td>NaN</td>\n",
       "    </tr>\n",
       "    <tr>\n",
       "      <th>1</th>\n",
       "      <td>2011-10-27</td>\n",
       "      <td>5</td>\n",
       "      <td>2011-10-27</td>\n",
       "      <td>72</td>\n",
       "      <td>21</td>\n",
       "      <td>PUBLISHED</td>\n",
       "      <td>0</td>\n",
       "      <td>NaN</td>\n",
       "      <td>840</td>\n",
       "      <td>NaN</td>\n",
       "    </tr>\n",
       "    <tr>\n",
       "      <th>2</th>\n",
       "      <td>2012-02-15</td>\n",
       "      <td>1</td>\n",
       "      <td>2012-02-15</td>\n",
       "      <td>112</td>\n",
       "      <td>1</td>\n",
       "      <td>PUBLISHED</td>\n",
       "      <td>0</td>\n",
       "      <td>NaN</td>\n",
       "      <td>764</td>\n",
       "      <td>NaN</td>\n",
       "    </tr>\n",
       "    <tr>\n",
       "      <th>3</th>\n",
       "      <td>2012-03-07</td>\n",
       "      <td>5</td>\n",
       "      <td>2012-03-07</td>\n",
       "      <td>83</td>\n",
       "      <td>21</td>\n",
       "      <td>PUBLISHED</td>\n",
       "      <td>0</td>\n",
       "      <td>NaN</td>\n",
       "      <td>720</td>\n",
       "      <td>NaN</td>\n",
       "    </tr>\n",
       "    <tr>\n",
       "      <th>4</th>\n",
       "      <td>2012-05-29</td>\n",
       "      <td>1</td>\n",
       "      <td>2012-05-29</td>\n",
       "      <td>70</td>\n",
       "      <td>48</td>\n",
       "      <td>PUBLISHED</td>\n",
       "      <td>0</td>\n",
       "      <td>NaN</td>\n",
       "      <td>937</td>\n",
       "      <td>NaN</td>\n",
       "    </tr>\n",
       "  </tbody>\n",
       "</table>\n",
       "</div>"
      ],
      "text/plain": [
       "    createdAt  level publicatedAt  totalVideoTime  subCategory_id  situation  \\\n",
       "0  2011-09-22      1   2011-09-22              51              30  PUBLISHED   \n",
       "1  2011-10-27      5   2011-10-27              72              21  PUBLISHED   \n",
       "2  2012-02-15      1   2012-02-15             112               1  PUBLISHED   \n",
       "3  2012-03-07      5   2012-03-07              83              21  PUBLISHED   \n",
       "4  2012-05-29      1   2012-05-29              70              48  PUBLISHED   \n",
       "\n",
       "   isProject removedAt  uuid  substitute_uuid  \n",
       "0          0       NaN   588              NaN  \n",
       "1          0       NaN   840              NaN  \n",
       "2          0       NaN   764              NaN  \n",
       "3          0       NaN   720              NaN  \n",
       "4          0       NaN   937              NaN  "
      ]
     },
     "execution_count": 229,
     "metadata": {},
     "output_type": "execute_result"
    }
   ],
   "source": [
    "courses.head()"
   ]
  },
  {
   "cell_type": "code",
   "execution_count": 230,
   "metadata": {},
   "outputs": [
    {
     "data": {
      "text/plain": [
       "array(['IN_PROGRESS', 'NOT_VISIBLE', 'PAUSED', 'BOOKMARKED'], dtype=object)"
      ]
     },
     "execution_count": 230,
     "metadata": {},
     "output_type": "execute_result"
    }
   ],
   "source": [
    "#tipo de registro\n",
    "registrations.currentState.unique()"
   ]
  },
  {
   "cell_type": "code",
   "execution_count": 231,
   "metadata": {},
   "outputs": [
    {
     "data": {
      "text/plain": [
       "array(['IN_PROGRESS', 'PAUSED'], dtype=object)"
      ]
     },
     "execution_count": 231,
     "metadata": {},
     "output_type": "execute_result"
    }
   ],
   "source": [
    "#Estimando porcentagem medias de conclusão de cursos pelos alunos\n",
    "\n",
    "#Removendo Cursos não iniciados\n",
    "rg=registrations[registrations.currentState!='BOOKMARKED']\n",
    "rg=rg[rg.currentState!='NOT_VISIBLE']\n",
    "rg.currentState.unique()"
   ]
  },
  {
   "cell_type": "code",
   "execution_count": 232,
   "metadata": {},
   "outputs": [],
   "source": [
    "#Dividindo em alunos que finalizaram o curso, em progresso, e pausaram\n",
    "#Considerando que cursos acessados pelo aluno em 2 meses estão em progresso\n",
    "maxTime=np.timedelta64(2, 'M')\n",
    "rg.loc[pd.to_datetime(rg['lastAccessDate'])<pd.Timestamp('2020-08-27 23:59:00.000000')-maxTime,'status']='unfinished'\n",
    "rg.loc[pd.to_datetime(rg['lastAccessDate'])>=pd.Timestamp('2020-08-27 23:59:00.000000')-maxTime,'status']='attending'\n",
    "rg.loc[rg['finishedAt'].notnull(),'status']='finished'\n",
    "\n",
    "#To do\n",
    "#Definir um melhor modo para classificar entre cursos finalizados, em progresso e não finalizados\n",
    "#Ex: Cursos que foram abandonados mas 90% completados poderiam ser considerados como acabados\n",
    "#    e não deveriam ter o mesmo peso que cursos 30% completados\n",
    "#\n",
    "#Ex2: Cursos 1% completos poderiam ser considerados como não começados, já que talvez\n",
    "#     o aluno estava apenas checando se o assunto é de seu interesse"
   ]
  },
  {
   "cell_type": "code",
   "execution_count": 233,
   "metadata": {},
   "outputs": [
    {
     "data": {
      "image/png": "[encoded data removed]",
      "text/plain": [
       "<Figure size 504x504 with 1 Axes>"
      ]
     },
     "metadata": {},
     "output_type": "display_data"
    }
   ],
   "source": [
    "#Porcentagem media de cursos terminados, abandonados e em progresso\n",
    "fig=rg.groupby('status')['status'].count().plot.pie(colors = ['#85c1e9','#abebc6','#f1948a'], autopct='%1.0f%%',figsize=(7, 7),\n",
    "                                                   labels=['Atending','Finished','Unfinished'],explode=(0,0.05,0),shadow=True)"
   ]
  },
  {
   "cell_type": "code",
   "execution_count": 234,
   "metadata": {},
   "outputs": [
    {
     "data": {
      "image/png": "[encoded data removed]",
      "text/plain": [
       "<Figure size 1800x1800 with 3 Axes>"
      ]
     },
     "metadata": {},
     "output_type": "display_data"
    }
   ],
   "source": [
    "#Juntando tabela de registros com o level do curso \n",
    "#e plotando a porcentagem media de cursos terminados, abandonados e em progresso por Level\n",
    "\n",
    "registrationLevel = rg.merge(courses[['uuid','level']],left_on='course_uuid', right_on='uuid', how='left')\n",
    "registrationLevel['level'] = registrationLevel['level'].replace([1,5,10],['Level  1','Level  5', 'Level 10'])\n",
    "statusByLevel = registrationLevel[['status','level']].groupby(['level','status']).size().unstack('level')\n",
    "\n",
    "fig = statusByLevel.plot.pie(subplots=True, autopct='%1.0f%%',figsize=(25, 25),\n",
    "    labels=['Atending','Finished','Unfinished'],explode=(0,0.05,0),shadow=True, title=['Level 1','Level 5','Level 10'],\n",
    "    colors = ['#85c1e9','#abebc6','#f1948a'],legend=False, fontsize = 15)"
   ]
  },
  {
   "cell_type": "code",
   "execution_count": 235,
   "metadata": {},
   "outputs": [
    {
     "data": {
      "text/html": [
       "<div>\n",
       "<style scoped>\n",
       "    .dataframe tbody tr th:only-of-type {\n",
       "        vertical-align: middle;\n",
       "    }\n",
       "\n",
       "    .dataframe tbody tr th {\n",
       "        vertical-align: top;\n",
       "    }\n",
       "\n",
       "    .dataframe thead th {\n",
       "        text-align: right;\n",
       "    }\n",
       "</style>\n",
       "<table border=\"1\" class=\"dataframe\">\n",
       "  <thead>\n",
       "    <tr style=\"text-align: right;\">\n",
       "      <th></th>\n",
       "      <th>course_uuid</th>\n",
       "      <th>studentsCount</th>\n",
       "    </tr>\n",
       "  </thead>\n",
       "  <tbody>\n",
       "    <tr>\n",
       "      <th>0</th>\n",
       "      <td>1</td>\n",
       "      <td>1029</td>\n",
       "    </tr>\n",
       "    <tr>\n",
       "      <th>1</th>\n",
       "      <td>2</td>\n",
       "      <td>11</td>\n",
       "    </tr>\n",
       "    <tr>\n",
       "      <th>2</th>\n",
       "      <td>4</td>\n",
       "      <td>805</td>\n",
       "    </tr>\n",
       "    <tr>\n",
       "      <th>3</th>\n",
       "      <td>5</td>\n",
       "      <td>260</td>\n",
       "    </tr>\n",
       "    <tr>\n",
       "      <th>4</th>\n",
       "      <td>6</td>\n",
       "      <td>89</td>\n",
       "    </tr>\n",
       "  </tbody>\n",
       "</table>\n",
       "</div>"
      ],
      "text/plain": [
       "   course_uuid  studentsCount\n",
       "0            1           1029\n",
       "1            2             11\n",
       "2            4            805\n",
       "3            5            260\n",
       "4            6             89"
      ]
     },
     "execution_count": 235,
     "metadata": {},
     "output_type": "execute_result"
    }
   ],
   "source": [
    "# Contando a quantidade de alunos por cursos\n",
    "studentsCount = rg.groupby('course_uuid')['status'].count()\n",
    "studentsCount = studentsCount.to_frame()\n",
    "studentsCount = studentsCount.reset_index()\n",
    "studentsCount = studentsCount.rename(columns={'status': 'studentsCount'})\n",
    "studentsCount.head()"
   ]
  },
  {
   "cell_type": "code",
   "execution_count": 236,
   "metadata": {},
   "outputs": [
    {
     "data": {
      "text/html": [
       "<div>\n",
       "<style scoped>\n",
       "    .dataframe tbody tr th:only-of-type {\n",
       "        vertical-align: middle;\n",
       "    }\n",
       "\n",
       "    .dataframe tbody tr th {\n",
       "        vertical-align: top;\n",
       "    }\n",
       "\n",
       "    .dataframe thead th {\n",
       "        text-align: right;\n",
       "    }\n",
       "</style>\n",
       "<table border=\"1\" class=\"dataframe\">\n",
       "  <thead>\n",
       "    <tr style=\"text-align: right;\">\n",
       "      <th></th>\n",
       "      <th>course_uuid</th>\n",
       "      <th>completionRate</th>\n",
       "    </tr>\n",
       "  </thead>\n",
       "  <tbody>\n",
       "    <tr>\n",
       "      <th>0</th>\n",
       "      <td>1</td>\n",
       "      <td>31.972789</td>\n",
       "    </tr>\n",
       "    <tr>\n",
       "      <th>1</th>\n",
       "      <td>2</td>\n",
       "      <td>27.272727</td>\n",
       "    </tr>\n",
       "    <tr>\n",
       "      <th>2</th>\n",
       "      <td>4</td>\n",
       "      <td>20.496894</td>\n",
       "    </tr>\n",
       "    <tr>\n",
       "      <th>3</th>\n",
       "      <td>5</td>\n",
       "      <td>28.846154</td>\n",
       "    </tr>\n",
       "    <tr>\n",
       "      <th>4</th>\n",
       "      <td>6</td>\n",
       "      <td>43.820225</td>\n",
       "    </tr>\n",
       "  </tbody>\n",
       "</table>\n",
       "</div>"
      ],
      "text/plain": [
       "   course_uuid  completionRate\n",
       "0            1       31.972789\n",
       "1            2       27.272727\n",
       "2            4       20.496894\n",
       "3            5       28.846154\n",
       "4            6       43.820225"
      ]
     },
     "execution_count": 236,
     "metadata": {},
     "output_type": "execute_result"
    }
   ],
   "source": [
    "#Taxa de conclusão por curso\n",
    "statusByCourse = rg.groupby('course_uuid')['status'].value_counts(normalize=True)*100\n",
    "statusByCourse = statusByCourse.drop(labels='unfinished',level=1)\n",
    "statusByCourse = statusByCourse.drop(labels='attending',level=1)\n",
    "statusByCourse = statusByCourse.reset_index(level=1,drop=True)\n",
    "statusByCourse = statusByCourse.to_frame()\n",
    "statusByCourse = statusByCourse.rename(columns={'status': 'completionRate'})\n",
    "statusByCourse = statusByCourse.reset_index()\n",
    "statusByCourse.head()"
   ]
  },
  {
   "cell_type": "code",
   "execution_count": 237,
   "metadata": {},
   "outputs": [],
   "source": [
    "#Juntando dados dos cursos com suas respectivas taxas de conclusão e numero de alunos\n",
    "cs = courses\n",
    "\n",
    "cs = cs.merge(statusByCourse,left_on='uuid', right_on='course_uuid', how='left')\n",
    "cs = cs.merge(studentsCount,left_on='uuid', right_on='course_uuid', how='left')\n",
    "cs = cs[cs['completionRate'].notna()]"
   ]
  },
  {
   "cell_type": "code",
   "execution_count": 238,
   "metadata": {},
   "outputs": [
    {
     "data": {
      "text/plain": [
       "count    838.000000\n",
       "mean      34.515910\n",
       "std       13.799379\n",
       "min        4.000000\n",
       "25%       24.315026\n",
       "50%       33.147681\n",
       "75%       43.558113\n",
       "max       79.175758\n",
       "Name: completionRate, dtype: float64"
      ]
     },
     "execution_count": 238,
     "metadata": {},
     "output_type": "execute_result"
    }
   ],
   "source": [
    "#Breve analise da porcentagem de conclusão dos cursos em porcentagem\n",
    "cs['completionRate'].describe()"
   ]
  },
  {
   "cell_type": "code",
   "execution_count": 239,
   "metadata": {},
   "outputs": [
    {
     "data": {
      "text/plain": [
       "count      838.000000\n",
       "mean       835.717184\n",
       "std       1314.988638\n",
       "min          5.000000\n",
       "25%        108.000000\n",
       "50%        345.000000\n",
       "75%        940.750000\n",
       "max      15634.000000\n",
       "Name: studentsCount, dtype: float64"
      ]
     },
     "execution_count": 239,
     "metadata": {},
     "output_type": "execute_result"
    }
   ],
   "source": [
    "# Breve analise da quantidade de alunos por curso\n",
    "cs['studentsCount'].describe()"
   ]
  },
  {
   "cell_type": "code",
   "execution_count": 240,
   "metadata": {},
   "outputs": [
    {
     "data": {
      "text/html": [
       "<div>\n",
       "<style scoped>\n",
       "    .dataframe tbody tr th:only-of-type {\n",
       "        vertical-align: middle;\n",
       "    }\n",
       "\n",
       "    .dataframe tbody tr th {\n",
       "        vertical-align: top;\n",
       "    }\n",
       "\n",
       "    .dataframe thead tr th {\n",
       "        text-align: left;\n",
       "    }\n",
       "\n",
       "    .dataframe thead tr:last-of-type th {\n",
       "        text-align: right;\n",
       "    }\n",
       "</style>\n",
       "<table border=\"1\" class=\"dataframe\">\n",
       "  <thead>\n",
       "    <tr>\n",
       "      <th></th>\n",
       "      <th colspan=\"8\" halign=\"left\">completionRate</th>\n",
       "      <th colspan=\"8\" halign=\"left\">studentsCount</th>\n",
       "    </tr>\n",
       "    <tr>\n",
       "      <th></th>\n",
       "      <th>count</th>\n",
       "      <th>mean</th>\n",
       "      <th>std</th>\n",
       "      <th>min</th>\n",
       "      <th>25%</th>\n",
       "      <th>50%</th>\n",
       "      <th>75%</th>\n",
       "      <th>max</th>\n",
       "      <th>count</th>\n",
       "      <th>mean</th>\n",
       "      <th>std</th>\n",
       "      <th>min</th>\n",
       "      <th>25%</th>\n",
       "      <th>50%</th>\n",
       "      <th>75%</th>\n",
       "      <th>max</th>\n",
       "    </tr>\n",
       "    <tr>\n",
       "      <th>level</th>\n",
       "      <th></th>\n",
       "      <th></th>\n",
       "      <th></th>\n",
       "      <th></th>\n",
       "      <th></th>\n",
       "      <th></th>\n",
       "      <th></th>\n",
       "      <th></th>\n",
       "      <th></th>\n",
       "      <th></th>\n",
       "      <th></th>\n",
       "      <th></th>\n",
       "      <th></th>\n",
       "      <th></th>\n",
       "      <th></th>\n",
       "      <th></th>\n",
       "    </tr>\n",
       "  </thead>\n",
       "  <tbody>\n",
       "    <tr>\n",
       "      <th>1</th>\n",
       "      <td>519.0</td>\n",
       "      <td>35.340739</td>\n",
       "      <td>14.346336</td>\n",
       "      <td>4.000000</td>\n",
       "      <td>24.501123</td>\n",
       "      <td>33.333333</td>\n",
       "      <td>44.032025</td>\n",
       "      <td>79.175758</td>\n",
       "      <td>519.0</td>\n",
       "      <td>868.695568</td>\n",
       "      <td>1376.089248</td>\n",
       "      <td>6.0</td>\n",
       "      <td>127.50</td>\n",
       "      <td>382.0</td>\n",
       "      <td>967.00</td>\n",
       "      <td>15634.0</td>\n",
       "    </tr>\n",
       "    <tr>\n",
       "      <th>5</th>\n",
       "      <td>281.0</td>\n",
       "      <td>33.683748</td>\n",
       "      <td>12.900759</td>\n",
       "      <td>7.142857</td>\n",
       "      <td>24.305556</td>\n",
       "      <td>33.000000</td>\n",
       "      <td>43.256997</td>\n",
       "      <td>65.295630</td>\n",
       "      <td>281.0</td>\n",
       "      <td>805.145907</td>\n",
       "      <td>1257.060294</td>\n",
       "      <td>5.0</td>\n",
       "      <td>97.00</td>\n",
       "      <td>259.0</td>\n",
       "      <td>928.00</td>\n",
       "      <td>8066.0</td>\n",
       "    </tr>\n",
       "    <tr>\n",
       "      <th>10</th>\n",
       "      <td>38.0</td>\n",
       "      <td>29.404100</td>\n",
       "      <td>11.185889</td>\n",
       "      <td>5.555556</td>\n",
       "      <td>21.678980</td>\n",
       "      <td>30.851107</td>\n",
       "      <td>37.392906</td>\n",
       "      <td>50.943396</td>\n",
       "      <td>38.0</td>\n",
       "      <td>611.368421</td>\n",
       "      <td>757.742894</td>\n",
       "      <td>18.0</td>\n",
       "      <td>71.25</td>\n",
       "      <td>247.0</td>\n",
       "      <td>1000.25</td>\n",
       "      <td>3227.0</td>\n",
       "    </tr>\n",
       "  </tbody>\n",
       "</table>\n",
       "</div>"
      ],
      "text/plain": [
       "      completionRate                                                        \\\n",
       "               count       mean        std       min        25%        50%   \n",
       "level                                                                        \n",
       "1              519.0  35.340739  14.346336  4.000000  24.501123  33.333333   \n",
       "5              281.0  33.683748  12.900759  7.142857  24.305556  33.000000   \n",
       "10              38.0  29.404100  11.185889  5.555556  21.678980  30.851107   \n",
       "\n",
       "                            studentsCount                                 \\\n",
       "             75%        max         count        mean          std   min   \n",
       "level                                                                      \n",
       "1      44.032025  79.175758         519.0  868.695568  1376.089248   6.0   \n",
       "5      43.256997  65.295630         281.0  805.145907  1257.060294   5.0   \n",
       "10     37.392906  50.943396          38.0  611.368421   757.742894  18.0   \n",
       "\n",
       "                                        \n",
       "          25%    50%      75%      max  \n",
       "level                                   \n",
       "1      127.50  382.0   967.00  15634.0  \n",
       "5       97.00  259.0   928.00   8066.0  \n",
       "10      71.25  247.0  1000.25   3227.0  "
      ]
     },
     "execution_count": 240,
     "metadata": {},
     "output_type": "execute_result"
    }
   ],
   "source": [
    "#Taxa de conclusão e numero de alunos por curso por level (1, 5 ou 10)\n",
    "level = cs[['level','completionRate','studentsCount']]\n",
    "level = level.groupby('level')\n",
    "level.describe()"
   ]
  }
 ],
 "metadata": {
  "kernelspec": {
   "display_name": "Python 3",
   "language": "python",
   "name": "python3"
  },
  "language_info": {
   "codemirror_mode": {
    "name": "ipython",
    "version": 3
   },
   "file_extension": ".py",
   "mimetype": "text/x-python",
   "name": "python",
   "nbconvert_exporter": "python",
   "pygments_lexer": "ipython3",
   "version": "3.7.3"
  }
 },
 "nbformat": 4,
 "nbformat_minor": 4
}
