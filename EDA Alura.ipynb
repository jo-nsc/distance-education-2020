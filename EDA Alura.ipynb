{
 "cells": [
  {
   "cell_type": "code",
   "execution_count": null,
   "metadata": {},
   "outputs": [],
   "source": [
    "import pandas as pd\n",
    "from zipfile import ZipFile"
   ]
  },
  {
   "cell_type": "markdown",
   "metadata": {},
   "source": [
    "### anonimized_users\n",
    "**uuid** - id do usuário\n",
    "\n",
    "**createdAt** - data de criação do usuário no sistema, não necessariamente o dia do primeiro curso efetuado, nem necessariamente um usuário que fez/comprou uma assinatura. o sistema já teve modelos de acesso diferentes de assinatura.\n",
    "\n",
    "**special_flagged** - alguns alunos e alunas possuem uma flag especial anonimizada. é possível existir uma correlação entre \n",
    "essa flag e um comportamento diferenciado. a flag deve ser anonimizada devido a frequência de ocorrência.\n",
    "\n",
    "\n",
    "### anonimized_registrations\n",
    "user_uuid\n",
    "\n",
    "course_uuid\n",
    "\n",
    "createdAt - momento do registro\n",
    "\n",
    "finishedAt - caso o curso tenha sido finalizado, o momento de finalização\n",
    "\n",
    "lastAccessDate - momento de último acesso\n",
    "\n",
    "situation - situação da matrícula. cursos pausados significa que o aluno ou aluna pediu para remover o curso do dashboard \n",
    "até decidir voltar ao mesmo. é natural que pessoas nunca voltem para um curso pausado pois já aprenderam o que queriam daquele curso.\n",
    "\n",
    "\n",
    "\n",
    "### anonimized_courses\n",
    "uuid - id do curso\n",
    "\n",
    "createdAt - data de criação\n",
    "\n",
    "level - nível (básico, intermediário ou avançado). subjetivo, definido pelo instrutor ou instrutora.\n",
    "\n",
    "publicatedAt - data em que o curso se tornou público\n",
    "\n",
    "totalVideoTime - número de minutos de vídeo no curso\n",
    "\n",
    "subCategory_id - id de subcategoria do curso\n",
    "\n",
    "situation - se o curso está publicado ou se foi removido do catálogo. um curso removido do catálogo ainda pode ser acessado \n",
    "por determinados usuários mas não é mais exposto para acesso\n",
    "\n",
    "isProject - apesar de quase todo curso ser baseado em projetos, o sistema possui alguns projetos finais de formações. esses projetos são representados como cursos pois possuem estrutura similar. com certeza participar ou não de um projeto trará \n",
    "correlação interessante com outras variáveis. principalmente terminar um desses.\n",
    "\n",
    "removedAt - momento em que o curso foi removido do catálogo\n",
    "\n",
    "substituteId - curso que substituiu o curso atual\n",
    "\n",
    "\n",
    "\n",
    "### anonimized_logs\n",
    "user_uuid\n",
    "\n",
    "moment - momento onde ocorreu a atividade\n",
    "\n",
    "kind - tipo de atividade\n",
    "iterable_id - identifica a atividade (por exemplo um exercício específico, um projeto, um curso etc). caso seja um curso, o id não será o mesmo de um anonimized_courses.\n",
    "\n",
    "\n",
    "### notas gerais:\n",
    "- a maior parte dos timestamps foram transformados em janelas de dia para reforçar a anonimização dos dados"
   ]
  },
  {
   "cell_type": "code",
   "execution_count": null,
   "metadata": {},
   "outputs": [],
   "source": [
    "with ZipFile('20200901-data.zip') as z: \n",
    "    print(*z.namelist(), sep='\\n')\n",
    "    anonimized_courses_df = pd.read_csv(z.open(z.namelist()[0]))\n",
    "    anonimized_logs_df = pd.read_csv(z.open(z.namelist()[1]), usecols=['kind'])\n",
    "    anonimized_registrations_df = pd.read_csv(z.open(z.namelist()[2]))\n",
    "    anonimized_users_df = pd.read_csv(z.open(z.namelist()[3]))"
   ]
  },
  {
   "cell_type": "code",
   "execution_count": null,
   "metadata": {},
   "outputs": [],
   "source": [
    "anonimized_logs_df['kind'].value_counts()"
   ]
  },
  {
   "cell_type": "code",
   "execution_count": null,
   "metadata": {},
   "outputs": [],
   "source": [
    "anonimized_registrations_df[anonimized_registrations_df['currentState'] == 'NOT_VISIBLE']"
   ]
  },
  {
   "cell_type": "code",
   "execution_count": null,
   "metadata": {},
   "outputs": [],
   "source": [
    "anonimized_registrations_df['currentState'].value_counts()"
   ]
  },
  {
   "cell_type": "code",
   "execution_count": null,
   "metadata": {},
   "outputs": [],
   "source": [
    "anonimized_users_df"
   ]
  },
  {
   "cell_type": "code",
   "execution_count": null,
   "metadata": {},
   "outputs": [],
   "source": [
    "anonimized_users_df.groupby('special_flagged').count()"
   ]
  },
  {
   "cell_type": "code",
   "execution_count": null,
   "metadata": {},
   "outputs": [],
   "source": [
    "anonimized_logs_df"
   ]
  },
  {
   "cell_type": "code",
   "execution_count": null,
   "metadata": {},
   "outputs": [],
   "source": [
    "anonimized_users_df[anonimized_users_df['uuid'] == '43e878d4-e29d-4674-b815-4ed9a7e4e9e3']"
   ]
  },
  {
   "cell_type": "code",
   "execution_count": null,
   "metadata": {},
   "outputs": [],
   "source": [
    "anonimized_courses_df['situation'].value_counts()"
   ]
  },
  {
   "cell_type": "code",
   "execution_count": null,
   "metadata": {},
   "outputs": [],
   "source": [
    "anonimized_courses_df[anonimized_courses_df['uuid'].replace('-', '') == '74ed35c51cce496d9d37b7ec7ea27b51']"
   ]
  },
  {
   "cell_type": "code",
   "execution_count": null,
   "metadata": {},
   "outputs": [],
   "source": [
    "[cou in anonimized_courses_df['uuid'].tolist() for cou in anonimized_registrations_df['course_uuid'].unique() if cou in anonimized_courses_df['uuid'].tolist()]"
   ]
  }
 ],
 "metadata": {
  "kernelspec": {
   "display_name": "Python 3",
   "language": "python",
   "name": "python3"
  },
  "language_info": {
   "codemirror_mode": {
    "name": "ipython",
    "version": 3
   },
   "file_extension": ".py",
   "mimetype": "text/x-python",
   "name": "python",
   "nbconvert_exporter": "python",
   "pygments_lexer": "ipython3",
   "version": "3.6.9"
  }
 },
 "nbformat": 4,
 "nbformat_minor": 4
}
