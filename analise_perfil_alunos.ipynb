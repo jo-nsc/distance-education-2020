{
 "cells": [
  {
   "cell_type": "code",
   "execution_count": 1,
   "metadata": {},
   "outputs": [],
   "source": [
    "import numpy as np\n",
    "import pandas as pd\n",
    "import seaborn as sns\n",
    "from sklearn.cluster import KMeans\n",
    "import matplotlib.pyplot as plt\n",
    "from datetime import datetime\n",
    "from dateutil.relativedelta import relativedelta\n",
    "import math\n",
    "from scipy.optimize import curve_fit\n",
    "from mpl_toolkits.mplot3d import Axes3D\n",
    "import datetime as dt "
   ]
  },
  {
   "cell_type": "code",
   "execution_count": 2,
   "metadata": {},
   "outputs": [],
   "source": [
    "courses = pd.read_csv('C:/Users/gabriel/Desktop/data/anonimized_courses.csv')\n",
    "logs = pd.read_csv('C:/Users/gabriel/Desktop/data/anonimized_logs.csv')\n",
    "regs = pd.read_csv('C:/Users/gabriel/Desktop/data/anonimized_registrations.csv')\n",
    "sections = pd.read_csv('C:/Users/gabriel/Desktop/data/anonimized_sections.csv')\n",
    "tasks = pd.read_csv('C:/Users/gabriel/Desktop/data/anonimized_tasks.csv')\n",
    "users = pd.read_csv('C:/Users/gabriel/Desktop/data/anonimized_users.csv')"
   ]
  },
  {
   "cell_type": "code",
   "execution_count": 3,
   "metadata": {
    "scrolled": true
   },
   "outputs": [
    {
     "data": {
      "text/html": [
       "<div>\n",
       "<style scoped>\n",
       "    .dataframe tbody tr th:only-of-type {\n",
       "        vertical-align: middle;\n",
       "    }\n",
       "\n",
       "    .dataframe tbody tr th {\n",
       "        vertical-align: top;\n",
       "    }\n",
       "\n",
       "    .dataframe thead th {\n",
       "        text-align: right;\n",
       "    }\n",
       "</style>\n",
       "<table border=\"1\" class=\"dataframe\">\n",
       "  <thead>\n",
       "    <tr style=\"text-align: right;\">\n",
       "      <th></th>\n",
       "      <th>createdAt</th>\n",
       "      <th>special_flagged</th>\n",
       "      <th>uuid</th>\n",
       "    </tr>\n",
       "  </thead>\n",
       "  <tbody>\n",
       "    <tr>\n",
       "      <th>0</th>\n",
       "      <td>2011-08-03</td>\n",
       "      <td>0</td>\n",
       "      <td>97665</td>\n",
       "    </tr>\n",
       "    <tr>\n",
       "      <th>1</th>\n",
       "      <td>2011-08-11</td>\n",
       "      <td>0</td>\n",
       "      <td>68492</td>\n",
       "    </tr>\n",
       "    <tr>\n",
       "      <th>2</th>\n",
       "      <td>2011-08-03</td>\n",
       "      <td>0</td>\n",
       "      <td>52463</td>\n",
       "    </tr>\n",
       "    <tr>\n",
       "      <th>3</th>\n",
       "      <td>2011-08-19</td>\n",
       "      <td>0</td>\n",
       "      <td>129570</td>\n",
       "    </tr>\n",
       "    <tr>\n",
       "      <th>4</th>\n",
       "      <td>2011-08-04</td>\n",
       "      <td>0</td>\n",
       "      <td>45524</td>\n",
       "    </tr>\n",
       "  </tbody>\n",
       "</table>\n",
       "</div>"
      ],
      "text/plain": [
       "    createdAt  special_flagged    uuid\n",
       "0  2011-08-03                0   97665\n",
       "1  2011-08-11                0   68492\n",
       "2  2011-08-03                0   52463\n",
       "3  2011-08-19                0  129570\n",
       "4  2011-08-04                0   45524"
      ]
     },
     "execution_count": 3,
     "metadata": {},
     "output_type": "execute_result"
    }
   ],
   "source": [
    "users.head()"
   ]
  },
  {
   "cell_type": "code",
   "execution_count": 4,
   "metadata": {
    "scrolled": true
   },
   "outputs": [
    {
     "data": {
      "text/html": [
       "<div>\n",
       "<style scoped>\n",
       "    .dataframe tbody tr th:only-of-type {\n",
       "        vertical-align: middle;\n",
       "    }\n",
       "\n",
       "    .dataframe tbody tr th {\n",
       "        vertical-align: top;\n",
       "    }\n",
       "\n",
       "    .dataframe thead th {\n",
       "        text-align: right;\n",
       "    }\n",
       "</style>\n",
       "<table border=\"1\" class=\"dataframe\">\n",
       "  <thead>\n",
       "    <tr style=\"text-align: right;\">\n",
       "      <th></th>\n",
       "      <th>createdAt</th>\n",
       "      <th>level</th>\n",
       "      <th>publicatedAt</th>\n",
       "      <th>totalVideoTime</th>\n",
       "      <th>subCategory_id</th>\n",
       "      <th>situation</th>\n",
       "      <th>isProject</th>\n",
       "      <th>removedAt</th>\n",
       "      <th>uuid</th>\n",
       "      <th>substitute_uuid</th>\n",
       "    </tr>\n",
       "  </thead>\n",
       "  <tbody>\n",
       "    <tr>\n",
       "      <th>0</th>\n",
       "      <td>2011-09-22</td>\n",
       "      <td>1</td>\n",
       "      <td>2011-09-22</td>\n",
       "      <td>51</td>\n",
       "      <td>30</td>\n",
       "      <td>PUBLISHED</td>\n",
       "      <td>0</td>\n",
       "      <td>NaN</td>\n",
       "      <td>588</td>\n",
       "      <td>NaN</td>\n",
       "    </tr>\n",
       "    <tr>\n",
       "      <th>1</th>\n",
       "      <td>2011-10-27</td>\n",
       "      <td>5</td>\n",
       "      <td>2011-10-27</td>\n",
       "      <td>72</td>\n",
       "      <td>21</td>\n",
       "      <td>PUBLISHED</td>\n",
       "      <td>0</td>\n",
       "      <td>NaN</td>\n",
       "      <td>840</td>\n",
       "      <td>NaN</td>\n",
       "    </tr>\n",
       "    <tr>\n",
       "      <th>2</th>\n",
       "      <td>2012-02-15</td>\n",
       "      <td>1</td>\n",
       "      <td>2012-02-15</td>\n",
       "      <td>112</td>\n",
       "      <td>1</td>\n",
       "      <td>PUBLISHED</td>\n",
       "      <td>0</td>\n",
       "      <td>NaN</td>\n",
       "      <td>764</td>\n",
       "      <td>NaN</td>\n",
       "    </tr>\n",
       "    <tr>\n",
       "      <th>3</th>\n",
       "      <td>2012-03-07</td>\n",
       "      <td>5</td>\n",
       "      <td>2012-03-07</td>\n",
       "      <td>83</td>\n",
       "      <td>21</td>\n",
       "      <td>PUBLISHED</td>\n",
       "      <td>0</td>\n",
       "      <td>NaN</td>\n",
       "      <td>720</td>\n",
       "      <td>NaN</td>\n",
       "    </tr>\n",
       "    <tr>\n",
       "      <th>4</th>\n",
       "      <td>2012-05-29</td>\n",
       "      <td>1</td>\n",
       "      <td>2012-05-29</td>\n",
       "      <td>70</td>\n",
       "      <td>48</td>\n",
       "      <td>PUBLISHED</td>\n",
       "      <td>0</td>\n",
       "      <td>NaN</td>\n",
       "      <td>937</td>\n",
       "      <td>NaN</td>\n",
       "    </tr>\n",
       "  </tbody>\n",
       "</table>\n",
       "</div>"
      ],
      "text/plain": [
       "    createdAt  level publicatedAt  totalVideoTime  subCategory_id  situation  \\\n",
       "0  2011-09-22      1   2011-09-22              51              30  PUBLISHED   \n",
       "1  2011-10-27      5   2011-10-27              72              21  PUBLISHED   \n",
       "2  2012-02-15      1   2012-02-15             112               1  PUBLISHED   \n",
       "3  2012-03-07      5   2012-03-07              83              21  PUBLISHED   \n",
       "4  2012-05-29      1   2012-05-29              70              48  PUBLISHED   \n",
       "\n",
       "   isProject removedAt  uuid  substitute_uuid  \n",
       "0          0       NaN   588              NaN  \n",
       "1          0       NaN   840              NaN  \n",
       "2          0       NaN   764              NaN  \n",
       "3          0       NaN   720              NaN  \n",
       "4          0       NaN   937              NaN  "
      ]
     },
     "execution_count": 4,
     "metadata": {},
     "output_type": "execute_result"
    }
   ],
   "source": [
    "courses.head()"
   ]
  },
  {
   "cell_type": "code",
   "execution_count": 5,
   "metadata": {},
   "outputs": [
    {
     "data": {
      "text/html": [
       "<div>\n",
       "<style scoped>\n",
       "    .dataframe tbody tr th:only-of-type {\n",
       "        vertical-align: middle;\n",
       "    }\n",
       "\n",
       "    .dataframe tbody tr th {\n",
       "        vertical-align: top;\n",
       "    }\n",
       "\n",
       "    .dataframe thead th {\n",
       "        text-align: right;\n",
       "    }\n",
       "</style>\n",
       "<table border=\"1\" class=\"dataframe\">\n",
       "  <thead>\n",
       "    <tr style=\"text-align: right;\">\n",
       "      <th></th>\n",
       "      <th>user_uuid</th>\n",
       "      <th>moment</th>\n",
       "      <th>kind</th>\n",
       "      <th>iterable_uuid</th>\n",
       "    </tr>\n",
       "  </thead>\n",
       "  <tbody>\n",
       "    <tr>\n",
       "      <th>0</th>\n",
       "      <td>57928</td>\n",
       "      <td>2016-09-12</td>\n",
       "      <td>EXERCISE_ANSWERED</td>\n",
       "      <td>2918d775-73e8-4c33-a3b7-5f0726bbe3ca</td>\n",
       "    </tr>\n",
       "    <tr>\n",
       "      <th>1</th>\n",
       "      <td>73719</td>\n",
       "      <td>2016-09-12</td>\n",
       "      <td>EXERCISE_ANSWERED</td>\n",
       "      <td>1315cdde-14e1-412d-bc3b-5da04b7aa44a</td>\n",
       "    </tr>\n",
       "    <tr>\n",
       "      <th>2</th>\n",
       "      <td>38957</td>\n",
       "      <td>2016-09-12</td>\n",
       "      <td>EXERCISE_ANSWERED</td>\n",
       "      <td>2ec53649-0eae-4114-b21f-ad72d448180b</td>\n",
       "    </tr>\n",
       "    <tr>\n",
       "      <th>3</th>\n",
       "      <td>59788</td>\n",
       "      <td>2016-09-12</td>\n",
       "      <td>EXERCISE_ANSWERED</td>\n",
       "      <td>ad5ae7b6-918f-4dfe-8680-db2928fe732c</td>\n",
       "    </tr>\n",
       "    <tr>\n",
       "      <th>4</th>\n",
       "      <td>73719</td>\n",
       "      <td>2016-09-12</td>\n",
       "      <td>EXERCISE_ANSWERED</td>\n",
       "      <td>7e08ee37-3eb6-4412-a6dd-d01f5619d2a2</td>\n",
       "    </tr>\n",
       "  </tbody>\n",
       "</table>\n",
       "</div>"
      ],
      "text/plain": [
       "   user_uuid      moment               kind  \\\n",
       "0      57928  2016-09-12  EXERCISE_ANSWERED   \n",
       "1      73719  2016-09-12  EXERCISE_ANSWERED   \n",
       "2      38957  2016-09-12  EXERCISE_ANSWERED   \n",
       "3      59788  2016-09-12  EXERCISE_ANSWERED   \n",
       "4      73719  2016-09-12  EXERCISE_ANSWERED   \n",
       "\n",
       "                          iterable_uuid  \n",
       "0  2918d775-73e8-4c33-a3b7-5f0726bbe3ca  \n",
       "1  1315cdde-14e1-412d-bc3b-5da04b7aa44a  \n",
       "2  2ec53649-0eae-4114-b21f-ad72d448180b  \n",
       "3  ad5ae7b6-918f-4dfe-8680-db2928fe732c  \n",
       "4  7e08ee37-3eb6-4412-a6dd-d01f5619d2a2  "
      ]
     },
     "execution_count": 5,
     "metadata": {},
     "output_type": "execute_result"
    }
   ],
   "source": [
    "logs.head()"
   ]
  },
  {
   "cell_type": "code",
   "execution_count": 6,
   "metadata": {
    "scrolled": true
   },
   "outputs": [
    {
     "data": {
      "text/html": [
       "<div>\n",
       "<style scoped>\n",
       "    .dataframe tbody tr th:only-of-type {\n",
       "        vertical-align: middle;\n",
       "    }\n",
       "\n",
       "    .dataframe tbody tr th {\n",
       "        vertical-align: top;\n",
       "    }\n",
       "\n",
       "    .dataframe thead th {\n",
       "        text-align: right;\n",
       "    }\n",
       "</style>\n",
       "<table border=\"1\" class=\"dataframe\">\n",
       "  <thead>\n",
       "    <tr style=\"text-align: right;\">\n",
       "      <th></th>\n",
       "      <th>number</th>\n",
       "      <th>active</th>\n",
       "      <th>uuid</th>\n",
       "      <th>course_uuid</th>\n",
       "    </tr>\n",
       "  </thead>\n",
       "  <tbody>\n",
       "    <tr>\n",
       "      <th>0</th>\n",
       "      <td>1</td>\n",
       "      <td>1</td>\n",
       "      <td>3988</td>\n",
       "      <td>588</td>\n",
       "    </tr>\n",
       "    <tr>\n",
       "      <th>1</th>\n",
       "      <td>2</td>\n",
       "      <td>1</td>\n",
       "      <td>6725</td>\n",
       "      <td>588</td>\n",
       "    </tr>\n",
       "    <tr>\n",
       "      <th>2</th>\n",
       "      <td>3</td>\n",
       "      <td>1</td>\n",
       "      <td>3716</td>\n",
       "      <td>588</td>\n",
       "    </tr>\n",
       "    <tr>\n",
       "      <th>3</th>\n",
       "      <td>4</td>\n",
       "      <td>1</td>\n",
       "      <td>4125</td>\n",
       "      <td>588</td>\n",
       "    </tr>\n",
       "    <tr>\n",
       "      <th>4</th>\n",
       "      <td>5</td>\n",
       "      <td>1</td>\n",
       "      <td>5354</td>\n",
       "      <td>588</td>\n",
       "    </tr>\n",
       "  </tbody>\n",
       "</table>\n",
       "</div>"
      ],
      "text/plain": [
       "   number  active  uuid  course_uuid\n",
       "0       1       1  3988          588\n",
       "1       2       1  6725          588\n",
       "2       3       1  3716          588\n",
       "3       4       1  4125          588\n",
       "4       5       1  5354          588"
      ]
     },
     "execution_count": 6,
     "metadata": {},
     "output_type": "execute_result"
    }
   ],
   "source": [
    "sections.head()"
   ]
  },
  {
   "cell_type": "code",
   "execution_count": 7,
   "metadata": {},
   "outputs": [
    {
     "data": {
      "text/html": [
       "<div>\n",
       "<style scoped>\n",
       "    .dataframe tbody tr th:only-of-type {\n",
       "        vertical-align: middle;\n",
       "    }\n",
       "\n",
       "    .dataframe tbody tr th {\n",
       "        vertical-align: top;\n",
       "    }\n",
       "\n",
       "    .dataframe thead th {\n",
       "        text-align: right;\n",
       "    }\n",
       "</style>\n",
       "<table border=\"1\" class=\"dataframe\">\n",
       "  <thead>\n",
       "    <tr style=\"text-align: right;\">\n",
       "      <th></th>\n",
       "      <th>user_uuid</th>\n",
       "      <th>course_uuid</th>\n",
       "      <th>createdAt</th>\n",
       "      <th>finishedAt</th>\n",
       "      <th>lastAccessDate</th>\n",
       "      <th>currentState</th>\n",
       "    </tr>\n",
       "  </thead>\n",
       "  <tbody>\n",
       "    <tr>\n",
       "      <th>0</th>\n",
       "      <td>36802</td>\n",
       "      <td>113</td>\n",
       "      <td>2015-09-15 06:33:25</td>\n",
       "      <td>2015-09-28 21:54:56</td>\n",
       "      <td>2017-11-28 16:22:04</td>\n",
       "      <td>IN_PROGRESS</td>\n",
       "    </tr>\n",
       "    <tr>\n",
       "      <th>1</th>\n",
       "      <td>34892</td>\n",
       "      <td>764</td>\n",
       "      <td>2015-09-15 00:00:21</td>\n",
       "      <td>2016-03-01 14:11:05</td>\n",
       "      <td>2016-10-18 13:15:22</td>\n",
       "      <td>IN_PROGRESS</td>\n",
       "    </tr>\n",
       "    <tr>\n",
       "      <th>2</th>\n",
       "      <td>37440</td>\n",
       "      <td>764</td>\n",
       "      <td>2015-09-15 00:00:21</td>\n",
       "      <td>NaN</td>\n",
       "      <td>2015-09-15 00:00:21</td>\n",
       "      <td>IN_PROGRESS</td>\n",
       "    </tr>\n",
       "    <tr>\n",
       "      <th>3</th>\n",
       "      <td>58529</td>\n",
       "      <td>76</td>\n",
       "      <td>2015-09-15 00:00:20</td>\n",
       "      <td>NaN</td>\n",
       "      <td>2018-03-14 20:27:27</td>\n",
       "      <td>NOT_VISIBLE</td>\n",
       "    </tr>\n",
       "    <tr>\n",
       "      <th>4</th>\n",
       "      <td>48059</td>\n",
       "      <td>76</td>\n",
       "      <td>2015-09-15 00:00:20</td>\n",
       "      <td>NaN</td>\n",
       "      <td>2015-09-15 00:00:20</td>\n",
       "      <td>IN_PROGRESS</td>\n",
       "    </tr>\n",
       "  </tbody>\n",
       "</table>\n",
       "</div>"
      ],
      "text/plain": [
       "   user_uuid  course_uuid            createdAt           finishedAt  \\\n",
       "0      36802          113  2015-09-15 06:33:25  2015-09-28 21:54:56   \n",
       "1      34892          764  2015-09-15 00:00:21  2016-03-01 14:11:05   \n",
       "2      37440          764  2015-09-15 00:00:21                  NaN   \n",
       "3      58529           76  2015-09-15 00:00:20                  NaN   \n",
       "4      48059           76  2015-09-15 00:00:20                  NaN   \n",
       "\n",
       "        lastAccessDate currentState  \n",
       "0  2017-11-28 16:22:04  IN_PROGRESS  \n",
       "1  2016-10-18 13:15:22  IN_PROGRESS  \n",
       "2  2015-09-15 00:00:21  IN_PROGRESS  \n",
       "3  2018-03-14 20:27:27  NOT_VISIBLE  \n",
       "4  2015-09-15 00:00:20  IN_PROGRESS  "
      ]
     },
     "execution_count": 7,
     "metadata": {},
     "output_type": "execute_result"
    }
   ],
   "source": [
    "regs.head()"
   ]
  },
  {
   "cell_type": "code",
   "execution_count": 8,
   "metadata": {},
   "outputs": [
    {
     "data": {
      "text/html": [
       "<div>\n",
       "<style scoped>\n",
       "    .dataframe tbody tr th:only-of-type {\n",
       "        vertical-align: middle;\n",
       "    }\n",
       "\n",
       "    .dataframe tbody tr th {\n",
       "        vertical-align: top;\n",
       "    }\n",
       "\n",
       "    .dataframe thead th {\n",
       "        text-align: right;\n",
       "    }\n",
       "</style>\n",
       "<table border=\"1\" class=\"dataframe\">\n",
       "  <thead>\n",
       "    <tr style=\"text-align: right;\">\n",
       "      <th></th>\n",
       "      <th>kind</th>\n",
       "      <th>duration</th>\n",
       "      <th>status</th>\n",
       "      <th>createdAt</th>\n",
       "      <th>uuid</th>\n",
       "      <th>course_uuid</th>\n",
       "    </tr>\n",
       "  </thead>\n",
       "  <tbody>\n",
       "    <tr>\n",
       "      <th>0</th>\n",
       "      <td>VIDEO</td>\n",
       "      <td>31</td>\n",
       "      <td>ACTIVE</td>\n",
       "      <td>2015-10-21</td>\n",
       "      <td>21316</td>\n",
       "      <td>588</td>\n",
       "    </tr>\n",
       "    <tr>\n",
       "      <th>1</th>\n",
       "      <td>VIDEO</td>\n",
       "      <td>188</td>\n",
       "      <td>ACTIVE</td>\n",
       "      <td>2015-10-21</td>\n",
       "      <td>13646</td>\n",
       "      <td>588</td>\n",
       "    </tr>\n",
       "    <tr>\n",
       "      <th>2</th>\n",
       "      <td>HQ_EXPLANATION</td>\n",
       "      <td>0</td>\n",
       "      <td>ACTIVE</td>\n",
       "      <td>2015-10-21</td>\n",
       "      <td>45401</td>\n",
       "      <td>588</td>\n",
       "    </tr>\n",
       "    <tr>\n",
       "      <th>3</th>\n",
       "      <td>OPEN_QUESTION</td>\n",
       "      <td>0</td>\n",
       "      <td>ACTIVE</td>\n",
       "      <td>2015-10-21</td>\n",
       "      <td>37691</td>\n",
       "      <td>588</td>\n",
       "    </tr>\n",
       "    <tr>\n",
       "      <th>4</th>\n",
       "      <td>OPEN_QUESTION</td>\n",
       "      <td>0</td>\n",
       "      <td>ACTIVE</td>\n",
       "      <td>2015-10-21</td>\n",
       "      <td>9310</td>\n",
       "      <td>588</td>\n",
       "    </tr>\n",
       "  </tbody>\n",
       "</table>\n",
       "</div>"
      ],
      "text/plain": [
       "             kind  duration  status   createdAt   uuid  course_uuid\n",
       "0           VIDEO        31  ACTIVE  2015-10-21  21316          588\n",
       "1           VIDEO       188  ACTIVE  2015-10-21  13646          588\n",
       "2  HQ_EXPLANATION         0  ACTIVE  2015-10-21  45401          588\n",
       "3   OPEN_QUESTION         0  ACTIVE  2015-10-21  37691          588\n",
       "4   OPEN_QUESTION         0  ACTIVE  2015-10-21   9310          588"
      ]
     },
     "execution_count": 8,
     "metadata": {},
     "output_type": "execute_result"
    }
   ],
   "source": [
    "tasks.head()"
   ]
  },
  {
   "cell_type": "code",
   "execution_count": 9,
   "metadata": {},
   "outputs": [
    {
     "data": {
      "text/plain": [
       "VIDEO              16366\n",
       "SINGLE_CHOICE       9138\n",
       "HQ_EXPLANATION      8853\n",
       "TEXT_CONTENT        6599\n",
       "OPEN_QUESTION       3075\n",
       "MULTIPLE_CHOICE     1439\n",
       "EXTRA_CONTENT          1\n",
       "Name: kind, dtype: int64"
      ]
     },
     "execution_count": 9,
     "metadata": {},
     "output_type": "execute_result"
    }
   ],
   "source": [
    "tasks['kind'].value_counts()"
   ]
  },
  {
   "cell_type": "code",
   "execution_count": 10,
   "metadata": {},
   "outputs": [
    {
     "data": {
      "text/plain": [
       "EXERCISE_ANSWERED      18000612\n",
       "COURSE_FINISHED          426290\n",
       "FORUM_POSTED              67213\n",
       "FORUM_SOLVED              13963\n",
       "CAREER_FINISHED           12514\n",
       "DEGREE_FINISHED            9247\n",
       "SUGGESTION_APPROVED        3558\n",
       "PROJECT_APPROVED             74\n",
       "Name: kind, dtype: int64"
      ]
     },
     "execution_count": 10,
     "metadata": {},
     "output_type": "execute_result"
    }
   ],
   "source": [
    "logs['kind'].value_counts()"
   ]
  },
  {
   "cell_type": "markdown",
   "metadata": {},
   "source": [
    "Análise dos alunos que interagem com a plataforma (através dos foruns):"
   ]
  },
  {
   "cell_type": "code",
   "execution_count": 11,
   "metadata": {
    "scrolled": false
   },
   "outputs": [
    {
     "data": {
      "text/html": [
       "<div>\n",
       "<style scoped>\n",
       "    .dataframe tbody tr th:only-of-type {\n",
       "        vertical-align: middle;\n",
       "    }\n",
       "\n",
       "    .dataframe tbody tr th {\n",
       "        vertical-align: top;\n",
       "    }\n",
       "\n",
       "    .dataframe thead th {\n",
       "        text-align: right;\n",
       "    }\n",
       "</style>\n",
       "<table border=\"1\" class=\"dataframe\">\n",
       "  <thead>\n",
       "    <tr style=\"text-align: right;\">\n",
       "      <th></th>\n",
       "      <th>user_uuid</th>\n",
       "      <th>moment</th>\n",
       "      <th>somaForum</th>\n",
       "    </tr>\n",
       "  </thead>\n",
       "  <tbody>\n",
       "    <tr>\n",
       "      <th>526</th>\n",
       "      <td>13258</td>\n",
       "      <td>2016-09-12</td>\n",
       "      <td>4</td>\n",
       "    </tr>\n",
       "    <tr>\n",
       "      <th>1010</th>\n",
       "      <td>119614</td>\n",
       "      <td>2016-09-12</td>\n",
       "      <td>2</td>\n",
       "    </tr>\n",
       "    <tr>\n",
       "      <th>1029</th>\n",
       "      <td>86326</td>\n",
       "      <td>2016-09-12</td>\n",
       "      <td>2</td>\n",
       "    </tr>\n",
       "    <tr>\n",
       "      <th>1755</th>\n",
       "      <td>85621</td>\n",
       "      <td>2016-09-12</td>\n",
       "      <td>1</td>\n",
       "    </tr>\n",
       "    <tr>\n",
       "      <th>1873</th>\n",
       "      <td>82046</td>\n",
       "      <td>2016-09-12</td>\n",
       "      <td>1</td>\n",
       "    </tr>\n",
       "  </tbody>\n",
       "</table>\n",
       "</div>"
      ],
      "text/plain": [
       "      user_uuid      moment  somaForum\n",
       "526       13258  2016-09-12          4\n",
       "1010     119614  2016-09-12          2\n",
       "1029      86326  2016-09-12          2\n",
       "1755      85621  2016-09-12          1\n",
       "1873      82046  2016-09-12          1"
      ]
     },
     "execution_count": 11,
     "metadata": {},
     "output_type": "execute_result"
    }
   ],
   "source": [
    "logsForum = logs.copy()\n",
    "logsForum.drop(['iterable_uuid'],axis=1,inplace=True)\n",
    "\n",
    "logsForum = logsForum[logsForum.kind!='COURSE_FINISHED']\n",
    "logsForum = logsForum[logsForum.kind!='CAREER_FINISHED']\n",
    "logsForum = logsForum[logsForum.kind!='DEGREE_FINISHED']\n",
    "logsForum = logsForum[logsForum.kind!='PROJECT_APPROVED']\n",
    "logsForum = logsForum[logsForum.kind!='EXERCISE_ANSWERED']\n",
    "\n",
    "logsForum['somaForum'] = logsForum.groupby(['user_uuid','moment'])['kind'].transform('count')\n",
    "logsForum.drop_duplicates(subset=['user_uuid','moment'],inplace=True)\n",
    "logsForum.drop(['kind'],axis=1,inplace=True)\n",
    "\n",
    "logsForum.head()"
   ]
  },
  {
   "cell_type": "code",
   "execution_count": 12,
   "metadata": {},
   "outputs": [
    {
     "data": {
      "text/html": [
       "<div>\n",
       "<style scoped>\n",
       "    .dataframe tbody tr th:only-of-type {\n",
       "        vertical-align: middle;\n",
       "    }\n",
       "\n",
       "    .dataframe tbody tr th {\n",
       "        vertical-align: top;\n",
       "    }\n",
       "\n",
       "    .dataframe thead th {\n",
       "        text-align: right;\n",
       "    }\n",
       "</style>\n",
       "<table border=\"1\" class=\"dataframe\">\n",
       "  <thead>\n",
       "    <tr style=\"text-align: right;\">\n",
       "      <th></th>\n",
       "      <th>user_uuid</th>\n",
       "      <th>moment</th>\n",
       "      <th>somaEx</th>\n",
       "    </tr>\n",
       "  </thead>\n",
       "  <tbody>\n",
       "    <tr>\n",
       "      <th>0</th>\n",
       "      <td>57928</td>\n",
       "      <td>2016-09-12</td>\n",
       "      <td>47</td>\n",
       "    </tr>\n",
       "    <tr>\n",
       "      <th>2</th>\n",
       "      <td>38957</td>\n",
       "      <td>2016-09-12</td>\n",
       "      <td>2</td>\n",
       "    </tr>\n",
       "    <tr>\n",
       "      <th>16</th>\n",
       "      <td>117109</td>\n",
       "      <td>2016-09-12</td>\n",
       "      <td>3</td>\n",
       "    </tr>\n",
       "    <tr>\n",
       "      <th>20</th>\n",
       "      <td>88787</td>\n",
       "      <td>2016-09-12</td>\n",
       "      <td>3</td>\n",
       "    </tr>\n",
       "    <tr>\n",
       "      <th>21</th>\n",
       "      <td>16502</td>\n",
       "      <td>2016-09-12</td>\n",
       "      <td>11</td>\n",
       "    </tr>\n",
       "  </tbody>\n",
       "</table>\n",
       "</div>"
      ],
      "text/plain": [
       "    user_uuid      moment  somaEx\n",
       "0       57928  2016-09-12      47\n",
       "2       38957  2016-09-12       2\n",
       "16     117109  2016-09-12       3\n",
       "20      88787  2016-09-12       3\n",
       "21      16502  2016-09-12      11"
      ]
     },
     "execution_count": 12,
     "metadata": {},
     "output_type": "execute_result"
    }
   ],
   "source": [
    "logsEx = logs[logs['user_uuid'].isin(logsForum['user_uuid'])]\n",
    "\n",
    "logsEx = logsEx[logsEx.kind!='FORUM_SOLVED']\n",
    "logsEx = logsEx[logsEx.kind!='FORUM_POSTED']\n",
    "logsEx = logsEx[logsEx.kind!='SUGGESTION_APPROVED']\n",
    "\n",
    "logsEx.drop(['iterable_uuid'],axis=1,inplace=True)\n",
    "logsEx['somaEx'] = logsEx.groupby(['user_uuid','moment'])['kind'].transform('count')\n",
    "logsEx.drop_duplicates(subset=['user_uuid','moment'],inplace=True)\n",
    "logsEx.drop(['kind'],axis=1,inplace=True)\n",
    "logsEx.head()"
   ]
  },
  {
   "cell_type": "code",
   "execution_count": 13,
   "metadata": {},
   "outputs": [
    {
     "data": {
      "text/html": [
       "<div>\n",
       "<style scoped>\n",
       "    .dataframe tbody tr th:only-of-type {\n",
       "        vertical-align: middle;\n",
       "    }\n",
       "\n",
       "    .dataframe tbody tr th {\n",
       "        vertical-align: top;\n",
       "    }\n",
       "\n",
       "    .dataframe thead th {\n",
       "        text-align: right;\n",
       "    }\n",
       "</style>\n",
       "<table border=\"1\" class=\"dataframe\">\n",
       "  <thead>\n",
       "    <tr style=\"text-align: right;\">\n",
       "      <th></th>\n",
       "      <th>user_uuid</th>\n",
       "      <th>moment</th>\n",
       "      <th>somaForum</th>\n",
       "      <th>somaEx</th>\n",
       "    </tr>\n",
       "  </thead>\n",
       "  <tbody>\n",
       "    <tr>\n",
       "      <th>0</th>\n",
       "      <td>13258</td>\n",
       "      <td>2016-09-12</td>\n",
       "      <td>4</td>\n",
       "      <td>1</td>\n",
       "    </tr>\n",
       "    <tr>\n",
       "      <th>1</th>\n",
       "      <td>119614</td>\n",
       "      <td>2016-09-12</td>\n",
       "      <td>2</td>\n",
       "      <td>4</td>\n",
       "    </tr>\n",
       "    <tr>\n",
       "      <th>2</th>\n",
       "      <td>82046</td>\n",
       "      <td>2016-09-12</td>\n",
       "      <td>1</td>\n",
       "      <td>42</td>\n",
       "    </tr>\n",
       "    <tr>\n",
       "      <th>3</th>\n",
       "      <td>86063</td>\n",
       "      <td>2016-09-12</td>\n",
       "      <td>1</td>\n",
       "      <td>11</td>\n",
       "    </tr>\n",
       "    <tr>\n",
       "      <th>4</th>\n",
       "      <td>102848</td>\n",
       "      <td>2016-09-12</td>\n",
       "      <td>1</td>\n",
       "      <td>3</td>\n",
       "    </tr>\n",
       "  </tbody>\n",
       "</table>\n",
       "</div>"
      ],
      "text/plain": [
       "   user_uuid      moment  somaForum  somaEx\n",
       "0      13258  2016-09-12          4       1\n",
       "1     119614  2016-09-12          2       4\n",
       "2      82046  2016-09-12          1      42\n",
       "3      86063  2016-09-12          1      11\n",
       "4     102848  2016-09-12          1       3"
      ]
     },
     "execution_count": 13,
     "metadata": {},
     "output_type": "execute_result"
    }
   ],
   "source": [
    "teste = logsForum.merge(logsEx, left_on=['user_uuid','moment'], right_on=['user_uuid','moment'])\n",
    "teste = teste[(teste['somaEx'] < 300)]\n",
    "teste.head()"
   ]
  },
  {
   "cell_type": "code",
   "execution_count": 14,
   "metadata": {
    "scrolled": true
   },
   "outputs": [
    {
     "data": {
      "text/plain": [
       "<matplotlib.axes._subplots.AxesSubplot at 0x2e32481d670>"
      ]
     },
     "execution_count": 14,
     "metadata": {},
     "output_type": "execute_result"
    },
    {
     "data": {
      "image/png": "[encoded data removed]",
      "text/plain": [
       "<Figure size 432x288 with 1 Axes>"
      ]
     },
     "metadata": {
      "needs_background": "light"
     },
     "output_type": "display_data"
    }
   ],
   "source": [
    "teste.boxplot(column='somaEx', return_type='axes')"
   ]
  },
  {
   "cell_type": "code",
   "execution_count": 15,
   "metadata": {},
   "outputs": [
    {
     "data": {
      "text/plain": [
       "count    24059.000000\n",
       "mean         9.953074\n",
       "std         12.904675\n",
       "min          1.000000\n",
       "25%          3.000000\n",
       "50%          6.000000\n",
       "75%         12.000000\n",
       "max        260.000000\n",
       "Name: somaEx, dtype: float64"
      ]
     },
     "execution_count": 15,
     "metadata": {},
     "output_type": "execute_result"
    }
   ],
   "source": [
    "teste['somaEx'].describe()"
   ]
  },
  {
   "cell_type": "code",
   "execution_count": 16,
   "metadata": {
    "scrolled": true
   },
   "outputs": [
    {
     "data": {
      "text/plain": [
       "<matplotlib.axes._subplots.AxesSubplot at 0x2e3249756a0>"
      ]
     },
     "execution_count": 16,
     "metadata": {},
     "output_type": "execute_result"
    },
    {
     "data": {
      "image/png": "[encoded data removed]",
      "text/plain": [
       "<Figure size 432x288 with 1 Axes>"
      ]
     },
     "metadata": {
      "needs_background": "light"
     },
     "output_type": "display_data"
    }
   ],
   "source": [
    "teste.boxplot(column='somaForum', return_type='axes')"
   ]
  },
  {
   "cell_type": "code",
   "execution_count": 17,
   "metadata": {
    "scrolled": true
   },
   "outputs": [
    {
     "data": {
      "text/plain": [
       "count    24059.000000\n",
       "mean         1.787190\n",
       "std          2.193431\n",
       "min          1.000000\n",
       "25%          1.000000\n",
       "50%          1.000000\n",
       "75%          2.000000\n",
       "max         65.000000\n",
       "Name: somaForum, dtype: float64"
      ]
     },
     "execution_count": 17,
     "metadata": {},
     "output_type": "execute_result"
    }
   ],
   "source": [
    "teste['somaForum'].describe()"
   ]
  },
  {
   "cell_type": "code",
   "execution_count": 18,
   "metadata": {},
   "outputs": [
    {
     "name": "stderr",
     "output_type": "stream",
     "text": [
      "<ipython-input-18-6bbc223fbf2b>:3: SettingWithCopyWarning: \n",
      "A value is trying to be set on a copy of a slice from a DataFrame.\n",
      "Try using .loc[row_indexer,col_indexer] = value instead\n",
      "\n",
      "See the caveats in the documentation: https://pandas.pydata.org/pandas-docs/stable/user_guide/indexing.html#returning-a-view-versus-a-copy\n",
      "  activeYears['yearsActive'] = [relativedelta(datetime.now(), d).years for d in createdDates]\n",
      "<ipython-input-18-6bbc223fbf2b>:4: SettingWithCopyWarning: \n",
      "A value is trying to be set on a copy of a slice from a DataFrame.\n",
      "Try using .loc[row_indexer,col_indexer] = value instead\n",
      "\n",
      "See the caveats in the documentation: https://pandas.pydata.org/pandas-docs/stable/user_guide/indexing.html#returning-a-view-versus-a-copy\n",
      "  activeYears['creationDate'] = [i for i in createdDates]\n",
      "C:\\Users\\gabriel\\anaconda3\\lib\\site-packages\\pandas\\core\\frame.py:3990: SettingWithCopyWarning: \n",
      "A value is trying to be set on a copy of a slice from a DataFrame\n",
      "\n",
      "See the caveats in the documentation: https://pandas.pydata.org/pandas-docs/stable/user_guide/indexing.html#returning-a-view-versus-a-copy\n",
      "  return super().drop(\n"
     ]
    },
    {
     "data": {
      "text/html": [
       "<div>\n",
       "<style scoped>\n",
       "    .dataframe tbody tr th:only-of-type {\n",
       "        vertical-align: middle;\n",
       "    }\n",
       "\n",
       "    .dataframe tbody tr th {\n",
       "        vertical-align: top;\n",
       "    }\n",
       "\n",
       "    .dataframe thead th {\n",
       "        text-align: right;\n",
       "    }\n",
       "</style>\n",
       "<table border=\"1\" class=\"dataframe\">\n",
       "  <thead>\n",
       "    <tr style=\"text-align: right;\">\n",
       "      <th></th>\n",
       "      <th>uuid</th>\n",
       "      <th>yearsActive</th>\n",
       "      <th>creationDate</th>\n",
       "    </tr>\n",
       "  </thead>\n",
       "  <tbody>\n",
       "    <tr>\n",
       "      <th>3</th>\n",
       "      <td>129570</td>\n",
       "      <td>9</td>\n",
       "      <td>2011-08-19</td>\n",
       "    </tr>\n",
       "    <tr>\n",
       "      <th>64</th>\n",
       "      <td>55367</td>\n",
       "      <td>9</td>\n",
       "      <td>2011-09-22</td>\n",
       "    </tr>\n",
       "    <tr>\n",
       "      <th>69</th>\n",
       "      <td>41377</td>\n",
       "      <td>9</td>\n",
       "      <td>2011-09-22</td>\n",
       "    </tr>\n",
       "    <tr>\n",
       "      <th>77</th>\n",
       "      <td>124499</td>\n",
       "      <td>9</td>\n",
       "      <td>2011-09-23</td>\n",
       "    </tr>\n",
       "    <tr>\n",
       "      <th>123</th>\n",
       "      <td>41067</td>\n",
       "      <td>9</td>\n",
       "      <td>2011-10-10</td>\n",
       "    </tr>\n",
       "  </tbody>\n",
       "</table>\n",
       "</div>"
      ],
      "text/plain": [
       "       uuid  yearsActive creationDate\n",
       "3    129570            9   2011-08-19\n",
       "64    55367            9   2011-09-22\n",
       "69    41377            9   2011-09-22\n",
       "77   124499            9   2011-09-23\n",
       "123   41067            9   2011-10-10"
      ]
     },
     "execution_count": 18,
     "metadata": {},
     "output_type": "execute_result"
    }
   ],
   "source": [
    "activeYears = users[users['uuid'].isin(teste['user_uuid'])]\n",
    "createdDates= [pd.to_datetime(d) for d in activeYears['createdAt']]\n",
    "activeYears['yearsActive'] = [relativedelta(datetime.now(), d).years for d in createdDates]\n",
    "activeYears['creationDate'] = [i for i in createdDates]\n",
    "activeYears.drop(['createdAt','special_flagged'],axis=1,inplace=True)\n",
    "activeYears.head()"
   ]
  },
  {
   "cell_type": "code",
   "execution_count": 19,
   "metadata": {},
   "outputs": [
    {
     "data": {
      "text/html": [
       "<div>\n",
       "<style scoped>\n",
       "    .dataframe tbody tr th:only-of-type {\n",
       "        vertical-align: middle;\n",
       "    }\n",
       "\n",
       "    .dataframe tbody tr th {\n",
       "        vertical-align: top;\n",
       "    }\n",
       "\n",
       "    .dataframe thead th {\n",
       "        text-align: right;\n",
       "    }\n",
       "</style>\n",
       "<table border=\"1\" class=\"dataframe\">\n",
       "  <thead>\n",
       "    <tr style=\"text-align: right;\">\n",
       "      <th></th>\n",
       "      <th>user_uuid</th>\n",
       "      <th>moment</th>\n",
       "      <th>somaForum</th>\n",
       "      <th>somaEx</th>\n",
       "      <th>yearsActive</th>\n",
       "      <th>creationDate</th>\n",
       "      <th>avg</th>\n",
       "    </tr>\n",
       "  </thead>\n",
       "  <tbody>\n",
       "    <tr>\n",
       "      <th>26</th>\n",
       "      <td>13258</td>\n",
       "      <td>2017-01-05</td>\n",
       "      <td>5</td>\n",
       "      <td>5</td>\n",
       "      <td>4</td>\n",
       "      <td>2016-07-22</td>\n",
       "      <td>10.0</td>\n",
       "    </tr>\n",
       "    <tr>\n",
       "      <th>27</th>\n",
       "      <td>13258</td>\n",
       "      <td>2017-01-06</td>\n",
       "      <td>7</td>\n",
       "      <td>6</td>\n",
       "      <td>4</td>\n",
       "      <td>2016-07-22</td>\n",
       "      <td>13.0</td>\n",
       "    </tr>\n",
       "    <tr>\n",
       "      <th>28</th>\n",
       "      <td>13258</td>\n",
       "      <td>2017-01-07</td>\n",
       "      <td>7</td>\n",
       "      <td>11</td>\n",
       "      <td>4</td>\n",
       "      <td>2016-07-22</td>\n",
       "      <td>18.0</td>\n",
       "    </tr>\n",
       "    <tr>\n",
       "      <th>29</th>\n",
       "      <td>13258</td>\n",
       "      <td>2017-01-09</td>\n",
       "      <td>11</td>\n",
       "      <td>14</td>\n",
       "      <td>4</td>\n",
       "      <td>2016-07-22</td>\n",
       "      <td>25.0</td>\n",
       "    </tr>\n",
       "    <tr>\n",
       "      <th>30</th>\n",
       "      <td>13258</td>\n",
       "      <td>2017-01-10</td>\n",
       "      <td>16</td>\n",
       "      <td>12</td>\n",
       "      <td>4</td>\n",
       "      <td>2016-07-22</td>\n",
       "      <td>28.0</td>\n",
       "    </tr>\n",
       "  </tbody>\n",
       "</table>\n",
       "</div>"
      ],
      "text/plain": [
       "    user_uuid     moment  somaForum  somaEx  yearsActive creationDate   avg\n",
       "26      13258 2017-01-05          5       5            4   2016-07-22  10.0\n",
       "27      13258 2017-01-06          7       6            4   2016-07-22  13.0\n",
       "28      13258 2017-01-07          7      11            4   2016-07-22  18.0\n",
       "29      13258 2017-01-09         11      14            4   2016-07-22  25.0\n",
       "30      13258 2017-01-10         16      12            4   2016-07-22  28.0"
      ]
     },
     "execution_count": 19,
     "metadata": {},
     "output_type": "execute_result"
    }
   ],
   "source": [
    "avgPosts = teste.merge(activeYears,left_on='user_uuid',right_on='uuid')\n",
    "avgPosts.drop(['uuid'],axis=1,inplace=True)\n",
    "avgPosts['moment'] = pd.to_datetime(avgPosts['moment'])\n",
    "avgPosts['creationDate'] = pd.to_datetime(avgPosts['creationDate'])\n",
    "avgPosts['avg'] = (avgPosts['somaEx']+avgPosts['somaForum'])/(avgPosts['moment'].dt.year - avgPosts['creationDate'].dt.year)\n",
    "avgPosts.replace([np.inf, -np.inf], np.nan, inplace=True) \n",
    "avgPosts.dropna(inplace=True) \n",
    "  \n",
    "\n",
    "avgPosts.head()"
   ]
  },
  {
   "cell_type": "code",
   "execution_count": 20,
   "metadata": {},
   "outputs": [
    {
     "data": {
      "image/png": "[encoded data removed]",
      "text/plain": [
       "<Figure size 432x288 with 2 Axes>"
      ]
     },
     "metadata": {
      "needs_background": "light"
     },
     "output_type": "display_data"
    }
   ],
   "source": [
    "plt.scatter(x=avgPosts['somaForum'],y=avgPosts['somaEx'],c=avgPosts['avg'],cmap='jet')\n",
    "plt.xticks(rotation='vertical')\n",
    "plt.colorbar()\n",
    "plt.show()"
   ]
  },
  {
   "cell_type": "markdown",
   "metadata": {},
   "source": [
    "Com o plot de Forum X Exercícios acima, podemos perceber que não há uma correlação entre a atividade dos alunos nos fóruns e exercícios. Ademais, uma característica importante se tornou visível: conforme um aluno aumenta seu volume de atividades na plataforma, a tendência é que este se especialize em exercícios OU perguntas no fórum, nunca os dois juntos."
   ]
  },
  {
   "cell_type": "markdown",
   "metadata": {},
   "source": [
    "Relação entre tempo gasto em vídeo e quantidade de exercícios"
   ]
  },
  {
   "cell_type": "code",
   "execution_count": 21,
   "metadata": {},
   "outputs": [
    {
     "data": {
      "text/html": [
       "<div>\n",
       "<style scoped>\n",
       "    .dataframe tbody tr th:only-of-type {\n",
       "        vertical-align: middle;\n",
       "    }\n",
       "\n",
       "    .dataframe tbody tr th {\n",
       "        vertical-align: top;\n",
       "    }\n",
       "\n",
       "    .dataframe thead th {\n",
       "        text-align: right;\n",
       "    }\n",
       "</style>\n",
       "<table border=\"1\" class=\"dataframe\">\n",
       "  <thead>\n",
       "    <tr style=\"text-align: right;\">\n",
       "      <th></th>\n",
       "      <th>moment</th>\n",
       "      <th>somaEx</th>\n",
       "      <th>duration</th>\n",
       "      <th>uuid</th>\n",
       "    </tr>\n",
       "  </thead>\n",
       "  <tbody>\n",
       "    <tr>\n",
       "      <th>0</th>\n",
       "      <td>2016-09-12</td>\n",
       "      <td>47</td>\n",
       "      <td>192</td>\n",
       "      <td>57928</td>\n",
       "    </tr>\n",
       "    <tr>\n",
       "      <th>1</th>\n",
       "      <td>2016-09-13</td>\n",
       "      <td>13</td>\n",
       "      <td>192</td>\n",
       "      <td>57928</td>\n",
       "    </tr>\n",
       "    <tr>\n",
       "      <th>2</th>\n",
       "      <td>2016-09-14</td>\n",
       "      <td>28</td>\n",
       "      <td>192</td>\n",
       "      <td>57928</td>\n",
       "    </tr>\n",
       "    <tr>\n",
       "      <th>3</th>\n",
       "      <td>2016-09-15</td>\n",
       "      <td>6</td>\n",
       "      <td>192</td>\n",
       "      <td>57928</td>\n",
       "    </tr>\n",
       "    <tr>\n",
       "      <th>4</th>\n",
       "      <td>2016-09-16</td>\n",
       "      <td>8</td>\n",
       "      <td>192</td>\n",
       "      <td>57928</td>\n",
       "    </tr>\n",
       "  </tbody>\n",
       "</table>\n",
       "</div>"
      ],
      "text/plain": [
       "       moment  somaEx  duration   uuid\n",
       "0  2016-09-12      47       192  57928\n",
       "1  2016-09-13      13       192  57928\n",
       "2  2016-09-14      28       192  57928\n",
       "3  2016-09-15       6       192  57928\n",
       "4  2016-09-16       8       192  57928"
      ]
     },
     "execution_count": 21,
     "metadata": {},
     "output_type": "execute_result"
    }
   ],
   "source": [
    "tasksEx = logs.copy()\n",
    "\n",
    "tasksEx = tasksEx[tasksEx.kind!='FORUM_SOLVED']\n",
    "tasksEx = tasksEx[tasksEx.kind!='FORUM_POSTED']\n",
    "tasksEx = tasksEx[tasksEx.kind!='SUGGESTION_APPROVED']\n",
    "\n",
    "tasksEx.drop(['iterable_uuid'],axis=1,inplace=True)\n",
    "tasksEx['somaEx'] = tasksEx.groupby(['user_uuid','moment'])['kind'].transform('count')\n",
    "tasksEx.drop_duplicates(subset=['user_uuid','moment'],inplace=True)\n",
    "tasksEx.drop(['kind'],axis=1,inplace=True)\n",
    "tasksEx = tasksEx.merge(tasks[['duration','uuid']],left_on='user_uuid',right_on='uuid')\n",
    "tasksEx.drop(['user_uuid'],axis=1,inplace=True)\n",
    "tasksEx.head()"
   ]
  },
  {
   "cell_type": "code",
   "execution_count": 22,
   "metadata": {},
   "outputs": [
    {
     "data": {
      "text/plain": [
       "<matplotlib.axes._subplots.AxesSubplot at 0x2e328fc62b0>"
      ]
     },
     "execution_count": 22,
     "metadata": {},
     "output_type": "execute_result"
    },
    {
     "data": {
      "image/png": "[encoded data removed]",
      "text/plain": [
       "<Figure size 432x288 with 1 Axes>"
      ]
     },
     "metadata": {
      "needs_background": "light"
     },
     "output_type": "display_data"
    }
   ],
   "source": [
    "tasksEx = tasksEx[(tasksEx['duration'] > 0) & (tasksEx['duration'] < 1250) ]\n",
    "tasksEx.boxplot(column='duration',return_type='axes')"
   ]
  },
  {
   "cell_type": "code",
   "execution_count": 23,
   "metadata": {},
   "outputs": [
    {
     "data": {
      "text/plain": [
       "<matplotlib.axes._subplots.AxesSubplot at 0x2e329021a60>"
      ]
     },
     "execution_count": 23,
     "metadata": {},
     "output_type": "execute_result"
    },
    {
     "data": {
      "image/png": "[encoded data removed]",
      "text/plain": [
       "<Figure size 432x288 with 1 Axes>"
      ]
     },
     "metadata": {
      "needs_background": "light"
     },
     "output_type": "display_data"
    }
   ],
   "source": [
    "tasksEx = tasksEx[tasksEx['somaEx'] < 50]\n",
    "tasksEx.boxplot(column='somaEx',return_type='axes')"
   ]
  },
  {
   "cell_type": "code",
   "execution_count": 24,
   "metadata": {},
   "outputs": [],
   "source": [
    "tasksForumEx = tasksEx.merge(logsForum,left_on=['uuid','moment'],right_on=['user_uuid','moment'])\n",
    "tasksForumEx.drop(['user_uuid'],axis=1,inplace=True)"
   ]
  },
  {
   "cell_type": "code",
   "execution_count": 25,
   "metadata": {},
   "outputs": [
    {
     "data": {
      "text/html": [
       "<div>\n",
       "<style scoped>\n",
       "    .dataframe tbody tr th:only-of-type {\n",
       "        vertical-align: middle;\n",
       "    }\n",
       "\n",
       "    .dataframe tbody tr th {\n",
       "        vertical-align: top;\n",
       "    }\n",
       "\n",
       "    .dataframe thead th {\n",
       "        text-align: right;\n",
       "    }\n",
       "</style>\n",
       "<table border=\"1\" class=\"dataframe\">\n",
       "  <thead>\n",
       "    <tr style=\"text-align: right;\">\n",
       "      <th></th>\n",
       "      <th>moment</th>\n",
       "      <th>somaEx</th>\n",
       "      <th>duration</th>\n",
       "      <th>uuid</th>\n",
       "      <th>somaForum</th>\n",
       "    </tr>\n",
       "  </thead>\n",
       "  <tbody>\n",
       "    <tr>\n",
       "      <th>0</th>\n",
       "      <td>2016-09-13</td>\n",
       "      <td>13</td>\n",
       "      <td>192</td>\n",
       "      <td>57928</td>\n",
       "      <td>1</td>\n",
       "    </tr>\n",
       "    <tr>\n",
       "      <th>1</th>\n",
       "      <td>2018-08-17</td>\n",
       "      <td>31</td>\n",
       "      <td>192</td>\n",
       "      <td>57928</td>\n",
       "      <td>1</td>\n",
       "    </tr>\n",
       "    <tr>\n",
       "      <th>2</th>\n",
       "      <td>2016-09-13</td>\n",
       "      <td>19</td>\n",
       "      <td>85</td>\n",
       "      <td>16791</td>\n",
       "      <td>1</td>\n",
       "    </tr>\n",
       "    <tr>\n",
       "      <th>3</th>\n",
       "      <td>2017-02-14</td>\n",
       "      <td>7</td>\n",
       "      <td>85</td>\n",
       "      <td>16791</td>\n",
       "      <td>1</td>\n",
       "    </tr>\n",
       "    <tr>\n",
       "      <th>4</th>\n",
       "      <td>2016-09-20</td>\n",
       "      <td>28</td>\n",
       "      <td>310</td>\n",
       "      <td>23131</td>\n",
       "      <td>1</td>\n",
       "    </tr>\n",
       "  </tbody>\n",
       "</table>\n",
       "</div>"
      ],
      "text/plain": [
       "       moment  somaEx  duration   uuid  somaForum\n",
       "0  2016-09-13      13       192  57928          1\n",
       "1  2018-08-17      31       192  57928          1\n",
       "2  2016-09-13      19        85  16791          1\n",
       "3  2017-02-14       7        85  16791          1\n",
       "4  2016-09-20      28       310  23131          1"
      ]
     },
     "execution_count": 25,
     "metadata": {},
     "output_type": "execute_result"
    }
   ],
   "source": [
    "tasksForumEx.head()"
   ]
  },
  {
   "cell_type": "code",
   "execution_count": 26,
   "metadata": {},
   "outputs": [
    {
     "data": {
      "image/png": "[encoded data removed]",
      "text/plain": [
       "<Figure size 432x288 with 2 Axes>"
      ]
     },
     "metadata": {
      "needs_background": "light"
     },
     "output_type": "display_data"
    }
   ],
   "source": [
    "dates= [pd.to_datetime(d) for d in tasksForumEx['moment']]\n",
    "plt.scatter(x=tasksForumEx['duration'],y=tasksForumEx['somaEx'],c=tasksForumEx['somaForum'],cmap='jet')\n",
    "plt.colorbar()\n",
    "plt.show()"
   ]
  },
  {
   "cell_type": "markdown",
   "metadata": {},
   "source": [
    "Corroborando com o que foi dito anteriormente, aqui vemos, mais uma vez, a ausência de relação entre "
   ]
  },
  {
   "cell_type": "code",
   "execution_count": 27,
   "metadata": {},
   "outputs": [
    {
     "data": {
      "text/html": [
       "<div>\n",
       "<style scoped>\n",
       "    .dataframe tbody tr th:only-of-type {\n",
       "        vertical-align: middle;\n",
       "    }\n",
       "\n",
       "    .dataframe tbody tr th {\n",
       "        vertical-align: top;\n",
       "    }\n",
       "\n",
       "    .dataframe thead th {\n",
       "        text-align: right;\n",
       "    }\n",
       "</style>\n",
       "<table border=\"1\" class=\"dataframe\">\n",
       "  <thead>\n",
       "    <tr style=\"text-align: right;\">\n",
       "      <th></th>\n",
       "      <th>somaEx</th>\n",
       "      <th>duration</th>\n",
       "      <th>uuid</th>\n",
       "      <th>somaForum</th>\n",
       "    </tr>\n",
       "  </thead>\n",
       "  <tbody>\n",
       "    <tr>\n",
       "      <th>somaEx</th>\n",
       "      <td>1.000000</td>\n",
       "      <td>-0.022210</td>\n",
       "      <td>0.052386</td>\n",
       "      <td>-0.033022</td>\n",
       "    </tr>\n",
       "    <tr>\n",
       "      <th>duration</th>\n",
       "      <td>-0.022210</td>\n",
       "      <td>1.000000</td>\n",
       "      <td>0.036036</td>\n",
       "      <td>0.018567</td>\n",
       "    </tr>\n",
       "    <tr>\n",
       "      <th>uuid</th>\n",
       "      <td>0.052386</td>\n",
       "      <td>0.036036</td>\n",
       "      <td>1.000000</td>\n",
       "      <td>-0.043287</td>\n",
       "    </tr>\n",
       "    <tr>\n",
       "      <th>somaForum</th>\n",
       "      <td>-0.033022</td>\n",
       "      <td>0.018567</td>\n",
       "      <td>-0.043287</td>\n",
       "      <td>1.000000</td>\n",
       "    </tr>\n",
       "  </tbody>\n",
       "</table>\n",
       "</div>"
      ],
      "text/plain": [
       "             somaEx  duration      uuid  somaForum\n",
       "somaEx     1.000000 -0.022210  0.052386  -0.033022\n",
       "duration  -0.022210  1.000000  0.036036   0.018567\n",
       "uuid       0.052386  0.036036  1.000000  -0.043287\n",
       "somaForum -0.033022  0.018567 -0.043287   1.000000"
      ]
     },
     "execution_count": 27,
     "metadata": {},
     "output_type": "execute_result"
    }
   ],
   "source": [
    "tasksForumEx.corr()"
   ]
  },
  {
   "cell_type": "code",
   "execution_count": 28,
   "metadata": {},
   "outputs": [
    {
     "data": {
      "image/png": "[encoded data removed]",
      "text/plain": [
       "<Figure size 432x288 with 2 Axes>"
      ]
     },
     "metadata": {
      "needs_background": "light"
     },
     "output_type": "display_data"
    }
   ],
   "source": [
    "dates= [pd.to_datetime(d) for d in tasksForumEx['moment']]\n",
    "du= [d/10 for d in tasksForumEx['duration']]\n",
    "plt.scatter(x=dates,y=tasksForumEx['somaEx'],s=tasksForumEx['somaForum']*5,c=du,cmap='jet')\n",
    "plt.xticks(rotation='vertical')\n",
    "plt.colorbar()\n",
    "plt.show()"
   ]
  },
  {
   "cell_type": "markdown",
   "metadata": {},
   "source": [
    "Neste plot, percebemos algo interessante: o tempo que o aluno gasta em vídeo, representado no gráfico pela cor dos pontos, não tem correlação nem com a quantidade de exercícios feitos pelo aluno, nem com a atividade nos fóruns do mesmo. Ou seja, um aluno que assiste muitas aulas na plataforma não irá, necessáriamente, fazer muitos exercícios ou ser muito ativo nos fóruns online."
   ]
  },
  {
   "cell_type": "code",
   "execution_count": 29,
   "metadata": {},
   "outputs": [
    {
     "data": {
      "text/html": [
       "<div>\n",
       "<style scoped>\n",
       "    .dataframe tbody tr th:only-of-type {\n",
       "        vertical-align: middle;\n",
       "    }\n",
       "\n",
       "    .dataframe tbody tr th {\n",
       "        vertical-align: top;\n",
       "    }\n",
       "\n",
       "    .dataframe thead th {\n",
       "        text-align: right;\n",
       "    }\n",
       "</style>\n",
       "<table border=\"1\" class=\"dataframe\">\n",
       "  <thead>\n",
       "    <tr style=\"text-align: right;\">\n",
       "      <th></th>\n",
       "      <th>user_uuid</th>\n",
       "      <th>moment</th>\n",
       "      <th>somaForum</th>\n",
       "      <th>somaEx</th>\n",
       "      <th>yearsActive</th>\n",
       "      <th>creationDate</th>\n",
       "      <th>avg</th>\n",
       "      <th>duration</th>\n",
       "    </tr>\n",
       "  </thead>\n",
       "  <tbody>\n",
       "    <tr>\n",
       "      <th>0</th>\n",
       "      <td>13258</td>\n",
       "      <td>2017-01-05</td>\n",
       "      <td>184</td>\n",
       "      <td>263</td>\n",
       "      <td>4</td>\n",
       "      <td>2016-07-22</td>\n",
       "      <td>111.75</td>\n",
       "      <td>0</td>\n",
       "    </tr>\n",
       "    <tr>\n",
       "      <th>1</th>\n",
       "      <td>53284</td>\n",
       "      <td>2016-09-13</td>\n",
       "      <td>2</td>\n",
       "      <td>10</td>\n",
       "      <td>6</td>\n",
       "      <td>2014-01-09</td>\n",
       "      <td>2.00</td>\n",
       "      <td>981</td>\n",
       "    </tr>\n",
       "    <tr>\n",
       "      <th>2</th>\n",
       "      <td>27744</td>\n",
       "      <td>2017-11-15</td>\n",
       "      <td>1</td>\n",
       "      <td>15</td>\n",
       "      <td>4</td>\n",
       "      <td>2016-09-06</td>\n",
       "      <td>4.00</td>\n",
       "      <td>151</td>\n",
       "    </tr>\n",
       "    <tr>\n",
       "      <th>3</th>\n",
       "      <td>16791</td>\n",
       "      <td>2017-02-14</td>\n",
       "      <td>1</td>\n",
       "      <td>7</td>\n",
       "      <td>4</td>\n",
       "      <td>2016-08-01</td>\n",
       "      <td>2.00</td>\n",
       "      <td>85</td>\n",
       "    </tr>\n",
       "    <tr>\n",
       "      <th>4</th>\n",
       "      <td>57928</td>\n",
       "      <td>2018-08-17</td>\n",
       "      <td>1</td>\n",
       "      <td>31</td>\n",
       "      <td>4</td>\n",
       "      <td>2016-09-10</td>\n",
       "      <td>8.00</td>\n",
       "      <td>192</td>\n",
       "    </tr>\n",
       "  </tbody>\n",
       "</table>\n",
       "</div>"
      ],
      "text/plain": [
       "   user_uuid     moment  somaForum  somaEx  yearsActive creationDate     avg  \\\n",
       "0      13258 2017-01-05        184     263            4   2016-07-22  111.75   \n",
       "1      53284 2016-09-13          2      10            6   2014-01-09    2.00   \n",
       "2      27744 2017-11-15          1      15            4   2016-09-06    4.00   \n",
       "3      16791 2017-02-14          1       7            4   2016-08-01    2.00   \n",
       "4      57928 2018-08-17          1      31            4   2016-09-10    8.00   \n",
       "\n",
       "   duration  \n",
       "0         0  \n",
       "1       981  \n",
       "2       151  \n",
       "3        85  \n",
       "4       192  "
      ]
     },
     "execution_count": 29,
     "metadata": {},
     "output_type": "execute_result"
    }
   ],
   "source": [
    "scores = avgPosts.copy()\n",
    "scores['somaForum'] = scores.groupby('user_uuid')['somaForum'].transform('sum')\n",
    "scores['somaEx'] = scores.groupby('user_uuid')['somaEx'].transform('sum')\n",
    "scores['avg'] = (scores['somaForum']+scores['somaEx'])/(scores['yearsActive'])\n",
    "scores.drop_duplicates(subset='user_uuid',inplace=True)\n",
    "dscores = scores.merge(tasks,left_on='user_uuid',right_on='uuid')\n",
    "dscores['duration'] = dscores.groupby('user_uuid')['duration'].transform('sum')\n",
    "dscores.drop(['kind','status','course_uuid','uuid','createdAt'],axis=1,inplace=True)\n",
    "dscores.head()"
   ]
  },
  {
   "cell_type": "code",
   "execution_count": 30,
   "metadata": {},
   "outputs": [
    {
     "data": {
      "text/html": [
       "<div>\n",
       "<style scoped>\n",
       "    .dataframe tbody tr th:only-of-type {\n",
       "        vertical-align: middle;\n",
       "    }\n",
       "\n",
       "    .dataframe tbody tr th {\n",
       "        vertical-align: top;\n",
       "    }\n",
       "\n",
       "    .dataframe thead th {\n",
       "        text-align: right;\n",
       "    }\n",
       "</style>\n",
       "<table border=\"1\" class=\"dataframe\">\n",
       "  <thead>\n",
       "    <tr style=\"text-align: right;\">\n",
       "      <th></th>\n",
       "      <th>user_uuid</th>\n",
       "      <th>moment</th>\n",
       "      <th>somaForum</th>\n",
       "      <th>somaEx</th>\n",
       "      <th>yearsActive</th>\n",
       "      <th>creationDate</th>\n",
       "      <th>avg</th>\n",
       "      <th>duration</th>\n",
       "      <th>course_uuid</th>\n",
       "      <th>courses</th>\n",
       "    </tr>\n",
       "  </thead>\n",
       "  <tbody>\n",
       "    <tr>\n",
       "      <th>0</th>\n",
       "      <td>13258</td>\n",
       "      <td>2017-01-05</td>\n",
       "      <td>184</td>\n",
       "      <td>263</td>\n",
       "      <td>4</td>\n",
       "      <td>2016-07-22</td>\n",
       "      <td>111.75</td>\n",
       "      <td>0</td>\n",
       "      <td>801</td>\n",
       "      <td>28</td>\n",
       "    </tr>\n",
       "    <tr>\n",
       "      <th>28</th>\n",
       "      <td>53284</td>\n",
       "      <td>2016-09-13</td>\n",
       "      <td>2</td>\n",
       "      <td>10</td>\n",
       "      <td>6</td>\n",
       "      <td>2014-01-09</td>\n",
       "      <td>2.00</td>\n",
       "      <td>981</td>\n",
       "      <td>588</td>\n",
       "      <td>42</td>\n",
       "    </tr>\n",
       "    <tr>\n",
       "      <th>70</th>\n",
       "      <td>27744</td>\n",
       "      <td>2017-11-15</td>\n",
       "      <td>1</td>\n",
       "      <td>15</td>\n",
       "      <td>4</td>\n",
       "      <td>2016-09-06</td>\n",
       "      <td>4.00</td>\n",
       "      <td>151</td>\n",
       "      <td>843</td>\n",
       "      <td>16</td>\n",
       "    </tr>\n",
       "    <tr>\n",
       "      <th>86</th>\n",
       "      <td>16791</td>\n",
       "      <td>2017-02-14</td>\n",
       "      <td>1</td>\n",
       "      <td>7</td>\n",
       "      <td>4</td>\n",
       "      <td>2016-08-01</td>\n",
       "      <td>2.00</td>\n",
       "      <td>85</td>\n",
       "      <td>56</td>\n",
       "      <td>22</td>\n",
       "    </tr>\n",
       "    <tr>\n",
       "      <th>108</th>\n",
       "      <td>57928</td>\n",
       "      <td>2018-08-17</td>\n",
       "      <td>1</td>\n",
       "      <td>31</td>\n",
       "      <td>4</td>\n",
       "      <td>2016-09-10</td>\n",
       "      <td>8.00</td>\n",
       "      <td>192</td>\n",
       "      <td>375</td>\n",
       "      <td>7</td>\n",
       "    </tr>\n",
       "  </tbody>\n",
       "</table>\n",
       "</div>"
      ],
      "text/plain": [
       "     user_uuid     moment  somaForum  somaEx  yearsActive creationDate  \\\n",
       "0        13258 2017-01-05        184     263            4   2016-07-22   \n",
       "28       53284 2016-09-13          2      10            6   2014-01-09   \n",
       "70       27744 2017-11-15          1      15            4   2016-09-06   \n",
       "86       16791 2017-02-14          1       7            4   2016-08-01   \n",
       "108      57928 2018-08-17          1      31            4   2016-09-10   \n",
       "\n",
       "        avg  duration  course_uuid  courses  \n",
       "0    111.75         0          801       28  \n",
       "28     2.00       981          588       42  \n",
       "70     4.00       151          843       16  \n",
       "86     2.00        85           56       22  \n",
       "108    8.00       192          375        7  "
      ]
     },
     "execution_count": 30,
     "metadata": {},
     "output_type": "execute_result"
    }
   ],
   "source": [
    "selectRegs = regs[['user_uuid','course_uuid']]\n",
    "selectRegs = selectRegs[selectRegs['user_uuid'].isin(dscores['user_uuid'])]\n",
    "testeScore = dscores.merge(selectRegs,left_on='user_uuid',right_on='user_uuid')\n",
    "testeScore['courses'] = testeScore.groupby('user_uuid')['course_uuid'].transform('count')\n",
    "testeScore.drop_duplicates(subset='user_uuid',inplace=True)\n",
    "testeScore.head()"
   ]
  },
  {
   "cell_type": "markdown",
   "metadata": {},
   "source": [
    "Aqui, desenvolvemos uma metrica de score para os alunos"
   ]
  },
  {
   "cell_type": "code",
   "execution_count": 31,
   "metadata": {},
   "outputs": [],
   "source": [
    "testeScore = testeScore[(testeScore['avg']<50) & (testeScore['avg']>0)]\n",
    "testeScore = testeScore[testeScore['courses']>0]\n",
    "testeScore = testeScore[(testeScore['duration']<1200) & (testeScore['duration']>0)]\n",
    "normalEx = testeScore['somaEx']/testeScore['somaEx'].mean()\n",
    "normalForum = testeScore['somaForum']/testeScore['somaForum'].mean()\n",
    "normalDuration = testeScore['duration']/testeScore['duration'].mean()\n",
    "normalCourses = testeScore['courses']/testeScore['courses'].mean()\n",
    "testeScore['score'] = (normalEx+normalForum+normalDuration)/normalCourses"
   ]
  },
  {
   "cell_type": "markdown",
   "metadata": {},
   "source": [
    "Após estabelecida a métrica, veremos dados a respeito de cada um dos quartis de pontuação"
   ]
  },
  {
   "cell_type": "code",
   "execution_count": 32,
   "metadata": {},
   "outputs": [
    {
     "name": "stderr",
     "output_type": "stream",
     "text": [
      "<ipython-input-32-b73ecb70f4a1>:2: SettingWithCopyWarning: \n",
      "A value is trying to be set on a copy of a slice from a DataFrame.\n",
      "Try using .loc[row_indexer,col_indexer] = value instead\n",
      "\n",
      "See the caveats in the documentation: https://pandas.pydata.org/pandas-docs/stable/user_guide/indexing.html#returning-a-view-versus-a-copy\n",
      "  logFreq['entries'] = logFreq.groupby(['user_uuid','moment'])['moment'].transform('count')\n",
      "<ipython-input-32-b73ecb70f4a1>:3: SettingWithCopyWarning: \n",
      "A value is trying to be set on a copy of a slice from a DataFrame\n",
      "\n",
      "See the caveats in the documentation: https://pandas.pydata.org/pandas-docs/stable/user_guide/indexing.html#returning-a-view-versus-a-copy\n",
      "  logFreq.drop_duplicates(subset=['user_uuid','moment'],inplace=True)\n",
      "<ipython-input-32-b73ecb70f4a1>:4: SettingWithCopyWarning: \n",
      "A value is trying to be set on a copy of a slice from a DataFrame.\n",
      "Try using .loc[row_indexer,col_indexer] = value instead\n",
      "\n",
      "See the caveats in the documentation: https://pandas.pydata.org/pandas-docs/stable/user_guide/indexing.html#returning-a-view-versus-a-copy\n",
      "  logFreq['var'] = logFreq.groupby(['user_uuid'])['entries'].transform('var')\n"
     ]
    },
    {
     "data": {
      "text/html": [
       "<div>\n",
       "<style scoped>\n",
       "    .dataframe tbody tr th:only-of-type {\n",
       "        vertical-align: middle;\n",
       "    }\n",
       "\n",
       "    .dataframe tbody tr th {\n",
       "        vertical-align: top;\n",
       "    }\n",
       "\n",
       "    .dataframe thead th {\n",
       "        text-align: right;\n",
       "    }\n",
       "</style>\n",
       "<table border=\"1\" class=\"dataframe\">\n",
       "  <thead>\n",
       "    <tr style=\"text-align: right;\">\n",
       "      <th></th>\n",
       "      <th>user_uuid</th>\n",
       "      <th>moment</th>\n",
       "      <th>entries</th>\n",
       "      <th>var</th>\n",
       "    </tr>\n",
       "  </thead>\n",
       "  <tbody>\n",
       "    <tr>\n",
       "      <th>0</th>\n",
       "      <td>57928</td>\n",
       "      <td>2016-09-12</td>\n",
       "      <td>47</td>\n",
       "      <td>976.858974</td>\n",
       "    </tr>\n",
       "    <tr>\n",
       "      <th>1</th>\n",
       "      <td>73719</td>\n",
       "      <td>2016-09-12</td>\n",
       "      <td>5</td>\n",
       "      <td>55.314407</td>\n",
       "    </tr>\n",
       "    <tr>\n",
       "      <th>2</th>\n",
       "      <td>38957</td>\n",
       "      <td>2016-09-12</td>\n",
       "      <td>2</td>\n",
       "      <td>30.077558</td>\n",
       "    </tr>\n",
       "    <tr>\n",
       "      <th>3</th>\n",
       "      <td>59788</td>\n",
       "      <td>2016-09-12</td>\n",
       "      <td>28</td>\n",
       "      <td>90.730488</td>\n",
       "    </tr>\n",
       "    <tr>\n",
       "      <th>5</th>\n",
       "      <td>61315</td>\n",
       "      <td>2016-09-12</td>\n",
       "      <td>12</td>\n",
       "      <td>10.500000</td>\n",
       "    </tr>\n",
       "    <tr>\n",
       "      <th>7</th>\n",
       "      <td>15131</td>\n",
       "      <td>2016-09-12</td>\n",
       "      <td>14</td>\n",
       "      <td>40.703815</td>\n",
       "    </tr>\n",
       "    <tr>\n",
       "      <th>8</th>\n",
       "      <td>4717</td>\n",
       "      <td>2016-09-12</td>\n",
       "      <td>3</td>\n",
       "      <td>276.800000</td>\n",
       "    </tr>\n",
       "    <tr>\n",
       "      <th>9</th>\n",
       "      <td>50945</td>\n",
       "      <td>2016-09-12</td>\n",
       "      <td>10</td>\n",
       "      <td>34.905138</td>\n",
       "    </tr>\n",
       "    <tr>\n",
       "      <th>11</th>\n",
       "      <td>100329</td>\n",
       "      <td>2016-09-12</td>\n",
       "      <td>37</td>\n",
       "      <td>92.705426</td>\n",
       "    </tr>\n",
       "    <tr>\n",
       "      <th>12</th>\n",
       "      <td>41837</td>\n",
       "      <td>2016-09-12</td>\n",
       "      <td>11</td>\n",
       "      <td>744.673831</td>\n",
       "    </tr>\n",
       "  </tbody>\n",
       "</table>\n",
       "</div>"
      ],
      "text/plain": [
       "    user_uuid      moment  entries         var\n",
       "0       57928  2016-09-12       47  976.858974\n",
       "1       73719  2016-09-12        5   55.314407\n",
       "2       38957  2016-09-12        2   30.077558\n",
       "3       59788  2016-09-12       28   90.730488\n",
       "5       61315  2016-09-12       12   10.500000\n",
       "7       15131  2016-09-12       14   40.703815\n",
       "8        4717  2016-09-12        3  276.800000\n",
       "9       50945  2016-09-12       10   34.905138\n",
       "11     100329  2016-09-12       37   92.705426\n",
       "12      41837  2016-09-12       11  744.673831"
      ]
     },
     "execution_count": 32,
     "metadata": {},
     "output_type": "execute_result"
    }
   ],
   "source": [
    "logFreq = logs[['user_uuid','moment']]\n",
    "logFreq['entries'] = logFreq.groupby(['user_uuid','moment'])['moment'].transform('count')\n",
    "logFreq.drop_duplicates(subset=['user_uuid','moment'],inplace=True)\n",
    "logFreq['var'] = logFreq.groupby(['user_uuid'])['entries'].transform('var')\n",
    "logFreq.head(10)"
   ]
  },
  {
   "cell_type": "code",
   "execution_count": 33,
   "metadata": {},
   "outputs": [],
   "source": [
    "scoreFreq = testeScore.merge(logFreq[['user_uuid','var','entries']],left_on='user_uuid',right_on='user_uuid')\n",
    "scoreFreq['entries'] = scoreFreq.groupby(['user_uuid'])['entries'].transform('sum')\n",
    "scoreFreq.drop_duplicates(subset='user_uuid',inplace=True)\n",
    "scoreFreq.drop(['course_uuid'],axis=1,inplace=True)"
   ]
  },
  {
   "cell_type": "code",
   "execution_count": 34,
   "metadata": {},
   "outputs": [
    {
     "data": {
      "text/html": [
       "<div>\n",
       "<style scoped>\n",
       "    .dataframe tbody tr th:only-of-type {\n",
       "        vertical-align: middle;\n",
       "    }\n",
       "\n",
       "    .dataframe tbody tr th {\n",
       "        vertical-align: top;\n",
       "    }\n",
       "\n",
       "    .dataframe thead th {\n",
       "        text-align: right;\n",
       "    }\n",
       "</style>\n",
       "<table border=\"1\" class=\"dataframe\">\n",
       "  <thead>\n",
       "    <tr style=\"text-align: right;\">\n",
       "      <th></th>\n",
       "      <th>user_uuid</th>\n",
       "      <th>moment</th>\n",
       "      <th>somaForum</th>\n",
       "      <th>somaEx</th>\n",
       "      <th>yearsActive</th>\n",
       "      <th>creationDate</th>\n",
       "      <th>avg</th>\n",
       "      <th>duration</th>\n",
       "      <th>courses</th>\n",
       "      <th>score</th>\n",
       "      <th>var</th>\n",
       "      <th>entries</th>\n",
       "    </tr>\n",
       "  </thead>\n",
       "  <tbody>\n",
       "    <tr>\n",
       "      <th>0</th>\n",
       "      <td>53284</td>\n",
       "      <td>2016-09-13</td>\n",
       "      <td>2</td>\n",
       "      <td>10</td>\n",
       "      <td>6</td>\n",
       "      <td>2014-01-09</td>\n",
       "      <td>2.0</td>\n",
       "      <td>981</td>\n",
       "      <td>42</td>\n",
       "      <td>2.477376</td>\n",
       "      <td>114.612987</td>\n",
       "      <td>416</td>\n",
       "    </tr>\n",
       "    <tr>\n",
       "      <th>56</th>\n",
       "      <td>27744</td>\n",
       "      <td>2017-11-15</td>\n",
       "      <td>1</td>\n",
       "      <td>15</td>\n",
       "      <td>4</td>\n",
       "      <td>2016-09-06</td>\n",
       "      <td>4.0</td>\n",
       "      <td>151</td>\n",
       "      <td>16</td>\n",
       "      <td>2.934830</td>\n",
       "      <td>21.509801</td>\n",
       "      <td>903</td>\n",
       "    </tr>\n",
       "    <tr>\n",
       "      <th>212</th>\n",
       "      <td>16791</td>\n",
       "      <td>2017-02-14</td>\n",
       "      <td>1</td>\n",
       "      <td>7</td>\n",
       "      <td>4</td>\n",
       "      <td>2016-08-01</td>\n",
       "      <td>2.0</td>\n",
       "      <td>85</td>\n",
       "      <td>22</td>\n",
       "      <td>1.294749</td>\n",
       "      <td>78.987805</td>\n",
       "      <td>357</td>\n",
       "    </tr>\n",
       "    <tr>\n",
       "      <th>254</th>\n",
       "      <td>57928</td>\n",
       "      <td>2018-08-17</td>\n",
       "      <td>1</td>\n",
       "      <td>31</td>\n",
       "      <td>4</td>\n",
       "      <td>2016-09-10</td>\n",
       "      <td>8.0</td>\n",
       "      <td>192</td>\n",
       "      <td>7</td>\n",
       "      <td>11.118681</td>\n",
       "      <td>976.858974</td>\n",
       "      <td>361</td>\n",
       "    </tr>\n",
       "    <tr>\n",
       "      <th>267</th>\n",
       "      <td>6338</td>\n",
       "      <td>2016-09-14</td>\n",
       "      <td>1</td>\n",
       "      <td>2</td>\n",
       "      <td>5</td>\n",
       "      <td>2015-06-27</td>\n",
       "      <td>0.6</td>\n",
       "      <td>1087</td>\n",
       "      <td>15</td>\n",
       "      <td>5.770098</td>\n",
       "      <td>21.362637</td>\n",
       "      <td>82</td>\n",
       "    </tr>\n",
       "  </tbody>\n",
       "</table>\n",
       "</div>"
      ],
      "text/plain": [
       "     user_uuid     moment  somaForum  somaEx  yearsActive creationDate  avg  \\\n",
       "0        53284 2016-09-13          2      10            6   2014-01-09  2.0   \n",
       "56       27744 2017-11-15          1      15            4   2016-09-06  4.0   \n",
       "212      16791 2017-02-14          1       7            4   2016-08-01  2.0   \n",
       "254      57928 2018-08-17          1      31            4   2016-09-10  8.0   \n",
       "267       6338 2016-09-14          1       2            5   2015-06-27  0.6   \n",
       "\n",
       "     duration  courses      score         var  entries  \n",
       "0         981       42   2.477376  114.612987      416  \n",
       "56        151       16   2.934830   21.509801      903  \n",
       "212        85       22   1.294749   78.987805      357  \n",
       "254       192        7  11.118681  976.858974      361  \n",
       "267      1087       15   5.770098   21.362637       82  "
      ]
     },
     "execution_count": 34,
     "metadata": {},
     "output_type": "execute_result"
    }
   ],
   "source": [
    "scoreFreq.head()"
   ]
  },
  {
   "cell_type": "code",
   "execution_count": 35,
   "metadata": {
    "scrolled": true
   },
   "outputs": [
    {
     "data": {
      "image/png": "[encoded data removed]",
      "text/plain": [
       "<Figure size 432x288 with 2 Axes>"
      ]
     },
     "metadata": {
      "needs_background": "light"
     },
     "output_type": "display_data"
    }
   ],
   "source": [
    "scoreFreq.plot(kind='scatter',x='var',y='score',colormap='jet',c=scoreFreq.yearsActive/scoreFreq.yearsActive.mean())\n",
    "plt.show()"
   ]
  },
  {
   "cell_type": "code",
   "execution_count": 36,
   "metadata": {},
   "outputs": [
    {
     "data": {
      "image/png": "[encoded data removed]",
      "text/plain": [
       "<Figure size 432x288 with 2 Axes>"
      ]
     },
     "metadata": {
      "needs_background": "light"
     },
     "output_type": "display_data"
    }
   ],
   "source": [
    "scoreFreq.plot(kind='scatter',x='courses',y='score',colormap='jet',c='entries',loglog=True)\n",
    "plt.show()"
   ]
  },
  {
   "cell_type": "code",
   "execution_count": 64,
   "metadata": {},
   "outputs": [
    {
     "data": {
      "image/png": "[encoded data removed]",
      "text/plain": [
       "<Figure size 432x288 with 2 Axes>"
      ]
     },
     "metadata": {
      "needs_background": "light"
     },
     "output_type": "display_data"
    }
   ],
   "source": [
    "scoreFreq.plot(kind='scatter',x='courses',y='score',colormap='jet',c='yearsActive',loglog=True)\n",
    "plt.show()"
   ]
  },
  {
   "cell_type": "code",
   "execution_count": 63,
   "metadata": {},
   "outputs": [
    {
     "data": {
      "image/png": "[encoded data removed]",
      "text/plain": [
       "<Figure size 432x288 with 2 Axes>"
      ]
     },
     "metadata": {
      "needs_background": "light"
     },
     "output_type": "display_data"
    }
   ],
   "source": [
    "scoreFreq.plot(kind='scatter',x='var',y='score',colormap='jet',c='entries',loglog=True)\n",
    "plt.show()"
   ]
  },
  {
   "cell_type": "markdown",
   "metadata": {},
   "source": [
    "Iniciar aqui a seleção dos 25% mais ativos, utilizando o critério de mais tempo assistindo vídeos na plataforma:"
   ]
  },
  {
   "cell_type": "code",
   "execution_count": 38,
   "metadata": {},
   "outputs": [
    {
     "data": {
      "text/html": [
       "<div>\n",
       "<style scoped>\n",
       "    .dataframe tbody tr th:only-of-type {\n",
       "        vertical-align: middle;\n",
       "    }\n",
       "\n",
       "    .dataframe tbody tr th {\n",
       "        vertical-align: top;\n",
       "    }\n",
       "\n",
       "    .dataframe thead th {\n",
       "        text-align: right;\n",
       "    }\n",
       "</style>\n",
       "<table border=\"1\" class=\"dataframe\">\n",
       "  <thead>\n",
       "    <tr style=\"text-align: right;\">\n",
       "      <th></th>\n",
       "      <th>duration</th>\n",
       "      <th>uuid</th>\n",
       "    </tr>\n",
       "  </thead>\n",
       "  <tbody>\n",
       "    <tr>\n",
       "      <th>22063</th>\n",
       "      <td>1497</td>\n",
       "      <td>4298</td>\n",
       "    </tr>\n",
       "    <tr>\n",
       "      <th>35342</th>\n",
       "      <td>1496</td>\n",
       "      <td>49765</td>\n",
       "    </tr>\n",
       "    <tr>\n",
       "      <th>24124</th>\n",
       "      <td>1496</td>\n",
       "      <td>47443</td>\n",
       "    </tr>\n",
       "    <tr>\n",
       "      <th>39779</th>\n",
       "      <td>1490</td>\n",
       "      <td>12482</td>\n",
       "    </tr>\n",
       "    <tr>\n",
       "      <th>2646</th>\n",
       "      <td>1489</td>\n",
       "      <td>61167</td>\n",
       "    </tr>\n",
       "  </tbody>\n",
       "</table>\n",
       "</div>"
      ],
      "text/plain": [
       "       duration   uuid\n",
       "22063      1497   4298\n",
       "35342      1496  49765\n",
       "24124      1496  47443\n",
       "39779      1490  12482\n",
       "2646       1489  61167"
      ]
     },
     "execution_count": 38,
     "metadata": {},
     "output_type": "execute_result"
    }
   ],
   "source": [
    "timeWatched = tasks[['duration','uuid']]\n",
    "#remover 0 minutos (ruido)\n",
    "timeWatched = timeWatched[(timeWatched['duration'] > 0) & (timeWatched['duration'] < 1500)]\n",
    "timeWatched.sort_values(by='duration', ascending=False).head()"
   ]
  },
  {
   "cell_type": "code",
   "execution_count": 39,
   "metadata": {},
   "outputs": [
    {
     "data": {
      "text/plain": [
       "<matplotlib.axes._subplots.AxesSubplot at 0x2e32a7fb6a0>"
      ]
     },
     "execution_count": 39,
     "metadata": {},
     "output_type": "execute_result"
    },
    {
     "data": {
      "image/png": "[encoded data removed]",
      "text/plain": [
       "<Figure size 432x288 with 1 Axes>"
      ]
     },
     "metadata": {
      "needs_background": "light"
     },
     "output_type": "display_data"
    }
   ],
   "source": [
    "timeWatched.boxplot(column='duration', return_type='axes')"
   ]
  },
  {
   "cell_type": "code",
   "execution_count": 40,
   "metadata": {},
   "outputs": [
    {
     "data": {
      "text/plain": [
       "array([[<matplotlib.axes._subplots.AxesSubplot object at 0x000002E32A29FE50>]],\n",
       "      dtype=object)"
      ]
     },
     "execution_count": 40,
     "metadata": {},
     "output_type": "execute_result"
    },
    {
     "data": {
      "image/png": "[encoded data removed]",
      "text/plain": [
       "<Figure size 432x288 with 1 Axes>"
      ]
     },
     "metadata": {
      "needs_background": "light"
     },
     "output_type": "display_data"
    }
   ],
   "source": [
    "timeWatched.hist(column='duration',bins=30)"
   ]
  },
  {
   "cell_type": "code",
   "execution_count": 41,
   "metadata": {},
   "outputs": [
    {
     "data": {
      "text/html": [
       "<div>\n",
       "<style scoped>\n",
       "    .dataframe tbody tr th:only-of-type {\n",
       "        vertical-align: middle;\n",
       "    }\n",
       "\n",
       "    .dataframe tbody tr th {\n",
       "        vertical-align: top;\n",
       "    }\n",
       "\n",
       "    .dataframe thead th {\n",
       "        text-align: right;\n",
       "    }\n",
       "</style>\n",
       "<table border=\"1\" class=\"dataframe\">\n",
       "  <thead>\n",
       "    <tr style=\"text-align: right;\">\n",
       "      <th></th>\n",
       "      <th>duration</th>\n",
       "      <th>uuid</th>\n",
       "    </tr>\n",
       "  </thead>\n",
       "  <tbody>\n",
       "    <tr>\n",
       "      <th>22063</th>\n",
       "      <td>1497</td>\n",
       "      <td>4298</td>\n",
       "    </tr>\n",
       "    <tr>\n",
       "      <th>35342</th>\n",
       "      <td>1496</td>\n",
       "      <td>49765</td>\n",
       "    </tr>\n",
       "    <tr>\n",
       "      <th>24124</th>\n",
       "      <td>1496</td>\n",
       "      <td>47443</td>\n",
       "    </tr>\n",
       "    <tr>\n",
       "      <th>39779</th>\n",
       "      <td>1490</td>\n",
       "      <td>12482</td>\n",
       "    </tr>\n",
       "    <tr>\n",
       "      <th>2646</th>\n",
       "      <td>1489</td>\n",
       "      <td>61167</td>\n",
       "    </tr>\n",
       "  </tbody>\n",
       "</table>\n",
       "</div>"
      ],
      "text/plain": [
       "       duration   uuid\n",
       "22063      1497   4298\n",
       "35342      1496  49765\n",
       "24124      1496  47443\n",
       "39779      1490  12482\n",
       "2646       1489  61167"
      ]
     },
     "execution_count": 41,
     "metadata": {},
     "output_type": "execute_result"
    }
   ],
   "source": [
    "#pegar os top 25% com mais tempo assistido\n",
    "top25 = timeWatched.sort_values(by='duration', ascending=False).head(int(len(timeWatched)*0.25))\n",
    "top25.head()"
   ]
  },
  {
   "cell_type": "code",
   "execution_count": 42,
   "metadata": {},
   "outputs": [
    {
     "data": {
      "text/plain": [
       "array([[<matplotlib.axes._subplots.AxesSubplot object at 0x000002E329346550>]],\n",
       "      dtype=object)"
      ]
     },
     "execution_count": 42,
     "metadata": {},
     "output_type": "execute_result"
    },
    {
     "data": {
      "image/png": "[encoded data removed]",
      "text/plain": [
       "<Figure size 432x288 with 1 Axes>"
      ]
     },
     "metadata": {
      "needs_background": "light"
     },
     "output_type": "display_data"
    }
   ],
   "source": [
    "top25.hist(column='duration', bins=30)"
   ]
  },
  {
   "cell_type": "markdown",
   "metadata": {},
   "source": [
    "Acima, temos a distribuição do tempo em que os alunos do quartil superior gastam na plataforma (Tempo em minutos X quantidade de alunos)"
   ]
  },
  {
   "cell_type": "code",
   "execution_count": 43,
   "metadata": {},
   "outputs": [
    {
     "data": {
      "text/html": [
       "<div>\n",
       "<style scoped>\n",
       "    .dataframe tbody tr th:only-of-type {\n",
       "        vertical-align: middle;\n",
       "    }\n",
       "\n",
       "    .dataframe tbody tr th {\n",
       "        vertical-align: top;\n",
       "    }\n",
       "\n",
       "    .dataframe thead th {\n",
       "        text-align: right;\n",
       "    }\n",
       "</style>\n",
       "<table border=\"1\" class=\"dataframe\">\n",
       "  <thead>\n",
       "    <tr style=\"text-align: right;\">\n",
       "      <th></th>\n",
       "      <th>duration</th>\n",
       "      <th>uuid</th>\n",
       "      <th>user_uuid</th>\n",
       "      <th>course_uuid</th>\n",
       "      <th>createdAt</th>\n",
       "      <th>finishedAt</th>\n",
       "      <th>lastAccessDate</th>\n",
       "      <th>currentState</th>\n",
       "    </tr>\n",
       "  </thead>\n",
       "  <tbody>\n",
       "    <tr>\n",
       "      <th>0</th>\n",
       "      <td>1496</td>\n",
       "      <td>47443</td>\n",
       "      <td>47443</td>\n",
       "      <td>1012</td>\n",
       "      <td>2017-02-23 16:16:27</td>\n",
       "      <td>NaN</td>\n",
       "      <td>2017-05-03 22:38:01</td>\n",
       "      <td>IN_PROGRESS</td>\n",
       "    </tr>\n",
       "    <tr>\n",
       "      <th>1</th>\n",
       "      <td>1496</td>\n",
       "      <td>47443</td>\n",
       "      <td>47443</td>\n",
       "      <td>1039</td>\n",
       "      <td>2017-02-23 16:55:09</td>\n",
       "      <td>2017-03-12 22:31:50</td>\n",
       "      <td>2017-03-12 22:31:42</td>\n",
       "      <td>IN_PROGRESS</td>\n",
       "    </tr>\n",
       "    <tr>\n",
       "      <th>2</th>\n",
       "      <td>1496</td>\n",
       "      <td>47443</td>\n",
       "      <td>47443</td>\n",
       "      <td>1057</td>\n",
       "      <td>2017-02-23 22:00:18</td>\n",
       "      <td>2017-10-10 21:43:44</td>\n",
       "      <td>2017-10-10 21:44:39</td>\n",
       "      <td>IN_PROGRESS</td>\n",
       "    </tr>\n",
       "    <tr>\n",
       "      <th>3</th>\n",
       "      <td>1496</td>\n",
       "      <td>47443</td>\n",
       "      <td>47443</td>\n",
       "      <td>983</td>\n",
       "      <td>2017-02-23 22:00:55</td>\n",
       "      <td>2017-10-16 20:17:24</td>\n",
       "      <td>2018-01-08 20:26:25</td>\n",
       "      <td>IN_PROGRESS</td>\n",
       "    </tr>\n",
       "    <tr>\n",
       "      <th>4</th>\n",
       "      <td>1496</td>\n",
       "      <td>47443</td>\n",
       "      <td>47443</td>\n",
       "      <td>1002</td>\n",
       "      <td>2017-02-23 22:02:39</td>\n",
       "      <td>2017-02-24 00:26:42</td>\n",
       "      <td>2017-02-24 00:26:35</td>\n",
       "      <td>IN_PROGRESS</td>\n",
       "    </tr>\n",
       "  </tbody>\n",
       "</table>\n",
       "</div>"
      ],
      "text/plain": [
       "   duration   uuid  user_uuid  course_uuid            createdAt  \\\n",
       "0      1496  47443      47443         1012  2017-02-23 16:16:27   \n",
       "1      1496  47443      47443         1039  2017-02-23 16:55:09   \n",
       "2      1496  47443      47443         1057  2017-02-23 22:00:18   \n",
       "3      1496  47443      47443          983  2017-02-23 22:00:55   \n",
       "4      1496  47443      47443         1002  2017-02-23 22:02:39   \n",
       "\n",
       "            finishedAt       lastAccessDate currentState  \n",
       "0                  NaN  2017-05-03 22:38:01  IN_PROGRESS  \n",
       "1  2017-03-12 22:31:50  2017-03-12 22:31:42  IN_PROGRESS  \n",
       "2  2017-10-10 21:43:44  2017-10-10 21:44:39  IN_PROGRESS  \n",
       "3  2017-10-16 20:17:24  2018-01-08 20:26:25  IN_PROGRESS  \n",
       "4  2017-02-24 00:26:42  2017-02-24 00:26:35  IN_PROGRESS  "
      ]
     },
     "execution_count": 43,
     "metadata": {},
     "output_type": "execute_result"
    }
   ],
   "source": [
    "statuses = top25.merge(regs, left_on='uuid',right_on='user_uuid')\n",
    "statuses.head()"
   ]
  },
  {
   "cell_type": "code",
   "execution_count": 44,
   "metadata": {},
   "outputs": [],
   "source": [
    "statuses = statuses[statuses.currentState!='NOT_VISIBLE']\n",
    "statuses = statuses[statuses.currentState!='BOOKMARKED']"
   ]
  },
  {
   "cell_type": "markdown",
   "metadata": {},
   "source": [
    "Aqui, fazemos a remoção de estados de curso irrelevantes para nossa análise, deixando apenas IN_PROGRESS e PAUSED a serem analisados"
   ]
  },
  {
   "cell_type": "code",
   "execution_count": 45,
   "metadata": {},
   "outputs": [],
   "source": [
    "#curso completado -> com data e in_progress // curso pausado -> resto\n",
    "statuses['completion'] = np.where((statuses['currentState']=='IN_PROGRESS') & (statuses['finishedAt'].notna()), 'completed', 'paused')"
   ]
  },
  {
   "cell_type": "code",
   "execution_count": 46,
   "metadata": {},
   "outputs": [
    {
     "data": {
      "text/html": [
       "<div>\n",
       "<style scoped>\n",
       "    .dataframe tbody tr th:only-of-type {\n",
       "        vertical-align: middle;\n",
       "    }\n",
       "\n",
       "    .dataframe tbody tr th {\n",
       "        vertical-align: top;\n",
       "    }\n",
       "\n",
       "    .dataframe thead th {\n",
       "        text-align: right;\n",
       "    }\n",
       "</style>\n",
       "<table border=\"1\" class=\"dataframe\">\n",
       "  <thead>\n",
       "    <tr style=\"text-align: right;\">\n",
       "      <th></th>\n",
       "      <th>uuid</th>\n",
       "      <th>user_uuid</th>\n",
       "      <th>course_uuid</th>\n",
       "      <th>createdAt</th>\n",
       "      <th>finishedAt</th>\n",
       "      <th>lastAccessDate</th>\n",
       "      <th>currentState</th>\n",
       "      <th>completion</th>\n",
       "    </tr>\n",
       "  </thead>\n",
       "  <tbody>\n",
       "    <tr>\n",
       "      <th>0</th>\n",
       "      <td>47443</td>\n",
       "      <td>47443</td>\n",
       "      <td>1012</td>\n",
       "      <td>2017-02-23 16:16:27</td>\n",
       "      <td>NaN</td>\n",
       "      <td>2017-05-03 22:38:01</td>\n",
       "      <td>IN_PROGRESS</td>\n",
       "      <td>paused</td>\n",
       "    </tr>\n",
       "    <tr>\n",
       "      <th>1</th>\n",
       "      <td>47443</td>\n",
       "      <td>47443</td>\n",
       "      <td>1039</td>\n",
       "      <td>2017-02-23 16:55:09</td>\n",
       "      <td>2017-03-12 22:31:50</td>\n",
       "      <td>2017-03-12 22:31:42</td>\n",
       "      <td>IN_PROGRESS</td>\n",
       "      <td>completed</td>\n",
       "    </tr>\n",
       "    <tr>\n",
       "      <th>2</th>\n",
       "      <td>47443</td>\n",
       "      <td>47443</td>\n",
       "      <td>1057</td>\n",
       "      <td>2017-02-23 22:00:18</td>\n",
       "      <td>2017-10-10 21:43:44</td>\n",
       "      <td>2017-10-10 21:44:39</td>\n",
       "      <td>IN_PROGRESS</td>\n",
       "      <td>completed</td>\n",
       "    </tr>\n",
       "    <tr>\n",
       "      <th>3</th>\n",
       "      <td>47443</td>\n",
       "      <td>47443</td>\n",
       "      <td>983</td>\n",
       "      <td>2017-02-23 22:00:55</td>\n",
       "      <td>2017-10-16 20:17:24</td>\n",
       "      <td>2018-01-08 20:26:25</td>\n",
       "      <td>IN_PROGRESS</td>\n",
       "      <td>completed</td>\n",
       "    </tr>\n",
       "    <tr>\n",
       "      <th>4</th>\n",
       "      <td>47443</td>\n",
       "      <td>47443</td>\n",
       "      <td>1002</td>\n",
       "      <td>2017-02-23 22:02:39</td>\n",
       "      <td>2017-02-24 00:26:42</td>\n",
       "      <td>2017-02-24 00:26:35</td>\n",
       "      <td>IN_PROGRESS</td>\n",
       "      <td>completed</td>\n",
       "    </tr>\n",
       "  </tbody>\n",
       "</table>\n",
       "</div>"
      ],
      "text/plain": [
       "    uuid  user_uuid  course_uuid            createdAt           finishedAt  \\\n",
       "0  47443      47443         1012  2017-02-23 16:16:27                  NaN   \n",
       "1  47443      47443         1039  2017-02-23 16:55:09  2017-03-12 22:31:50   \n",
       "2  47443      47443         1057  2017-02-23 22:00:18  2017-10-10 21:43:44   \n",
       "3  47443      47443          983  2017-02-23 22:00:55  2017-10-16 20:17:24   \n",
       "4  47443      47443         1002  2017-02-23 22:02:39  2017-02-24 00:26:42   \n",
       "\n",
       "        lastAccessDate currentState completion  \n",
       "0  2017-05-03 22:38:01  IN_PROGRESS     paused  \n",
       "1  2017-03-12 22:31:42  IN_PROGRESS  completed  \n",
       "2  2017-10-10 21:44:39  IN_PROGRESS  completed  \n",
       "3  2018-01-08 20:26:25  IN_PROGRESS  completed  \n",
       "4  2017-02-24 00:26:35  IN_PROGRESS  completed  "
      ]
     },
     "execution_count": 46,
     "metadata": {},
     "output_type": "execute_result"
    }
   ],
   "source": [
    "statuses.drop(['duration'],axis=1,inplace=True)\n",
    "statuses.head()"
   ]
  },
  {
   "cell_type": "code",
   "execution_count": 47,
   "metadata": {},
   "outputs": [
    {
     "data": {
      "text/plain": [
       "<matplotlib.axes._subplots.AxesSubplot at 0x2e3292ef580>"
      ]
     },
     "execution_count": 47,
     "metadata": {},
     "output_type": "execute_result"
    },
    {
     "data": {
      "image/png": "[encoded data removed]",
      "text/plain": [
       "<Figure size 432x288 with 1 Axes>"
      ]
     },
     "metadata": {},
     "output_type": "display_data"
    }
   ],
   "source": [
    "statuses.groupby('completion')['completion'].count().plot.pie(colors = ['green','yellow'], autopct='%1.1f%%',title='Course completion',)"
   ]
  },
  {
   "cell_type": "code",
   "execution_count": 48,
   "metadata": {},
   "outputs": [
    {
     "data": {
      "text/plain": [
       "completion\n",
       "completed     8405\n",
       "paused       13512\n",
       "Name: completion, dtype: int64"
      ]
     },
     "execution_count": 48,
     "metadata": {},
     "output_type": "execute_result"
    }
   ],
   "source": [
    "statuses.groupby('completion')['completion'].count()"
   ]
  },
  {
   "cell_type": "markdown",
   "metadata": {},
   "source": [
    "Pelo gráfico, percebe-se que a maioria dos alunos os quais consideramos \"os mais estudiosos\" não completam seus cursos, mas sim os pausam em pontos arbitrários, sem necessáriamente haver um critério"
   ]
  },
  {
   "cell_type": "code",
   "execution_count": 49,
   "metadata": {},
   "outputs": [
    {
     "data": {
      "text/html": [
       "<div>\n",
       "<style scoped>\n",
       "    .dataframe tbody tr th:only-of-type {\n",
       "        vertical-align: middle;\n",
       "    }\n",
       "\n",
       "    .dataframe tbody tr th {\n",
       "        vertical-align: top;\n",
       "    }\n",
       "\n",
       "    .dataframe thead th {\n",
       "        text-align: right;\n",
       "    }\n",
       "</style>\n",
       "<table border=\"1\" class=\"dataframe\">\n",
       "  <thead>\n",
       "    <tr style=\"text-align: right;\">\n",
       "      <th></th>\n",
       "      <th>createdAt</th>\n",
       "      <th>level</th>\n",
       "      <th>publicatedAt</th>\n",
       "      <th>totalVideoTime</th>\n",
       "      <th>subCategory_id</th>\n",
       "      <th>situation</th>\n",
       "      <th>isProject</th>\n",
       "      <th>removedAt</th>\n",
       "      <th>uuid</th>\n",
       "      <th>substitute_uuid</th>\n",
       "    </tr>\n",
       "  </thead>\n",
       "  <tbody>\n",
       "    <tr>\n",
       "      <th>0</th>\n",
       "      <td>2011-09-22</td>\n",
       "      <td>1</td>\n",
       "      <td>2011-09-22</td>\n",
       "      <td>51</td>\n",
       "      <td>30</td>\n",
       "      <td>PUBLISHED</td>\n",
       "      <td>0</td>\n",
       "      <td>NaN</td>\n",
       "      <td>588</td>\n",
       "      <td>NaN</td>\n",
       "    </tr>\n",
       "    <tr>\n",
       "      <th>1</th>\n",
       "      <td>2011-10-27</td>\n",
       "      <td>5</td>\n",
       "      <td>2011-10-27</td>\n",
       "      <td>72</td>\n",
       "      <td>21</td>\n",
       "      <td>PUBLISHED</td>\n",
       "      <td>0</td>\n",
       "      <td>NaN</td>\n",
       "      <td>840</td>\n",
       "      <td>NaN</td>\n",
       "    </tr>\n",
       "    <tr>\n",
       "      <th>2</th>\n",
       "      <td>2012-02-15</td>\n",
       "      <td>1</td>\n",
       "      <td>2012-02-15</td>\n",
       "      <td>112</td>\n",
       "      <td>1</td>\n",
       "      <td>PUBLISHED</td>\n",
       "      <td>0</td>\n",
       "      <td>NaN</td>\n",
       "      <td>764</td>\n",
       "      <td>NaN</td>\n",
       "    </tr>\n",
       "    <tr>\n",
       "      <th>3</th>\n",
       "      <td>2012-03-07</td>\n",
       "      <td>5</td>\n",
       "      <td>2012-03-07</td>\n",
       "      <td>83</td>\n",
       "      <td>21</td>\n",
       "      <td>PUBLISHED</td>\n",
       "      <td>0</td>\n",
       "      <td>NaN</td>\n",
       "      <td>720</td>\n",
       "      <td>NaN</td>\n",
       "    </tr>\n",
       "    <tr>\n",
       "      <th>4</th>\n",
       "      <td>2012-05-29</td>\n",
       "      <td>1</td>\n",
       "      <td>2012-05-29</td>\n",
       "      <td>70</td>\n",
       "      <td>48</td>\n",
       "      <td>PUBLISHED</td>\n",
       "      <td>0</td>\n",
       "      <td>NaN</td>\n",
       "      <td>937</td>\n",
       "      <td>NaN</td>\n",
       "    </tr>\n",
       "  </tbody>\n",
       "</table>\n",
       "</div>"
      ],
      "text/plain": [
       "    createdAt  level publicatedAt  totalVideoTime  subCategory_id  situation  \\\n",
       "0  2011-09-22      1   2011-09-22              51              30  PUBLISHED   \n",
       "1  2011-10-27      5   2011-10-27              72              21  PUBLISHED   \n",
       "2  2012-02-15      1   2012-02-15             112               1  PUBLISHED   \n",
       "3  2012-03-07      5   2012-03-07              83              21  PUBLISHED   \n",
       "4  2012-05-29      1   2012-05-29              70              48  PUBLISHED   \n",
       "\n",
       "   isProject removedAt  uuid  substitute_uuid  \n",
       "0          0       NaN   588              NaN  \n",
       "1          0       NaN   840              NaN  \n",
       "2          0       NaN   764              NaN  \n",
       "3          0       NaN   720              NaN  \n",
       "4          0       NaN   937              NaN  "
      ]
     },
     "execution_count": 49,
     "metadata": {},
     "output_type": "execute_result"
    }
   ],
   "source": [
    "courses.head()"
   ]
  },
  {
   "cell_type": "code",
   "execution_count": 50,
   "metadata": {},
   "outputs": [
    {
     "data": {
      "text/plain": [
       "level\n",
       "1     664\n",
       "5     375\n",
       "10     50\n",
       "Name: level, dtype: int64"
      ]
     },
     "execution_count": 50,
     "metadata": {},
     "output_type": "execute_result"
    }
   ],
   "source": [
    "courses.groupby('level')['level'].count()"
   ]
  },
  {
   "cell_type": "code",
   "execution_count": 51,
   "metadata": {},
   "outputs": [
    {
     "data": {
      "text/html": [
       "<div>\n",
       "<style scoped>\n",
       "    .dataframe tbody tr th:only-of-type {\n",
       "        vertical-align: middle;\n",
       "    }\n",
       "\n",
       "    .dataframe tbody tr th {\n",
       "        vertical-align: top;\n",
       "    }\n",
       "\n",
       "    .dataframe thead th {\n",
       "        text-align: right;\n",
       "    }\n",
       "</style>\n",
       "<table border=\"1\" class=\"dataframe\">\n",
       "  <thead>\n",
       "    <tr style=\"text-align: right;\">\n",
       "      <th></th>\n",
       "      <th>uuid_x</th>\n",
       "      <th>kind</th>\n",
       "      <th>status</th>\n",
       "      <th>course_uuid</th>\n",
       "      <th>level</th>\n",
       "      <th>publicatedAt</th>\n",
       "      <th>totalVideoTime</th>\n",
       "      <th>subCategory_id</th>\n",
       "      <th>situation</th>\n",
       "      <th>isProject</th>\n",
       "      <th>removedAt</th>\n",
       "      <th>substitute_uuid</th>\n",
       "    </tr>\n",
       "  </thead>\n",
       "  <tbody>\n",
       "    <tr>\n",
       "      <th>0</th>\n",
       "      <td>4298</td>\n",
       "      <td>VIDEO</td>\n",
       "      <td>ACTIVE</td>\n",
       "      <td>591</td>\n",
       "      <td>1</td>\n",
       "      <td>2018-04-06</td>\n",
       "      <td>0</td>\n",
       "      <td>107</td>\n",
       "      <td>PUBLISHED</td>\n",
       "      <td>0</td>\n",
       "      <td>NaN</td>\n",
       "      <td>NaN</td>\n",
       "    </tr>\n",
       "    <tr>\n",
       "      <th>1</th>\n",
       "      <td>18189</td>\n",
       "      <td>VIDEO</td>\n",
       "      <td>ACTIVE</td>\n",
       "      <td>591</td>\n",
       "      <td>1</td>\n",
       "      <td>2018-04-06</td>\n",
       "      <td>0</td>\n",
       "      <td>107</td>\n",
       "      <td>PUBLISHED</td>\n",
       "      <td>0</td>\n",
       "      <td>NaN</td>\n",
       "      <td>NaN</td>\n",
       "    </tr>\n",
       "    <tr>\n",
       "      <th>2</th>\n",
       "      <td>33089</td>\n",
       "      <td>VIDEO</td>\n",
       "      <td>ACTIVE</td>\n",
       "      <td>591</td>\n",
       "      <td>1</td>\n",
       "      <td>2018-04-06</td>\n",
       "      <td>0</td>\n",
       "      <td>107</td>\n",
       "      <td>PUBLISHED</td>\n",
       "      <td>0</td>\n",
       "      <td>NaN</td>\n",
       "      <td>NaN</td>\n",
       "    </tr>\n",
       "    <tr>\n",
       "      <th>3</th>\n",
       "      <td>26139</td>\n",
       "      <td>VIDEO</td>\n",
       "      <td>ACTIVE</td>\n",
       "      <td>591</td>\n",
       "      <td>1</td>\n",
       "      <td>2018-04-06</td>\n",
       "      <td>0</td>\n",
       "      <td>107</td>\n",
       "      <td>PUBLISHED</td>\n",
       "      <td>0</td>\n",
       "      <td>NaN</td>\n",
       "      <td>NaN</td>\n",
       "    </tr>\n",
       "    <tr>\n",
       "      <th>4</th>\n",
       "      <td>2363</td>\n",
       "      <td>VIDEO</td>\n",
       "      <td>ACTIVE</td>\n",
       "      <td>591</td>\n",
       "      <td>1</td>\n",
       "      <td>2018-04-06</td>\n",
       "      <td>0</td>\n",
       "      <td>107</td>\n",
       "      <td>PUBLISHED</td>\n",
       "      <td>0</td>\n",
       "      <td>NaN</td>\n",
       "      <td>NaN</td>\n",
       "    </tr>\n",
       "  </tbody>\n",
       "</table>\n",
       "</div>"
      ],
      "text/plain": [
       "   uuid_x   kind  status  course_uuid  level publicatedAt  totalVideoTime  \\\n",
       "0    4298  VIDEO  ACTIVE          591      1   2018-04-06               0   \n",
       "1   18189  VIDEO  ACTIVE          591      1   2018-04-06               0   \n",
       "2   33089  VIDEO  ACTIVE          591      1   2018-04-06               0   \n",
       "3   26139  VIDEO  ACTIVE          591      1   2018-04-06               0   \n",
       "4    2363  VIDEO  ACTIVE          591      1   2018-04-06               0   \n",
       "\n",
       "   subCategory_id  situation  isProject removedAt  substitute_uuid  \n",
       "0             107  PUBLISHED          0       NaN              NaN  \n",
       "1             107  PUBLISHED          0       NaN              NaN  \n",
       "2             107  PUBLISHED          0       NaN              NaN  \n",
       "3             107  PUBLISHED          0       NaN              NaN  \n",
       "4             107  PUBLISHED          0       NaN              NaN  "
      ]
     },
     "execution_count": 51,
     "metadata": {},
     "output_type": "execute_result"
    }
   ],
   "source": [
    "top25_courses = top25.merge(tasks, left_on='uuid',right_on='uuid')\n",
    "top25_courses = top25_courses.merge(courses, left_on='course_uuid',right_on='uuid')\n",
    "top25_courses.drop(['duration_x','duration_y','createdAt_x','createdAt_y','uuid_y'],axis=1,inplace=True)\n",
    "top25_courses.head()"
   ]
  },
  {
   "cell_type": "code",
   "execution_count": 52,
   "metadata": {},
   "outputs": [
    {
     "data": {
      "text/plain": [
       "level\n",
       "1     2350\n",
       "5     1463\n",
       "10     175\n",
       "Name: level, dtype: int64"
      ]
     },
     "execution_count": 52,
     "metadata": {},
     "output_type": "execute_result"
    }
   ],
   "source": [
    "top25_courses.groupby('level')['level'].count()"
   ]
  },
  {
   "cell_type": "markdown",
   "metadata": {},
   "source": [
    "Temos abaixo o gráfico que ilustra uma predominância de cursos considerados \"mais fáceis\" dentre esse público."
   ]
  },
  {
   "cell_type": "code",
   "execution_count": 53,
   "metadata": {},
   "outputs": [
    {
     "data": {
      "text/plain": [
       "<matplotlib.axes._subplots.AxesSubplot at 0x2e32934adc0>"
      ]
     },
     "execution_count": 53,
     "metadata": {},
     "output_type": "execute_result"
    },
    {
     "data": {
      "image/png": "[encoded data removed]",
      "text/plain": [
       "<Figure size 432x288 with 1 Axes>"
      ]
     },
     "metadata": {},
     "output_type": "display_data"
    }
   ],
   "source": [
    "top25_courses.groupby('level')['level'].count().plot.pie(colors = ['green','orange','red'], autopct='%1.0f%%',title='Course difficulty')"
   ]
  },
  {
   "cell_type": "code",
   "execution_count": 54,
   "metadata": {
    "scrolled": true
   },
   "outputs": [
    {
     "data": {
      "text/html": [
       "<div>\n",
       "<style scoped>\n",
       "    .dataframe tbody tr th:only-of-type {\n",
       "        vertical-align: middle;\n",
       "    }\n",
       "\n",
       "    .dataframe tbody tr th {\n",
       "        vertical-align: top;\n",
       "    }\n",
       "\n",
       "    .dataframe thead th {\n",
       "        text-align: right;\n",
       "    }\n",
       "</style>\n",
       "<table border=\"1\" class=\"dataframe\">\n",
       "  <thead>\n",
       "    <tr style=\"text-align: right;\">\n",
       "      <th></th>\n",
       "      <th>uuid</th>\n",
       "      <th>completionRate</th>\n",
       "      <th>courseCount</th>\n",
       "    </tr>\n",
       "  </thead>\n",
       "  <tbody>\n",
       "    <tr>\n",
       "      <th>0</th>\n",
       "      <td>47443</td>\n",
       "      <td>64.864865</td>\n",
       "      <td>37</td>\n",
       "    </tr>\n",
       "    <tr>\n",
       "      <th>37</th>\n",
       "      <td>12482</td>\n",
       "      <td>66.666667</td>\n",
       "      <td>3</td>\n",
       "    </tr>\n",
       "    <tr>\n",
       "      <th>40</th>\n",
       "      <td>61167</td>\n",
       "      <td>60.000000</td>\n",
       "      <td>5</td>\n",
       "    </tr>\n",
       "    <tr>\n",
       "      <th>45</th>\n",
       "      <td>24052</td>\n",
       "      <td>0.000000</td>\n",
       "      <td>2</td>\n",
       "    </tr>\n",
       "    <tr>\n",
       "      <th>47</th>\n",
       "      <td>19775</td>\n",
       "      <td>38.709677</td>\n",
       "      <td>31</td>\n",
       "    </tr>\n",
       "  </tbody>\n",
       "</table>\n",
       "</div>"
      ],
      "text/plain": [
       "     uuid  completionRate  courseCount\n",
       "0   47443       64.864865           37\n",
       "37  12482       66.666667            3\n",
       "40  61167       60.000000            5\n",
       "45  24052        0.000000            2\n",
       "47  19775       38.709677           31"
      ]
     },
     "execution_count": 54,
     "metadata": {},
     "output_type": "execute_result"
    }
   ],
   "source": [
    "teste = statuses.merge(top25_courses, left_on='uuid',right_on='uuid_x')\n",
    "teste.drop(['uuid_x', 'course_uuid_y'],axis=1,inplace=True)\n",
    "teste['completion'] = teste['completion'].replace('completed', 1)\n",
    "teste['completion'] = teste['completion'].replace('paused', 0)\n",
    "teste['courseCount'] = teste.groupby('uuid')['course_uuid_x'].transform('count')\n",
    "teste['completionRate'] = 100*teste.groupby(by=['uuid'])['completion'].transform('sum')/teste['courseCount']\n",
    "teste = teste[['uuid','completionRate','courseCount']]\n",
    "teste.drop_duplicates(subset=['uuid'],keep='first',inplace=True)\n",
    "teste.head()"
   ]
  },
  {
   "cell_type": "markdown",
   "metadata": {},
   "source": [
    "Finalmente, temos abaixo uma distribuição ta taxa de conclusão dos cursos entre os 25% mais ativos na plataforma."
   ]
  },
  {
   "cell_type": "code",
   "execution_count": 55,
   "metadata": {},
   "outputs": [
    {
     "data": {
      "text/plain": [
       "Text(0.5, 1.0, 'Taxa de completude dos cursos')"
      ]
     },
     "execution_count": 55,
     "metadata": {},
     "output_type": "execute_result"
    },
    {
     "data": {
      "image/png": "[encoded data removed]",
      "text/plain": [
       "<Figure size 432x288 with 1 Axes>"
      ]
     },
     "metadata": {
      "needs_background": "light"
     },
     "output_type": "display_data"
    }
   ],
   "source": [
    "teste.hist(column='completionRate',bins=30)\n",
    "plt.title('Taxa de completude dos cursos')"
   ]
  },
  {
   "cell_type": "markdown",
   "metadata": {},
   "source": [
    "Percebemos aqui que, em par com o que já foi comentado anteriormente, a grande maioria dos alunos analisados não completa nem 20% dos cursos em que se inscreve."
   ]
  }
 ],
 "metadata": {
  "kernelspec": {
   "display_name": "Python 3",
   "language": "python",
   "name": "python3"
  },
  "language_info": {
   "codemirror_mode": {
    "name": "ipython",
    "version": 3
   },
   "file_extension": ".py",
   "mimetype": "text/x-python",
   "name": "python",
   "nbconvert_exporter": "python",
   "pygments_lexer": "ipython3",
   "version": "3.8.3"
  }
 },
 "nbformat": 4,
 "nbformat_minor": 2
}
