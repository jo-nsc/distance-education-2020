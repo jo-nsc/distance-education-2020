{
 "cells": [
  {
   "cell_type": "code",
   "execution_count": 2,
   "metadata": {},
   "outputs": [],
   "source": [
    "import numpy as np\n",
    "import pandas as pd"
   ]
  },
  {
   "cell_type": "code",
   "execution_count": 3,
   "metadata": {},
   "outputs": [],
   "source": [
    "courses = pd.read_csv('OneDrive/Área de Trabalho/mac434/anonimized_courses.csv')\n",
    "logs = pd.read_csv('OneDrive/Área de Trabalho/mac434/anonimized_logs.csv')\n",
    "regs = pd.read_csv('OneDrive/Área de Trabalho/mac434/anonimized_registrations.csv')\n",
    "sections = pd.read_csv('OneDrive/Área de Trabalho/mac434/anonimized_sections.csv')\n",
    "tasks = pd.read_csv('OneDrive/Área de Trabalho/mac434/anonimized_tasks.csv')\n",
    "users = pd.read_csv('OneDrive/Área de Trabalho/mac434/anonimized_users.csv')"
   ]
  },
  {
   "cell_type": "markdown",
   "metadata": {},
   "source": [
    "Iniciar aqui a seleção dos 25 mais ativos, utilizando o critério de mais tempo assistindo vídeos na plataforma:"
   ]
  },
  {
   "cell_type": "code",
   "execution_count": 5,
   "metadata": {},
   "outputs": [
    {
     "data": {
      "text/html": [
       "<div>\n",
       "<style scoped>\n",
       "    .dataframe tbody tr th:only-of-type {\n",
       "        vertical-align: middle;\n",
       "    }\n",
       "\n",
       "    .dataframe tbody tr th {\n",
       "        vertical-align: top;\n",
       "    }\n",
       "\n",
       "    .dataframe thead th {\n",
       "        text-align: right;\n",
       "    }\n",
       "</style>\n",
       "<table border=\"1\" class=\"dataframe\">\n",
       "  <thead>\n",
       "    <tr style=\"text-align: right;\">\n",
       "      <th></th>\n",
       "      <th>duration</th>\n",
       "      <th>uuid</th>\n",
       "    </tr>\n",
       "  </thead>\n",
       "  <tbody>\n",
       "    <tr>\n",
       "      <th>3624</th>\n",
       "      <td>2649</td>\n",
       "      <td>26524</td>\n",
       "    </tr>\n",
       "    <tr>\n",
       "      <th>9876</th>\n",
       "      <td>2379</td>\n",
       "      <td>29717</td>\n",
       "    </tr>\n",
       "    <tr>\n",
       "      <th>3230</th>\n",
       "      <td>2372</td>\n",
       "      <td>62809</td>\n",
       "    </tr>\n",
       "    <tr>\n",
       "      <th>6676</th>\n",
       "      <td>2209</td>\n",
       "      <td>13311</td>\n",
       "    </tr>\n",
       "    <tr>\n",
       "      <th>2958</th>\n",
       "      <td>2094</td>\n",
       "      <td>15093</td>\n",
       "    </tr>\n",
       "  </tbody>\n",
       "</table>\n",
       "</div>"
      ],
      "text/plain": [
       "      duration   uuid\n",
       "3624      2649  26524\n",
       "9876      2379  29717\n",
       "3230      2372  62809\n",
       "6676      2209  13311\n",
       "2958      2094  15093"
      ]
     },
     "execution_count": 5,
     "metadata": {},
     "output_type": "execute_result"
    }
   ],
   "source": [
    "timeWatched = tasks[['duration','uuid']]\n",
    "#remover 0 minutos (ruido)\n",
    "timeWatched = timeWatched[timeWatched['duration'] > 0]\n",
    "timeWatched.sort_values(by='duration', ascending=False).head()"
   ]
  },
  {
   "cell_type": "code",
   "execution_count": 6,
   "metadata": {},
   "outputs": [
    {
     "data": {
      "text/plain": [
       "array([[<matplotlib.axes._subplots.AxesSubplot object at 0x000001E703431908>]],\n",
       "      dtype=object)"
      ]
     },
     "execution_count": 6,
     "metadata": {},
     "output_type": "execute_result"
    }
   ],
   "source": [
    "timeWatched.hist(column='duration',bins=30)"
   ]
  },
  {
   "cell_type": "code",
   "execution_count": 7,
   "metadata": {},
   "outputs": [
    {
     "data": {
      "text/html": [
       "<div>\n",
       "<style scoped>\n",
       "    .dataframe tbody tr th:only-of-type {\n",
       "        vertical-align: middle;\n",
       "    }\n",
       "\n",
       "    .dataframe tbody tr th {\n",
       "        vertical-align: top;\n",
       "    }\n",
       "\n",
       "    .dataframe thead th {\n",
       "        text-align: right;\n",
       "    }\n",
       "</style>\n",
       "<table border=\"1\" class=\"dataframe\">\n",
       "  <thead>\n",
       "    <tr style=\"text-align: right;\">\n",
       "      <th></th>\n",
       "      <th>duration</th>\n",
       "      <th>uuid</th>\n",
       "    </tr>\n",
       "  </thead>\n",
       "  <tbody>\n",
       "    <tr>\n",
       "      <th>3624</th>\n",
       "      <td>2649</td>\n",
       "      <td>26524</td>\n",
       "    </tr>\n",
       "    <tr>\n",
       "      <th>9876</th>\n",
       "      <td>2379</td>\n",
       "      <td>29717</td>\n",
       "    </tr>\n",
       "    <tr>\n",
       "      <th>3230</th>\n",
       "      <td>2372</td>\n",
       "      <td>62809</td>\n",
       "    </tr>\n",
       "    <tr>\n",
       "      <th>6676</th>\n",
       "      <td>2209</td>\n",
       "      <td>13311</td>\n",
       "    </tr>\n",
       "    <tr>\n",
       "      <th>2958</th>\n",
       "      <td>2094</td>\n",
       "      <td>15093</td>\n",
       "    </tr>\n",
       "  </tbody>\n",
       "</table>\n",
       "</div>"
      ],
      "text/plain": [
       "      duration   uuid\n",
       "3624      2649  26524\n",
       "9876      2379  29717\n",
       "3230      2372  62809\n",
       "6676      2209  13311\n",
       "2958      2094  15093"
      ]
     },
     "execution_count": 7,
     "metadata": {},
     "output_type": "execute_result"
    }
   ],
   "source": [
    "#pegar os top 25% com mais tempo assistido\n",
    "top25 = timeWatched.sort_values(by='duration', ascending=False).head(int(len(timeWatched)*0.25))\n",
    "top25.head()"
   ]
  },
  {
   "cell_type": "code",
   "execution_count": 8,
   "metadata": {},
   "outputs": [
    {
     "data": {
      "text/plain": [
       "array([[<matplotlib.axes._subplots.AxesSubplot object at 0x000001E704303C50>]],\n",
       "      dtype=object)"
      ]
     },
     "execution_count": 8,
     "metadata": {},
     "output_type": "execute_result"
    },
    {
     "data": {
      "image/png": "[encoded data removed]",
      "text/plain": [
       "<Figure size 432x288 with 1 Axes>"
      ]
     },
     "metadata": {
      "needs_background": "light"
     },
     "output_type": "display_data"
    }
   ],
   "source": [
    "top25.hist(column='duration', bins=30)"
   ]
  },
  {
   "cell_type": "markdown",
   "metadata": {},
   "source": [
    "Acima, temos a distribuição do tempo em que os alunos do quartil superior gastam na plataforma (Tempo em minutos X quantidade de alunos)"
   ]
  },
  {
   "cell_type": "code",
   "execution_count": 9,
   "metadata": {},
   "outputs": [
    {
     "data": {
      "text/html": [
       "<div>\n",
       "<style scoped>\n",
       "    .dataframe tbody tr th:only-of-type {\n",
       "        vertical-align: middle;\n",
       "    }\n",
       "\n",
       "    .dataframe tbody tr th {\n",
       "        vertical-align: top;\n",
       "    }\n",
       "\n",
       "    .dataframe thead th {\n",
       "        text-align: right;\n",
       "    }\n",
       "</style>\n",
       "<table border=\"1\" class=\"dataframe\">\n",
       "  <thead>\n",
       "    <tr style=\"text-align: right;\">\n",
       "      <th></th>\n",
       "      <th>duration</th>\n",
       "      <th>uuid</th>\n",
       "      <th>user_uuid</th>\n",
       "      <th>course_uuid</th>\n",
       "      <th>createdAt</th>\n",
       "      <th>finishedAt</th>\n",
       "      <th>lastAccessDate</th>\n",
       "      <th>currentState</th>\n",
       "    </tr>\n",
       "  </thead>\n",
       "  <tbody>\n",
       "    <tr>\n",
       "      <th>0</th>\n",
       "      <td>2649</td>\n",
       "      <td>26524</td>\n",
       "      <td>26524</td>\n",
       "      <td>928</td>\n",
       "      <td>2017-08-05 14:18:18</td>\n",
       "      <td>NaN</td>\n",
       "      <td>2019-06-07 15:31:44</td>\n",
       "      <td>IN_PROGRESS</td>\n",
       "    </tr>\n",
       "    <tr>\n",
       "      <th>1</th>\n",
       "      <td>2649</td>\n",
       "      <td>26524</td>\n",
       "      <td>26524</td>\n",
       "      <td>543</td>\n",
       "      <td>2017-08-08 07:29:22</td>\n",
       "      <td>NaN</td>\n",
       "      <td>2017-08-08 10:37:59</td>\n",
       "      <td>IN_PROGRESS</td>\n",
       "    </tr>\n",
       "    <tr>\n",
       "      <th>2</th>\n",
       "      <td>2649</td>\n",
       "      <td>26524</td>\n",
       "      <td>26524</td>\n",
       "      <td>49</td>\n",
       "      <td>2017-08-16 13:09:18</td>\n",
       "      <td>NaN</td>\n",
       "      <td>2017-08-19 18:10:32</td>\n",
       "      <td>IN_PROGRESS</td>\n",
       "    </tr>\n",
       "    <tr>\n",
       "      <th>3</th>\n",
       "      <td>2649</td>\n",
       "      <td>26524</td>\n",
       "      <td>26524</td>\n",
       "      <td>117</td>\n",
       "      <td>2017-08-16 13:45:16</td>\n",
       "      <td>NaN</td>\n",
       "      <td>2017-08-23 20:40:32</td>\n",
       "      <td>IN_PROGRESS</td>\n",
       "    </tr>\n",
       "    <tr>\n",
       "      <th>4</th>\n",
       "      <td>2649</td>\n",
       "      <td>26524</td>\n",
       "      <td>26524</td>\n",
       "      <td>1028</td>\n",
       "      <td>2017-10-05 15:51:58</td>\n",
       "      <td>NaN</td>\n",
       "      <td>2017-10-05 15:53:22</td>\n",
       "      <td>IN_PROGRESS</td>\n",
       "    </tr>\n",
       "  </tbody>\n",
       "</table>\n",
       "</div>"
      ],
      "text/plain": [
       "   duration   uuid  user_uuid  course_uuid            createdAt finishedAt  \\\n",
       "0      2649  26524      26524          928  2017-08-05 14:18:18        NaN   \n",
       "1      2649  26524      26524          543  2017-08-08 07:29:22        NaN   \n",
       "2      2649  26524      26524           49  2017-08-16 13:09:18        NaN   \n",
       "3      2649  26524      26524          117  2017-08-16 13:45:16        NaN   \n",
       "4      2649  26524      26524         1028  2017-10-05 15:51:58        NaN   \n",
       "\n",
       "        lastAccessDate currentState  \n",
       "0  2019-06-07 15:31:44  IN_PROGRESS  \n",
       "1  2017-08-08 10:37:59  IN_PROGRESS  \n",
       "2  2017-08-19 18:10:32  IN_PROGRESS  \n",
       "3  2017-08-23 20:40:32  IN_PROGRESS  \n",
       "4  2017-10-05 15:53:22  IN_PROGRESS  "
      ]
     },
     "execution_count": 9,
     "metadata": {},
     "output_type": "execute_result"
    }
   ],
   "source": [
    "statuses = top25.merge(regs, left_on='uuid',right_on='user_uuid')\n",
    "statuses.head()"
   ]
  },
  {
   "cell_type": "code",
   "execution_count": 10,
   "metadata": {},
   "outputs": [],
   "source": [
    "statuses = statuses[statuses.currentState!='NOT_VISIBLE']\n",
    "statuses = statuses[statuses.currentState!='BOOKMARKED']"
   ]
  },
  {
   "cell_type": "markdown",
   "metadata": {},
   "source": [
    "Aqui, fazemos a remoção de estados de curso irrelevantes para nossa análise, deixando apenas IN_PROGRESS e PAUSED a serem analisados"
   ]
  },
  {
   "cell_type": "code",
   "execution_count": 11,
   "metadata": {},
   "outputs": [],
   "source": [
    "#curso completado -> com data e in_progress // curso pausado -> resto\n",
    "statuses['completion'] = np.where((statuses['currentState']=='IN_PROGRESS') & (statuses['finishedAt'].notna()), 'completed', 'paused')"
   ]
  },
  {
   "cell_type": "code",
   "execution_count": 12,
   "metadata": {},
   "outputs": [
    {
     "data": {
      "text/html": [
       "<div>\n",
       "<style scoped>\n",
       "    .dataframe tbody tr th:only-of-type {\n",
       "        vertical-align: middle;\n",
       "    }\n",
       "\n",
       "    .dataframe tbody tr th {\n",
       "        vertical-align: top;\n",
       "    }\n",
       "\n",
       "    .dataframe thead th {\n",
       "        text-align: right;\n",
       "    }\n",
       "</style>\n",
       "<table border=\"1\" class=\"dataframe\">\n",
       "  <thead>\n",
       "    <tr style=\"text-align: right;\">\n",
       "      <th></th>\n",
       "      <th>duration</th>\n",
       "      <th>uuid</th>\n",
       "      <th>user_uuid</th>\n",
       "      <th>course_uuid</th>\n",
       "      <th>createdAt</th>\n",
       "      <th>finishedAt</th>\n",
       "      <th>lastAccessDate</th>\n",
       "      <th>currentState</th>\n",
       "      <th>completion</th>\n",
       "    </tr>\n",
       "  </thead>\n",
       "  <tbody>\n",
       "    <tr>\n",
       "      <th>0</th>\n",
       "      <td>2649</td>\n",
       "      <td>26524</td>\n",
       "      <td>26524</td>\n",
       "      <td>928</td>\n",
       "      <td>2017-08-05 14:18:18</td>\n",
       "      <td>NaN</td>\n",
       "      <td>2019-06-07 15:31:44</td>\n",
       "      <td>IN_PROGRESS</td>\n",
       "      <td>paused</td>\n",
       "    </tr>\n",
       "    <tr>\n",
       "      <th>1</th>\n",
       "      <td>2649</td>\n",
       "      <td>26524</td>\n",
       "      <td>26524</td>\n",
       "      <td>543</td>\n",
       "      <td>2017-08-08 07:29:22</td>\n",
       "      <td>NaN</td>\n",
       "      <td>2017-08-08 10:37:59</td>\n",
       "      <td>IN_PROGRESS</td>\n",
       "      <td>paused</td>\n",
       "    </tr>\n",
       "    <tr>\n",
       "      <th>2</th>\n",
       "      <td>2649</td>\n",
       "      <td>26524</td>\n",
       "      <td>26524</td>\n",
       "      <td>49</td>\n",
       "      <td>2017-08-16 13:09:18</td>\n",
       "      <td>NaN</td>\n",
       "      <td>2017-08-19 18:10:32</td>\n",
       "      <td>IN_PROGRESS</td>\n",
       "      <td>paused</td>\n",
       "    </tr>\n",
       "    <tr>\n",
       "      <th>3</th>\n",
       "      <td>2649</td>\n",
       "      <td>26524</td>\n",
       "      <td>26524</td>\n",
       "      <td>117</td>\n",
       "      <td>2017-08-16 13:45:16</td>\n",
       "      <td>NaN</td>\n",
       "      <td>2017-08-23 20:40:32</td>\n",
       "      <td>IN_PROGRESS</td>\n",
       "      <td>paused</td>\n",
       "    </tr>\n",
       "    <tr>\n",
       "      <th>4</th>\n",
       "      <td>2649</td>\n",
       "      <td>26524</td>\n",
       "      <td>26524</td>\n",
       "      <td>1028</td>\n",
       "      <td>2017-10-05 15:51:58</td>\n",
       "      <td>NaN</td>\n",
       "      <td>2017-10-05 15:53:22</td>\n",
       "      <td>IN_PROGRESS</td>\n",
       "      <td>paused</td>\n",
       "    </tr>\n",
       "  </tbody>\n",
       "</table>\n",
       "</div>"
      ],
      "text/plain": [
       "   duration   uuid  user_uuid  course_uuid            createdAt finishedAt  \\\n",
       "0      2649  26524      26524          928  2017-08-05 14:18:18        NaN   \n",
       "1      2649  26524      26524          543  2017-08-08 07:29:22        NaN   \n",
       "2      2649  26524      26524           49  2017-08-16 13:09:18        NaN   \n",
       "3      2649  26524      26524          117  2017-08-16 13:45:16        NaN   \n",
       "4      2649  26524      26524         1028  2017-10-05 15:51:58        NaN   \n",
       "\n",
       "        lastAccessDate currentState completion  \n",
       "0  2019-06-07 15:31:44  IN_PROGRESS     paused  \n",
       "1  2017-08-08 10:37:59  IN_PROGRESS     paused  \n",
       "2  2017-08-19 18:10:32  IN_PROGRESS     paused  \n",
       "3  2017-08-23 20:40:32  IN_PROGRESS     paused  \n",
       "4  2017-10-05 15:53:22  IN_PROGRESS     paused  "
      ]
     },
     "execution_count": 12,
     "metadata": {},
     "output_type": "execute_result"
    }
   ],
   "source": [
    "statuses.head()"
   ]
  },
  {
   "cell_type": "code",
   "execution_count": 14,
   "metadata": {},
   "outputs": [
    {
     "data": {
      "text/plain": [
       "<matplotlib.axes._subplots.AxesSubplot at 0x1e705ab5da0>"
      ]
     },
     "execution_count": 14,
     "metadata": {},
     "output_type": "execute_result"
    },
    {
     "data": {
      "image/png": "[encoded data removed]",
      "text/plain": [
       "<Figure size 432x288 with 1 Axes>"
      ]
     },
     "metadata": {},
     "output_type": "display_data"
    }
   ],
   "source": [
    "statuses.groupby('completion')['completion'].count().plot.pie(colors = ['green','yellow'], autopct='%1.0f%%')"
   ]
  },
  {
   "cell_type": "code",
   "execution_count": 13,
   "metadata": {},
   "outputs": [
    {
     "data": {
      "text/plain": [
       "completion\n",
       "completed     8475\n",
       "paused       13562\n",
       "Name: completion, dtype: int64"
      ]
     },
     "execution_count": 13,
     "metadata": {},
     "output_type": "execute_result"
    }
   ],
   "source": [
    "statuses.groupby('completion')['completion'].count()"
   ]
  },
  {
   "cell_type": "markdown",
   "metadata": {},
   "source": [
    "Pelo gráfico, percebe-se que a maioria dos alunos os quais consideramos \"os mais estudiosos\" não completam seus cursos, mas sim os pausam em pontos arbitrários, sem necessáriamente haver um critério"
   ]
  },
  {
   "cell_type": "code",
   "execution_count": null,
   "metadata": {},
   "outputs": [],
   "source": []
  }
 ],
 "metadata": {
  "kernelspec": {
   "display_name": "Python 3",
   "language": "python",
   "name": "python3"
  },
  "language_info": {
   "codemirror_mode": {
    "name": "ipython",
    "version": 3
   },
   "file_extension": ".py",
   "mimetype": "text/x-python",
   "name": "python",
   "nbconvert_exporter": "python",
   "pygments_lexer": "ipython3",
   "version": "3.6.8"
  }
 },
 "nbformat": 4,
 "nbformat_minor": 2
}
