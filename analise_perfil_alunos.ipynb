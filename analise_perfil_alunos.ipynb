{
 "cells": [
  {
   "cell_type": "code",
   "execution_count": 1,
   "metadata": {},
   "outputs": [],
   "source": [
    "import numpy as np\n",
    "import pandas as pd\n",
    "import seaborn as sns\n",
    "from sklearn.cluster import KMeans\n",
    "import matplotlib.pyplot as plt\n",
    "from datetime import datetime\n",
    "from dateutil.relativedelta import relativedelta\n",
    "import math\n",
    "from scipy.optimize import curve_fit\n",
    "from mpl_toolkits.mplot3d import Axes3D\n",
    "import datetime as dt "
   ]
  },
  {
   "cell_type": "code",
   "execution_count": 2,
   "metadata": {},
   "outputs": [],
   "source": [
    "courses = pd.read_csv('C:/Users/gabriel/Desktop/data/anonimized_courses.csv')\n",
    "logs = pd.read_csv('C:/Users/gabriel/Desktop/data/anonimized_logs.csv')\n",
    "regs = pd.read_csv('C:/Users/gabriel/Desktop/data/anonimized_registrations.csv')\n",
    "sections = pd.read_csv('C:/Users/gabriel/Desktop/data/anonimized_sections.csv')\n",
    "tasks = pd.read_csv('C:/Users/gabriel/Desktop/data/anonimized_tasks.csv')\n",
    "users = pd.read_csv('C:/Users/gabriel/Desktop/data/anonimized_users.csv')"
   ]
  },
  {
   "cell_type": "code",
   "execution_count": 3,
   "metadata": {
    "scrolled": true
   },
   "outputs": [
    {
     "data": {
      "text/html": [
       "<div>\n",
       "<style scoped>\n",
       "    .dataframe tbody tr th:only-of-type {\n",
       "        vertical-align: middle;\n",
       "    }\n",
       "\n",
       "    .dataframe tbody tr th {\n",
       "        vertical-align: top;\n",
       "    }\n",
       "\n",
       "    .dataframe thead th {\n",
       "        text-align: right;\n",
       "    }\n",
       "</style>\n",
       "<table border=\"1\" class=\"dataframe\">\n",
       "  <thead>\n",
       "    <tr style=\"text-align: right;\">\n",
       "      <th></th>\n",
       "      <th>createdAt</th>\n",
       "      <th>special_flagged</th>\n",
       "      <th>uuid</th>\n",
       "    </tr>\n",
       "  </thead>\n",
       "  <tbody>\n",
       "    <tr>\n",
       "      <th>0</th>\n",
       "      <td>2011-08-03</td>\n",
       "      <td>0</td>\n",
       "      <td>97665</td>\n",
       "    </tr>\n",
       "    <tr>\n",
       "      <th>1</th>\n",
       "      <td>2011-08-11</td>\n",
       "      <td>0</td>\n",
       "      <td>68492</td>\n",
       "    </tr>\n",
       "    <tr>\n",
       "      <th>2</th>\n",
       "      <td>2011-08-03</td>\n",
       "      <td>0</td>\n",
       "      <td>52463</td>\n",
       "    </tr>\n",
       "    <tr>\n",
       "      <th>3</th>\n",
       "      <td>2011-08-19</td>\n",
       "      <td>0</td>\n",
       "      <td>129570</td>\n",
       "    </tr>\n",
       "    <tr>\n",
       "      <th>4</th>\n",
       "      <td>2011-08-04</td>\n",
       "      <td>0</td>\n",
       "      <td>45524</td>\n",
       "    </tr>\n",
       "  </tbody>\n",
       "</table>\n",
       "</div>"
      ],
      "text/plain": [
       "    createdAt  special_flagged    uuid\n",
       "0  2011-08-03                0   97665\n",
       "1  2011-08-11                0   68492\n",
       "2  2011-08-03                0   52463\n",
       "3  2011-08-19                0  129570\n",
       "4  2011-08-04                0   45524"
      ]
     },
     "execution_count": 3,
     "metadata": {},
     "output_type": "execute_result"
    }
   ],
   "source": [
    "users.head()"
   ]
  },
  {
   "cell_type": "code",
   "execution_count": 4,
   "metadata": {
    "scrolled": true
   },
   "outputs": [
    {
     "data": {
      "text/html": [
       "<div>\n",
       "<style scoped>\n",
       "    .dataframe tbody tr th:only-of-type {\n",
       "        vertical-align: middle;\n",
       "    }\n",
       "\n",
       "    .dataframe tbody tr th {\n",
       "        vertical-align: top;\n",
       "    }\n",
       "\n",
       "    .dataframe thead th {\n",
       "        text-align: right;\n",
       "    }\n",
       "</style>\n",
       "<table border=\"1\" class=\"dataframe\">\n",
       "  <thead>\n",
       "    <tr style=\"text-align: right;\">\n",
       "      <th></th>\n",
       "      <th>createdAt</th>\n",
       "      <th>level</th>\n",
       "      <th>publicatedAt</th>\n",
       "      <th>totalVideoTime</th>\n",
       "      <th>subCategory_id</th>\n",
       "      <th>situation</th>\n",
       "      <th>isProject</th>\n",
       "      <th>removedAt</th>\n",
       "      <th>uuid</th>\n",
       "      <th>substitute_uuid</th>\n",
       "    </tr>\n",
       "  </thead>\n",
       "  <tbody>\n",
       "    <tr>\n",
       "      <th>0</th>\n",
       "      <td>2011-09-22</td>\n",
       "      <td>1</td>\n",
       "      <td>2011-09-22</td>\n",
       "      <td>51</td>\n",
       "      <td>30</td>\n",
       "      <td>PUBLISHED</td>\n",
       "      <td>0</td>\n",
       "      <td>NaN</td>\n",
       "      <td>588</td>\n",
       "      <td>NaN</td>\n",
       "    </tr>\n",
       "    <tr>\n",
       "      <th>1</th>\n",
       "      <td>2011-10-27</td>\n",
       "      <td>5</td>\n",
       "      <td>2011-10-27</td>\n",
       "      <td>72</td>\n",
       "      <td>21</td>\n",
       "      <td>PUBLISHED</td>\n",
       "      <td>0</td>\n",
       "      <td>NaN</td>\n",
       "      <td>840</td>\n",
       "      <td>NaN</td>\n",
       "    </tr>\n",
       "    <tr>\n",
       "      <th>2</th>\n",
       "      <td>2012-02-15</td>\n",
       "      <td>1</td>\n",
       "      <td>2012-02-15</td>\n",
       "      <td>112</td>\n",
       "      <td>1</td>\n",
       "      <td>PUBLISHED</td>\n",
       "      <td>0</td>\n",
       "      <td>NaN</td>\n",
       "      <td>764</td>\n",
       "      <td>NaN</td>\n",
       "    </tr>\n",
       "    <tr>\n",
       "      <th>3</th>\n",
       "      <td>2012-03-07</td>\n",
       "      <td>5</td>\n",
       "      <td>2012-03-07</td>\n",
       "      <td>83</td>\n",
       "      <td>21</td>\n",
       "      <td>PUBLISHED</td>\n",
       "      <td>0</td>\n",
       "      <td>NaN</td>\n",
       "      <td>720</td>\n",
       "      <td>NaN</td>\n",
       "    </tr>\n",
       "    <tr>\n",
       "      <th>4</th>\n",
       "      <td>2012-05-29</td>\n",
       "      <td>1</td>\n",
       "      <td>2012-05-29</td>\n",
       "      <td>70</td>\n",
       "      <td>48</td>\n",
       "      <td>PUBLISHED</td>\n",
       "      <td>0</td>\n",
       "      <td>NaN</td>\n",
       "      <td>937</td>\n",
       "      <td>NaN</td>\n",
       "    </tr>\n",
       "  </tbody>\n",
       "</table>\n",
       "</div>"
      ],
      "text/plain": [
       "    createdAt  level publicatedAt  totalVideoTime  subCategory_id  situation  \\\n",
       "0  2011-09-22      1   2011-09-22              51              30  PUBLISHED   \n",
       "1  2011-10-27      5   2011-10-27              72              21  PUBLISHED   \n",
       "2  2012-02-15      1   2012-02-15             112               1  PUBLISHED   \n",
       "3  2012-03-07      5   2012-03-07              83              21  PUBLISHED   \n",
       "4  2012-05-29      1   2012-05-29              70              48  PUBLISHED   \n",
       "\n",
       "   isProject removedAt  uuid  substitute_uuid  \n",
       "0          0       NaN   588              NaN  \n",
       "1          0       NaN   840              NaN  \n",
       "2          0       NaN   764              NaN  \n",
       "3          0       NaN   720              NaN  \n",
       "4          0       NaN   937              NaN  "
      ]
     },
     "execution_count": 4,
     "metadata": {},
     "output_type": "execute_result"
    }
   ],
   "source": [
    "courses.head()"
   ]
  },
  {
   "cell_type": "code",
   "execution_count": 5,
   "metadata": {},
   "outputs": [
    {
     "data": {
      "text/html": [
       "<div>\n",
       "<style scoped>\n",
       "    .dataframe tbody tr th:only-of-type {\n",
       "        vertical-align: middle;\n",
       "    }\n",
       "\n",
       "    .dataframe tbody tr th {\n",
       "        vertical-align: top;\n",
       "    }\n",
       "\n",
       "    .dataframe thead th {\n",
       "        text-align: right;\n",
       "    }\n",
       "</style>\n",
       "<table border=\"1\" class=\"dataframe\">\n",
       "  <thead>\n",
       "    <tr style=\"text-align: right;\">\n",
       "      <th></th>\n",
       "      <th>user_uuid</th>\n",
       "      <th>moment</th>\n",
       "      <th>kind</th>\n",
       "      <th>iterable_uuid</th>\n",
       "    </tr>\n",
       "  </thead>\n",
       "  <tbody>\n",
       "    <tr>\n",
       "      <th>0</th>\n",
       "      <td>57928</td>\n",
       "      <td>2016-09-12</td>\n",
       "      <td>EXERCISE_ANSWERED</td>\n",
       "      <td>2918d775-73e8-4c33-a3b7-5f0726bbe3ca</td>\n",
       "    </tr>\n",
       "    <tr>\n",
       "      <th>1</th>\n",
       "      <td>73719</td>\n",
       "      <td>2016-09-12</td>\n",
       "      <td>EXERCISE_ANSWERED</td>\n",
       "      <td>1315cdde-14e1-412d-bc3b-5da04b7aa44a</td>\n",
       "    </tr>\n",
       "    <tr>\n",
       "      <th>2</th>\n",
       "      <td>38957</td>\n",
       "      <td>2016-09-12</td>\n",
       "      <td>EXERCISE_ANSWERED</td>\n",
       "      <td>2ec53649-0eae-4114-b21f-ad72d448180b</td>\n",
       "    </tr>\n",
       "    <tr>\n",
       "      <th>3</th>\n",
       "      <td>59788</td>\n",
       "      <td>2016-09-12</td>\n",
       "      <td>EXERCISE_ANSWERED</td>\n",
       "      <td>ad5ae7b6-918f-4dfe-8680-db2928fe732c</td>\n",
       "    </tr>\n",
       "    <tr>\n",
       "      <th>4</th>\n",
       "      <td>73719</td>\n",
       "      <td>2016-09-12</td>\n",
       "      <td>EXERCISE_ANSWERED</td>\n",
       "      <td>7e08ee37-3eb6-4412-a6dd-d01f5619d2a2</td>\n",
       "    </tr>\n",
       "  </tbody>\n",
       "</table>\n",
       "</div>"
      ],
      "text/plain": [
       "   user_uuid      moment               kind  \\\n",
       "0      57928  2016-09-12  EXERCISE_ANSWERED   \n",
       "1      73719  2016-09-12  EXERCISE_ANSWERED   \n",
       "2      38957  2016-09-12  EXERCISE_ANSWERED   \n",
       "3      59788  2016-09-12  EXERCISE_ANSWERED   \n",
       "4      73719  2016-09-12  EXERCISE_ANSWERED   \n",
       "\n",
       "                          iterable_uuid  \n",
       "0  2918d775-73e8-4c33-a3b7-5f0726bbe3ca  \n",
       "1  1315cdde-14e1-412d-bc3b-5da04b7aa44a  \n",
       "2  2ec53649-0eae-4114-b21f-ad72d448180b  \n",
       "3  ad5ae7b6-918f-4dfe-8680-db2928fe732c  \n",
       "4  7e08ee37-3eb6-4412-a6dd-d01f5619d2a2  "
      ]
     },
     "execution_count": 5,
     "metadata": {},
     "output_type": "execute_result"
    }
   ],
   "source": [
    "logs.head()"
   ]
  },
  {
   "cell_type": "code",
   "execution_count": 6,
   "metadata": {
    "scrolled": true
   },
   "outputs": [
    {
     "data": {
      "text/html": [
       "<div>\n",
       "<style scoped>\n",
       "    .dataframe tbody tr th:only-of-type {\n",
       "        vertical-align: middle;\n",
       "    }\n",
       "\n",
       "    .dataframe tbody tr th {\n",
       "        vertical-align: top;\n",
       "    }\n",
       "\n",
       "    .dataframe thead th {\n",
       "        text-align: right;\n",
       "    }\n",
       "</style>\n",
       "<table border=\"1\" class=\"dataframe\">\n",
       "  <thead>\n",
       "    <tr style=\"text-align: right;\">\n",
       "      <th></th>\n",
       "      <th>number</th>\n",
       "      <th>active</th>\n",
       "      <th>uuid</th>\n",
       "      <th>course_uuid</th>\n",
       "    </tr>\n",
       "  </thead>\n",
       "  <tbody>\n",
       "    <tr>\n",
       "      <th>0</th>\n",
       "      <td>1</td>\n",
       "      <td>1</td>\n",
       "      <td>3988</td>\n",
       "      <td>588</td>\n",
       "    </tr>\n",
       "    <tr>\n",
       "      <th>1</th>\n",
       "      <td>2</td>\n",
       "      <td>1</td>\n",
       "      <td>6725</td>\n",
       "      <td>588</td>\n",
       "    </tr>\n",
       "    <tr>\n",
       "      <th>2</th>\n",
       "      <td>3</td>\n",
       "      <td>1</td>\n",
       "      <td>3716</td>\n",
       "      <td>588</td>\n",
       "    </tr>\n",
       "    <tr>\n",
       "      <th>3</th>\n",
       "      <td>4</td>\n",
       "      <td>1</td>\n",
       "      <td>4125</td>\n",
       "      <td>588</td>\n",
       "    </tr>\n",
       "    <tr>\n",
       "      <th>4</th>\n",
       "      <td>5</td>\n",
       "      <td>1</td>\n",
       "      <td>5354</td>\n",
       "      <td>588</td>\n",
       "    </tr>\n",
       "  </tbody>\n",
       "</table>\n",
       "</div>"
      ],
      "text/plain": [
       "   number  active  uuid  course_uuid\n",
       "0       1       1  3988          588\n",
       "1       2       1  6725          588\n",
       "2       3       1  3716          588\n",
       "3       4       1  4125          588\n",
       "4       5       1  5354          588"
      ]
     },
     "execution_count": 6,
     "metadata": {},
     "output_type": "execute_result"
    }
   ],
   "source": [
    "sections.head()"
   ]
  },
  {
   "cell_type": "code",
   "execution_count": 7,
   "metadata": {},
   "outputs": [
    {
     "data": {
      "text/html": [
       "<div>\n",
       "<style scoped>\n",
       "    .dataframe tbody tr th:only-of-type {\n",
       "        vertical-align: middle;\n",
       "    }\n",
       "\n",
       "    .dataframe tbody tr th {\n",
       "        vertical-align: top;\n",
       "    }\n",
       "\n",
       "    .dataframe thead th {\n",
       "        text-align: right;\n",
       "    }\n",
       "</style>\n",
       "<table border=\"1\" class=\"dataframe\">\n",
       "  <thead>\n",
       "    <tr style=\"text-align: right;\">\n",
       "      <th></th>\n",
       "      <th>user_uuid</th>\n",
       "      <th>course_uuid</th>\n",
       "      <th>createdAt</th>\n",
       "      <th>finishedAt</th>\n",
       "      <th>lastAccessDate</th>\n",
       "      <th>currentState</th>\n",
       "    </tr>\n",
       "  </thead>\n",
       "  <tbody>\n",
       "    <tr>\n",
       "      <th>0</th>\n",
       "      <td>36802</td>\n",
       "      <td>113</td>\n",
       "      <td>2015-09-15 06:33:25</td>\n",
       "      <td>2015-09-28 21:54:56</td>\n",
       "      <td>2017-11-28 16:22:04</td>\n",
       "      <td>IN_PROGRESS</td>\n",
       "    </tr>\n",
       "    <tr>\n",
       "      <th>1</th>\n",
       "      <td>34892</td>\n",
       "      <td>764</td>\n",
       "      <td>2015-09-15 00:00:21</td>\n",
       "      <td>2016-03-01 14:11:05</td>\n",
       "      <td>2016-10-18 13:15:22</td>\n",
       "      <td>IN_PROGRESS</td>\n",
       "    </tr>\n",
       "    <tr>\n",
       "      <th>2</th>\n",
       "      <td>37440</td>\n",
       "      <td>764</td>\n",
       "      <td>2015-09-15 00:00:21</td>\n",
       "      <td>NaN</td>\n",
       "      <td>2015-09-15 00:00:21</td>\n",
       "      <td>IN_PROGRESS</td>\n",
       "    </tr>\n",
       "    <tr>\n",
       "      <th>3</th>\n",
       "      <td>58529</td>\n",
       "      <td>76</td>\n",
       "      <td>2015-09-15 00:00:20</td>\n",
       "      <td>NaN</td>\n",
       "      <td>2018-03-14 20:27:27</td>\n",
       "      <td>NOT_VISIBLE</td>\n",
       "    </tr>\n",
       "    <tr>\n",
       "      <th>4</th>\n",
       "      <td>48059</td>\n",
       "      <td>76</td>\n",
       "      <td>2015-09-15 00:00:20</td>\n",
       "      <td>NaN</td>\n",
       "      <td>2015-09-15 00:00:20</td>\n",
       "      <td>IN_PROGRESS</td>\n",
       "    </tr>\n",
       "  </tbody>\n",
       "</table>\n",
       "</div>"
      ],
      "text/plain": [
       "   user_uuid  course_uuid            createdAt           finishedAt  \\\n",
       "0      36802          113  2015-09-15 06:33:25  2015-09-28 21:54:56   \n",
       "1      34892          764  2015-09-15 00:00:21  2016-03-01 14:11:05   \n",
       "2      37440          764  2015-09-15 00:00:21                  NaN   \n",
       "3      58529           76  2015-09-15 00:00:20                  NaN   \n",
       "4      48059           76  2015-09-15 00:00:20                  NaN   \n",
       "\n",
       "        lastAccessDate currentState  \n",
       "0  2017-11-28 16:22:04  IN_PROGRESS  \n",
       "1  2016-10-18 13:15:22  IN_PROGRESS  \n",
       "2  2015-09-15 00:00:21  IN_PROGRESS  \n",
       "3  2018-03-14 20:27:27  NOT_VISIBLE  \n",
       "4  2015-09-15 00:00:20  IN_PROGRESS  "
      ]
     },
     "execution_count": 7,
     "metadata": {},
     "output_type": "execute_result"
    }
   ],
   "source": [
    "regs.head()"
   ]
  },
  {
   "cell_type": "code",
   "execution_count": 8,
   "metadata": {},
   "outputs": [
    {
     "data": {
      "text/html": [
       "<div>\n",
       "<style scoped>\n",
       "    .dataframe tbody tr th:only-of-type {\n",
       "        vertical-align: middle;\n",
       "    }\n",
       "\n",
       "    .dataframe tbody tr th {\n",
       "        vertical-align: top;\n",
       "    }\n",
       "\n",
       "    .dataframe thead th {\n",
       "        text-align: right;\n",
       "    }\n",
       "</style>\n",
       "<table border=\"1\" class=\"dataframe\">\n",
       "  <thead>\n",
       "    <tr style=\"text-align: right;\">\n",
       "      <th></th>\n",
       "      <th>kind</th>\n",
       "      <th>duration</th>\n",
       "      <th>status</th>\n",
       "      <th>createdAt</th>\n",
       "      <th>uuid</th>\n",
       "      <th>course_uuid</th>\n",
       "    </tr>\n",
       "  </thead>\n",
       "  <tbody>\n",
       "    <tr>\n",
       "      <th>0</th>\n",
       "      <td>VIDEO</td>\n",
       "      <td>31</td>\n",
       "      <td>ACTIVE</td>\n",
       "      <td>2015-10-21</td>\n",
       "      <td>21316</td>\n",
       "      <td>588</td>\n",
       "    </tr>\n",
       "    <tr>\n",
       "      <th>1</th>\n",
       "      <td>VIDEO</td>\n",
       "      <td>188</td>\n",
       "      <td>ACTIVE</td>\n",
       "      <td>2015-10-21</td>\n",
       "      <td>13646</td>\n",
       "      <td>588</td>\n",
       "    </tr>\n",
       "    <tr>\n",
       "      <th>2</th>\n",
       "      <td>HQ_EXPLANATION</td>\n",
       "      <td>0</td>\n",
       "      <td>ACTIVE</td>\n",
       "      <td>2015-10-21</td>\n",
       "      <td>45401</td>\n",
       "      <td>588</td>\n",
       "    </tr>\n",
       "    <tr>\n",
       "      <th>3</th>\n",
       "      <td>OPEN_QUESTION</td>\n",
       "      <td>0</td>\n",
       "      <td>ACTIVE</td>\n",
       "      <td>2015-10-21</td>\n",
       "      <td>37691</td>\n",
       "      <td>588</td>\n",
       "    </tr>\n",
       "    <tr>\n",
       "      <th>4</th>\n",
       "      <td>OPEN_QUESTION</td>\n",
       "      <td>0</td>\n",
       "      <td>ACTIVE</td>\n",
       "      <td>2015-10-21</td>\n",
       "      <td>9310</td>\n",
       "      <td>588</td>\n",
       "    </tr>\n",
       "  </tbody>\n",
       "</table>\n",
       "</div>"
      ],
      "text/plain": [
       "             kind  duration  status   createdAt   uuid  course_uuid\n",
       "0           VIDEO        31  ACTIVE  2015-10-21  21316          588\n",
       "1           VIDEO       188  ACTIVE  2015-10-21  13646          588\n",
       "2  HQ_EXPLANATION         0  ACTIVE  2015-10-21  45401          588\n",
       "3   OPEN_QUESTION         0  ACTIVE  2015-10-21  37691          588\n",
       "4   OPEN_QUESTION         0  ACTIVE  2015-10-21   9310          588"
      ]
     },
     "execution_count": 8,
     "metadata": {},
     "output_type": "execute_result"
    }
   ],
   "source": [
    "tasks.head()"
   ]
  },
  {
   "cell_type": "code",
   "execution_count": 9,
   "metadata": {},
   "outputs": [
    {
     "data": {
      "text/plain": [
       "VIDEO              16366\n",
       "SINGLE_CHOICE       9138\n",
       "HQ_EXPLANATION      8853\n",
       "TEXT_CONTENT        6599\n",
       "OPEN_QUESTION       3075\n",
       "MULTIPLE_CHOICE     1439\n",
       "EXTRA_CONTENT          1\n",
       "Name: kind, dtype: int64"
      ]
     },
     "execution_count": 9,
     "metadata": {},
     "output_type": "execute_result"
    }
   ],
   "source": [
    "tasks['kind'].value_counts()"
   ]
  },
  {
   "cell_type": "code",
   "execution_count": 10,
   "metadata": {},
   "outputs": [
    {
     "data": {
      "text/plain": [
       "EXERCISE_ANSWERED      18000612\n",
       "COURSE_FINISHED          426290\n",
       "FORUM_POSTED              67213\n",
       "FORUM_SOLVED              13963\n",
       "CAREER_FINISHED           12514\n",
       "DEGREE_FINISHED            9247\n",
       "SUGGESTION_APPROVED        3558\n",
       "PROJECT_APPROVED             74\n",
       "Name: kind, dtype: int64"
      ]
     },
     "execution_count": 10,
     "metadata": {},
     "output_type": "execute_result"
    }
   ],
   "source": [
    "logs['kind'].value_counts()"
   ]
  },
  {
   "cell_type": "markdown",
   "metadata": {},
   "source": [
    "Análise dos alunos que interagem com a plataforma (através dos foruns):"
   ]
  },
  {
   "cell_type": "code",
   "execution_count": 11,
   "metadata": {
    "scrolled": false
   },
   "outputs": [
    {
     "data": {
      "text/html": [
       "<div>\n",
       "<style scoped>\n",
       "    .dataframe tbody tr th:only-of-type {\n",
       "        vertical-align: middle;\n",
       "    }\n",
       "\n",
       "    .dataframe tbody tr th {\n",
       "        vertical-align: top;\n",
       "    }\n",
       "\n",
       "    .dataframe thead th {\n",
       "        text-align: right;\n",
       "    }\n",
       "</style>\n",
       "<table border=\"1\" class=\"dataframe\">\n",
       "  <thead>\n",
       "    <tr style=\"text-align: right;\">\n",
       "      <th></th>\n",
       "      <th>user_uuid</th>\n",
       "      <th>moment</th>\n",
       "      <th>somaForum</th>\n",
       "    </tr>\n",
       "  </thead>\n",
       "  <tbody>\n",
       "    <tr>\n",
       "      <th>526</th>\n",
       "      <td>13258</td>\n",
       "      <td>2016-09-12</td>\n",
       "      <td>4</td>\n",
       "    </tr>\n",
       "    <tr>\n",
       "      <th>1010</th>\n",
       "      <td>119614</td>\n",
       "      <td>2016-09-12</td>\n",
       "      <td>2</td>\n",
       "    </tr>\n",
       "    <tr>\n",
       "      <th>1029</th>\n",
       "      <td>86326</td>\n",
       "      <td>2016-09-12</td>\n",
       "      <td>2</td>\n",
       "    </tr>\n",
       "    <tr>\n",
       "      <th>1755</th>\n",
       "      <td>85621</td>\n",
       "      <td>2016-09-12</td>\n",
       "      <td>1</td>\n",
       "    </tr>\n",
       "    <tr>\n",
       "      <th>1873</th>\n",
       "      <td>82046</td>\n",
       "      <td>2016-09-12</td>\n",
       "      <td>1</td>\n",
       "    </tr>\n",
       "  </tbody>\n",
       "</table>\n",
       "</div>"
      ],
      "text/plain": [
       "      user_uuid      moment  somaForum\n",
       "526       13258  2016-09-12          4\n",
       "1010     119614  2016-09-12          2\n",
       "1029      86326  2016-09-12          2\n",
       "1755      85621  2016-09-12          1\n",
       "1873      82046  2016-09-12          1"
      ]
     },
     "execution_count": 11,
     "metadata": {},
     "output_type": "execute_result"
    }
   ],
   "source": [
    "logsForum = logs.copy()\n",
    "logsForum.drop(['iterable_uuid'],axis=1,inplace=True)\n",
    "\n",
    "logsForum = logsForum[logsForum.kind!='COURSE_FINISHED']\n",
    "logsForum = logsForum[logsForum.kind!='CAREER_FINISHED']\n",
    "logsForum = logsForum[logsForum.kind!='DEGREE_FINISHED']\n",
    "logsForum = logsForum[logsForum.kind!='PROJECT_APPROVED']\n",
    "logsForum = logsForum[logsForum.kind!='EXERCISE_ANSWERED']\n",
    "\n",
    "logsForum['somaForum'] = logsForum.groupby(['user_uuid','moment'])['kind'].transform('count')\n",
    "logsForum.drop_duplicates(subset=['user_uuid','moment'],inplace=True)\n",
    "logsForum.drop(['kind'],axis=1,inplace=True)\n",
    "\n",
    "logsForum.head()"
   ]
  },
  {
   "cell_type": "code",
   "execution_count": 12,
   "metadata": {},
   "outputs": [
    {
     "data": {
      "text/plain": [
       "(45865, 3)"
      ]
     },
     "execution_count": 12,
     "metadata": {},
     "output_type": "execute_result"
    }
   ],
   "source": [
    "logsForum.shape"
   ]
  },
  {
   "cell_type": "code",
   "execution_count": 13,
   "metadata": {},
   "outputs": [
    {
     "data": {
      "text/html": [
       "<div>\n",
       "<style scoped>\n",
       "    .dataframe tbody tr th:only-of-type {\n",
       "        vertical-align: middle;\n",
       "    }\n",
       "\n",
       "    .dataframe tbody tr th {\n",
       "        vertical-align: top;\n",
       "    }\n",
       "\n",
       "    .dataframe thead th {\n",
       "        text-align: right;\n",
       "    }\n",
       "</style>\n",
       "<table border=\"1\" class=\"dataframe\">\n",
       "  <thead>\n",
       "    <tr style=\"text-align: right;\">\n",
       "      <th></th>\n",
       "      <th>user_uuid</th>\n",
       "      <th>moment</th>\n",
       "      <th>somaEx</th>\n",
       "    </tr>\n",
       "  </thead>\n",
       "  <tbody>\n",
       "    <tr>\n",
       "      <th>0</th>\n",
       "      <td>57928</td>\n",
       "      <td>2016-09-12</td>\n",
       "      <td>47</td>\n",
       "    </tr>\n",
       "    <tr>\n",
       "      <th>2</th>\n",
       "      <td>38957</td>\n",
       "      <td>2016-09-12</td>\n",
       "      <td>2</td>\n",
       "    </tr>\n",
       "    <tr>\n",
       "      <th>16</th>\n",
       "      <td>117109</td>\n",
       "      <td>2016-09-12</td>\n",
       "      <td>3</td>\n",
       "    </tr>\n",
       "    <tr>\n",
       "      <th>20</th>\n",
       "      <td>88787</td>\n",
       "      <td>2016-09-12</td>\n",
       "      <td>3</td>\n",
       "    </tr>\n",
       "    <tr>\n",
       "      <th>21</th>\n",
       "      <td>16502</td>\n",
       "      <td>2016-09-12</td>\n",
       "      <td>11</td>\n",
       "    </tr>\n",
       "  </tbody>\n",
       "</table>\n",
       "</div>"
      ],
      "text/plain": [
       "    user_uuid      moment  somaEx\n",
       "0       57928  2016-09-12      47\n",
       "2       38957  2016-09-12       2\n",
       "16     117109  2016-09-12       3\n",
       "20      88787  2016-09-12       3\n",
       "21      16502  2016-09-12      11"
      ]
     },
     "execution_count": 13,
     "metadata": {},
     "output_type": "execute_result"
    }
   ],
   "source": [
    "logsEx = logs[logs['user_uuid'].isin(logsForum['user_uuid'])]\n",
    "\n",
    "logsEx = logsEx[logsEx.kind!='FORUM_SOLVED']\n",
    "logsEx = logsEx[logsEx.kind!='FORUM_POSTED']\n",
    "logsEx = logsEx[logsEx.kind!='SUGGESTION_APPROVED']\n",
    "\n",
    "logsEx.drop(['iterable_uuid'],axis=1,inplace=True)\n",
    "logsEx['somaEx'] = logsEx.groupby(['user_uuid','moment'])['kind'].transform('count')\n",
    "logsEx.drop_duplicates(subset=['user_uuid','moment'],inplace=True)\n",
    "logsEx.drop(['kind'],axis=1,inplace=True)\n",
    "logsEx.head()"
   ]
  },
  {
   "cell_type": "code",
   "execution_count": 14,
   "metadata": {},
   "outputs": [
    {
     "data": {
      "text/plain": [
       "(741149, 3)"
      ]
     },
     "execution_count": 14,
     "metadata": {},
     "output_type": "execute_result"
    }
   ],
   "source": [
    "logsEx.shape"
   ]
  },
  {
   "cell_type": "code",
   "execution_count": 15,
   "metadata": {},
   "outputs": [
    {
     "data": {
      "text/plain": [
       "<bound method NDFrame.head of        user_uuid      moment  somaForum  somaEx\n",
       "0          13258  2016-09-12          4       1\n",
       "1         119614  2016-09-12          2       4\n",
       "2          82046  2016-09-12          1      42\n",
       "3          86063  2016-09-12          1      11\n",
       "4         102848  2016-09-12          1       3\n",
       "...          ...         ...        ...     ...\n",
       "24061      31289  2020-08-26          1       5\n",
       "24062     113926  2020-08-26          1       1\n",
       "24063      93331  2020-08-26          1       9\n",
       "24064      87607  2020-08-26          1       7\n",
       "24065      95571  2020-08-26          2       7\n",
       "\n",
       "[24059 rows x 4 columns]>"
      ]
     },
     "execution_count": 15,
     "metadata": {},
     "output_type": "execute_result"
    }
   ],
   "source": [
    "forumEx = logsForum.merge(logsEx, left_on=['user_uuid','moment'], right_on=['user_uuid','moment'])\n",
    "forumEx = forumEx[(forumEx['somaEx'] < 300)]\n",
    "forumEx.head"
   ]
  },
  {
   "cell_type": "code",
   "execution_count": 16,
   "metadata": {
    "scrolled": true
   },
   "outputs": [
    {
     "data": {
      "text/plain": [
       "<matplotlib.axes._subplots.AxesSubplot at 0x249001edc70>"
      ]
     },
     "execution_count": 16,
     "metadata": {},
     "output_type": "execute_result"
    },
    {
     "data": {
      "image/png": "[encoded data removed]",
      "text/plain": [
       "<Figure size 432x288 with 1 Axes>"
      ]
     },
     "metadata": {
      "needs_background": "light"
     },
     "output_type": "display_data"
    }
   ],
   "source": [
    "forumEx.boxplot(column='somaEx', return_type='axes')"
   ]
  },
  {
   "cell_type": "code",
   "execution_count": 17,
   "metadata": {},
   "outputs": [
    {
     "data": {
      "text/plain": [
       "count    24059.000000\n",
       "mean         9.953074\n",
       "std         12.904675\n",
       "min          1.000000\n",
       "25%          3.000000\n",
       "50%          6.000000\n",
       "75%         12.000000\n",
       "max        260.000000\n",
       "Name: somaEx, dtype: float64"
      ]
     },
     "execution_count": 17,
     "metadata": {},
     "output_type": "execute_result"
    }
   ],
   "source": [
    "forumEx['somaEx'].describe()"
   ]
  },
  {
   "cell_type": "code",
   "execution_count": 18,
   "metadata": {
    "scrolled": true
   },
   "outputs": [
    {
     "data": {
      "text/plain": [
       "<matplotlib.axes._subplots.AxesSubplot at 0x2490030f250>"
      ]
     },
     "execution_count": 18,
     "metadata": {},
     "output_type": "execute_result"
    },
    {
     "data": {
      "image/png": "[encoded data removed]",
      "text/plain": [
       "<Figure size 432x288 with 1 Axes>"
      ]
     },
     "metadata": {
      "needs_background": "light"
     },
     "output_type": "display_data"
    }
   ],
   "source": [
    "forumEx.boxplot(column='somaForum', return_type='axes')"
   ]
  },
  {
   "cell_type": "code",
   "execution_count": 19,
   "metadata": {
    "scrolled": true
   },
   "outputs": [
    {
     "data": {
      "text/plain": [
       "count    24059.000000\n",
       "mean         1.787190\n",
       "std          2.193431\n",
       "min          1.000000\n",
       "25%          1.000000\n",
       "50%          1.000000\n",
       "75%          2.000000\n",
       "max         65.000000\n",
       "Name: somaForum, dtype: float64"
      ]
     },
     "execution_count": 19,
     "metadata": {},
     "output_type": "execute_result"
    }
   ],
   "source": [
    "forumEx['somaForum'].describe()"
   ]
  },
  {
   "cell_type": "code",
   "execution_count": 20,
   "metadata": {},
   "outputs": [
    {
     "data": {
      "text/plain": [
       "(24059, 4)"
      ]
     },
     "execution_count": 20,
     "metadata": {},
     "output_type": "execute_result"
    }
   ],
   "source": [
    "forumEx.shape"
   ]
  },
  {
   "cell_type": "code",
   "execution_count": 21,
   "metadata": {},
   "outputs": [
    {
     "data": {
      "text/plain": [
       "(132935, 3)"
      ]
     },
     "execution_count": 21,
     "metadata": {},
     "output_type": "execute_result"
    }
   ],
   "source": [
    "users.shape"
   ]
  },
  {
   "cell_type": "code",
   "execution_count": 22,
   "metadata": {},
   "outputs": [
    {
     "name": "stderr",
     "output_type": "stream",
     "text": [
      "<ipython-input-22-4060631c237e>:3: SettingWithCopyWarning: \n",
      "A value is trying to be set on a copy of a slice from a DataFrame.\n",
      "Try using .loc[row_indexer,col_indexer] = value instead\n",
      "\n",
      "See the caveats in the documentation: https://pandas.pydata.org/pandas-docs/stable/user_guide/indexing.html#returning-a-view-versus-a-copy\n",
      "  activeYears['yearsActive'] = [relativedelta(datetime.now(), d).years for d in createdDates]\n",
      "<ipython-input-22-4060631c237e>:4: SettingWithCopyWarning: \n",
      "A value is trying to be set on a copy of a slice from a DataFrame.\n",
      "Try using .loc[row_indexer,col_indexer] = value instead\n",
      "\n",
      "See the caveats in the documentation: https://pandas.pydata.org/pandas-docs/stable/user_guide/indexing.html#returning-a-view-versus-a-copy\n",
      "  activeYears['creationDate'] = [i for i in createdDates]\n",
      "C:\\Users\\gabriel\\anaconda3\\lib\\site-packages\\pandas\\core\\frame.py:3990: SettingWithCopyWarning: \n",
      "A value is trying to be set on a copy of a slice from a DataFrame\n",
      "\n",
      "See the caveats in the documentation: https://pandas.pydata.org/pandas-docs/stable/user_guide/indexing.html#returning-a-view-versus-a-copy\n",
      "  return super().drop(\n"
     ]
    },
    {
     "data": {
      "text/html": [
       "<div>\n",
       "<style scoped>\n",
       "    .dataframe tbody tr th:only-of-type {\n",
       "        vertical-align: middle;\n",
       "    }\n",
       "\n",
       "    .dataframe tbody tr th {\n",
       "        vertical-align: top;\n",
       "    }\n",
       "\n",
       "    .dataframe thead th {\n",
       "        text-align: right;\n",
       "    }\n",
       "</style>\n",
       "<table border=\"1\" class=\"dataframe\">\n",
       "  <thead>\n",
       "    <tr style=\"text-align: right;\">\n",
       "      <th></th>\n",
       "      <th>uuid</th>\n",
       "      <th>yearsActive</th>\n",
       "      <th>creationDate</th>\n",
       "    </tr>\n",
       "  </thead>\n",
       "  <tbody>\n",
       "    <tr>\n",
       "      <th>3</th>\n",
       "      <td>129570</td>\n",
       "      <td>9</td>\n",
       "      <td>2011-08-19</td>\n",
       "    </tr>\n",
       "    <tr>\n",
       "      <th>64</th>\n",
       "      <td>55367</td>\n",
       "      <td>9</td>\n",
       "      <td>2011-09-22</td>\n",
       "    </tr>\n",
       "    <tr>\n",
       "      <th>69</th>\n",
       "      <td>41377</td>\n",
       "      <td>9</td>\n",
       "      <td>2011-09-22</td>\n",
       "    </tr>\n",
       "    <tr>\n",
       "      <th>77</th>\n",
       "      <td>124499</td>\n",
       "      <td>9</td>\n",
       "      <td>2011-09-23</td>\n",
       "    </tr>\n",
       "    <tr>\n",
       "      <th>123</th>\n",
       "      <td>41067</td>\n",
       "      <td>9</td>\n",
       "      <td>2011-10-10</td>\n",
       "    </tr>\n",
       "    <tr>\n",
       "      <th>...</th>\n",
       "      <td>...</td>\n",
       "      <td>...</td>\n",
       "      <td>...</td>\n",
       "    </tr>\n",
       "    <tr>\n",
       "      <th>132560</th>\n",
       "      <td>93331</td>\n",
       "      <td>0</td>\n",
       "      <td>2020-08-20</td>\n",
       "    </tr>\n",
       "    <tr>\n",
       "      <th>132578</th>\n",
       "      <td>73528</td>\n",
       "      <td>0</td>\n",
       "      <td>2020-08-21</td>\n",
       "    </tr>\n",
       "    <tr>\n",
       "      <th>132666</th>\n",
       "      <td>56776</td>\n",
       "      <td>0</td>\n",
       "      <td>2020-08-22</td>\n",
       "    </tr>\n",
       "    <tr>\n",
       "      <th>132749</th>\n",
       "      <td>132609</td>\n",
       "      <td>0</td>\n",
       "      <td>2020-08-24</td>\n",
       "    </tr>\n",
       "    <tr>\n",
       "      <th>132884</th>\n",
       "      <td>121961</td>\n",
       "      <td>0</td>\n",
       "      <td>2020-08-26</td>\n",
       "    </tr>\n",
       "  </tbody>\n",
       "</table>\n",
       "<p>8670 rows × 3 columns</p>\n",
       "</div>"
      ],
      "text/plain": [
       "          uuid  yearsActive creationDate\n",
       "3       129570            9   2011-08-19\n",
       "64       55367            9   2011-09-22\n",
       "69       41377            9   2011-09-22\n",
       "77      124499            9   2011-09-23\n",
       "123      41067            9   2011-10-10\n",
       "...        ...          ...          ...\n",
       "132560   93331            0   2020-08-20\n",
       "132578   73528            0   2020-08-21\n",
       "132666   56776            0   2020-08-22\n",
       "132749  132609            0   2020-08-24\n",
       "132884  121961            0   2020-08-26\n",
       "\n",
       "[8670 rows x 3 columns]"
      ]
     },
     "execution_count": 22,
     "metadata": {},
     "output_type": "execute_result"
    }
   ],
   "source": [
    "activeYears = users[users['uuid'].isin(forumEx['user_uuid'])]\n",
    "createdDates= [pd.to_datetime(d) for d in activeYears['createdAt']]\n",
    "activeYears['yearsActive'] = [relativedelta(datetime.now(), d).years for d in createdDates]\n",
    "activeYears['creationDate'] = [i for i in createdDates]\n",
    "activeYears.drop(['createdAt','special_flagged'],axis=1,inplace=True)\n",
    "activeYears"
   ]
  },
  {
   "cell_type": "code",
   "execution_count": 23,
   "metadata": {},
   "outputs": [
    {
     "data": {
      "text/html": [
       "<div>\n",
       "<style scoped>\n",
       "    .dataframe tbody tr th:only-of-type {\n",
       "        vertical-align: middle;\n",
       "    }\n",
       "\n",
       "    .dataframe tbody tr th {\n",
       "        vertical-align: top;\n",
       "    }\n",
       "\n",
       "    .dataframe thead th {\n",
       "        text-align: right;\n",
       "    }\n",
       "</style>\n",
       "<table border=\"1\" class=\"dataframe\">\n",
       "  <thead>\n",
       "    <tr style=\"text-align: right;\">\n",
       "      <th></th>\n",
       "      <th>user_uuid</th>\n",
       "      <th>somaForum</th>\n",
       "      <th>somaEx</th>\n",
       "    </tr>\n",
       "  </thead>\n",
       "  <tbody>\n",
       "    <tr>\n",
       "      <th>user_uuid</th>\n",
       "      <td>1.000000</td>\n",
       "      <td>-0.021583</td>\n",
       "      <td>0.024264</td>\n",
       "    </tr>\n",
       "    <tr>\n",
       "      <th>somaForum</th>\n",
       "      <td>-0.021583</td>\n",
       "      <td>1.000000</td>\n",
       "      <td>0.031453</td>\n",
       "    </tr>\n",
       "    <tr>\n",
       "      <th>somaEx</th>\n",
       "      <td>0.024264</td>\n",
       "      <td>0.031453</td>\n",
       "      <td>1.000000</td>\n",
       "    </tr>\n",
       "  </tbody>\n",
       "</table>\n",
       "</div>"
      ],
      "text/plain": [
       "           user_uuid  somaForum    somaEx\n",
       "user_uuid   1.000000  -0.021583  0.024264\n",
       "somaForum  -0.021583   1.000000  0.031453\n",
       "somaEx      0.024264   0.031453  1.000000"
      ]
     },
     "execution_count": 23,
     "metadata": {},
     "output_type": "execute_result"
    }
   ],
   "source": [
    "forumEx.corr()"
   ]
  },
  {
   "cell_type": "code",
   "execution_count": 24,
   "metadata": {},
   "outputs": [
    {
     "data": {
      "image/png": "[encoded data removed]",
      "text/plain": [
       "<Figure size 432x288 with 1 Axes>"
      ]
     },
     "metadata": {
      "needs_background": "light"
     },
     "output_type": "display_data"
    }
   ],
   "source": [
    "forumEx.plot(kind='scatter',x='somaEx',y='somaForum')\n",
    "plt.show()"
   ]
  },
  {
   "cell_type": "markdown",
   "metadata": {},
   "source": [
    "Com o plot de Forum X Exercícios acima, podemos perceber que não há uma correlação entre a atividade dos alunos nos fóruns e exercícios. Ademais, uma característica importante se tornou visível: conforme um aluno aumenta seu volume de atividades na plataforma, a tendência é que este se especialize em exercícios OU perguntas no fórum, nunca os dois juntos."
   ]
  },
  {
   "cell_type": "markdown",
   "metadata": {},
   "source": [
    "Relação entre tempo gasto em vídeo e quantidade de exercícios"
   ]
  },
  {
   "cell_type": "code",
   "execution_count": 25,
   "metadata": {},
   "outputs": [],
   "source": [
    "tasksForumEx = forumEx.merge(tasks,left_on=['user_uuid'],right_on=['uuid'])\n",
    "tasksForumEx.drop(['user_uuid','kind','status','createdAt'],axis=1,inplace=True)\n",
    "tasksForumEx.drop_duplicates(subset=['uuid','moment'],inplace=True)"
   ]
  },
  {
   "cell_type": "code",
   "execution_count": 26,
   "metadata": {},
   "outputs": [
    {
     "data": {
      "text/html": [
       "<div>\n",
       "<style scoped>\n",
       "    .dataframe tbody tr th:only-of-type {\n",
       "        vertical-align: middle;\n",
       "    }\n",
       "\n",
       "    .dataframe tbody tr th {\n",
       "        vertical-align: top;\n",
       "    }\n",
       "\n",
       "    .dataframe thead th {\n",
       "        text-align: right;\n",
       "    }\n",
       "</style>\n",
       "<table border=\"1\" class=\"dataframe\">\n",
       "  <thead>\n",
       "    <tr style=\"text-align: right;\">\n",
       "      <th></th>\n",
       "      <th>moment</th>\n",
       "      <th>somaForum</th>\n",
       "      <th>somaEx</th>\n",
       "      <th>duration</th>\n",
       "      <th>uuid</th>\n",
       "      <th>course_uuid</th>\n",
       "    </tr>\n",
       "  </thead>\n",
       "  <tbody>\n",
       "    <tr>\n",
       "      <th>0</th>\n",
       "      <td>2016-09-12</td>\n",
       "      <td>4</td>\n",
       "      <td>1</td>\n",
       "      <td>0</td>\n",
       "      <td>13258</td>\n",
       "      <td>723</td>\n",
       "    </tr>\n",
       "    <tr>\n",
       "      <th>1</th>\n",
       "      <td>2016-09-13</td>\n",
       "      <td>5</td>\n",
       "      <td>5</td>\n",
       "      <td>0</td>\n",
       "      <td>13258</td>\n",
       "      <td>723</td>\n",
       "    </tr>\n",
       "    <tr>\n",
       "      <th>2</th>\n",
       "      <td>2016-09-14</td>\n",
       "      <td>3</td>\n",
       "      <td>10</td>\n",
       "      <td>0</td>\n",
       "      <td>13258</td>\n",
       "      <td>723</td>\n",
       "    </tr>\n",
       "    <tr>\n",
       "      <th>3</th>\n",
       "      <td>2016-09-16</td>\n",
       "      <td>3</td>\n",
       "      <td>6</td>\n",
       "      <td>0</td>\n",
       "      <td>13258</td>\n",
       "      <td>723</td>\n",
       "    </tr>\n",
       "    <tr>\n",
       "      <th>4</th>\n",
       "      <td>2016-09-17</td>\n",
       "      <td>2</td>\n",
       "      <td>6</td>\n",
       "      <td>0</td>\n",
       "      <td>13258</td>\n",
       "      <td>723</td>\n",
       "    </tr>\n",
       "    <tr>\n",
       "      <th>...</th>\n",
       "      <td>...</td>\n",
       "      <td>...</td>\n",
       "      <td>...</td>\n",
       "      <td>...</td>\n",
       "      <td>...</td>\n",
       "      <td>...</td>\n",
       "    </tr>\n",
       "    <tr>\n",
       "      <th>8584</th>\n",
       "      <td>2020-08-24</td>\n",
       "      <td>1</td>\n",
       "      <td>4</td>\n",
       "      <td>0</td>\n",
       "      <td>28646</td>\n",
       "      <td>559</td>\n",
       "    </tr>\n",
       "    <tr>\n",
       "      <th>8585</th>\n",
       "      <td>2020-08-25</td>\n",
       "      <td>6</td>\n",
       "      <td>11</td>\n",
       "      <td>0</td>\n",
       "      <td>61619</td>\n",
       "      <td>613</td>\n",
       "    </tr>\n",
       "    <tr>\n",
       "      <th>8586</th>\n",
       "      <td>2020-08-26</td>\n",
       "      <td>1</td>\n",
       "      <td>4</td>\n",
       "      <td>0</td>\n",
       "      <td>61619</td>\n",
       "      <td>613</td>\n",
       "    </tr>\n",
       "    <tr>\n",
       "      <th>8587</th>\n",
       "      <td>2020-08-25</td>\n",
       "      <td>1</td>\n",
       "      <td>1</td>\n",
       "      <td>0</td>\n",
       "      <td>62549</td>\n",
       "      <td>394</td>\n",
       "    </tr>\n",
       "    <tr>\n",
       "      <th>8588</th>\n",
       "      <td>2020-08-25</td>\n",
       "      <td>1</td>\n",
       "      <td>8</td>\n",
       "      <td>723</td>\n",
       "      <td>17405</td>\n",
       "      <td>776</td>\n",
       "    </tr>\n",
       "  </tbody>\n",
       "</table>\n",
       "<p>8589 rows × 6 columns</p>\n",
       "</div>"
      ],
      "text/plain": [
       "          moment  somaForum  somaEx  duration   uuid  course_uuid\n",
       "0     2016-09-12          4       1         0  13258          723\n",
       "1     2016-09-13          5       5         0  13258          723\n",
       "2     2016-09-14          3      10         0  13258          723\n",
       "3     2016-09-16          3       6         0  13258          723\n",
       "4     2016-09-17          2       6         0  13258          723\n",
       "...          ...        ...     ...       ...    ...          ...\n",
       "8584  2020-08-24          1       4         0  28646          559\n",
       "8585  2020-08-25          6      11         0  61619          613\n",
       "8586  2020-08-26          1       4         0  61619          613\n",
       "8587  2020-08-25          1       1         0  62549          394\n",
       "8588  2020-08-25          1       8       723  17405          776\n",
       "\n",
       "[8589 rows x 6 columns]"
      ]
     },
     "execution_count": 26,
     "metadata": {},
     "output_type": "execute_result"
    }
   ],
   "source": [
    "tasksForumEx"
   ]
  },
  {
   "cell_type": "markdown",
   "metadata": {},
   "source": [
    "Corroborando com o que foi dito anteriormente, aqui vemos, mais uma vez, a ausência de relação entre "
   ]
  },
  {
   "cell_type": "code",
   "execution_count": 27,
   "metadata": {},
   "outputs": [
    {
     "data": {
      "text/html": [
       "<div>\n",
       "<style scoped>\n",
       "    .dataframe tbody tr th:only-of-type {\n",
       "        vertical-align: middle;\n",
       "    }\n",
       "\n",
       "    .dataframe tbody tr th {\n",
       "        vertical-align: top;\n",
       "    }\n",
       "\n",
       "    .dataframe thead th {\n",
       "        text-align: right;\n",
       "    }\n",
       "</style>\n",
       "<table border=\"1\" class=\"dataframe\">\n",
       "  <thead>\n",
       "    <tr style=\"text-align: right;\">\n",
       "      <th></th>\n",
       "      <th>somaForum</th>\n",
       "      <th>somaEx</th>\n",
       "      <th>duration</th>\n",
       "      <th>uuid</th>\n",
       "      <th>course_uuid</th>\n",
       "    </tr>\n",
       "  </thead>\n",
       "  <tbody>\n",
       "    <tr>\n",
       "      <th>somaForum</th>\n",
       "      <td>1.000000</td>\n",
       "      <td>-0.005373</td>\n",
       "      <td>-0.062605</td>\n",
       "      <td>0.044326</td>\n",
       "      <td>-0.015683</td>\n",
       "    </tr>\n",
       "    <tr>\n",
       "      <th>somaEx</th>\n",
       "      <td>-0.005373</td>\n",
       "      <td>1.000000</td>\n",
       "      <td>-0.006926</td>\n",
       "      <td>0.028276</td>\n",
       "      <td>0.020815</td>\n",
       "    </tr>\n",
       "    <tr>\n",
       "      <th>duration</th>\n",
       "      <td>-0.062605</td>\n",
       "      <td>-0.006926</td>\n",
       "      <td>1.000000</td>\n",
       "      <td>0.000890</td>\n",
       "      <td>-0.049521</td>\n",
       "    </tr>\n",
       "    <tr>\n",
       "      <th>uuid</th>\n",
       "      <td>0.044326</td>\n",
       "      <td>0.028276</td>\n",
       "      <td>0.000890</td>\n",
       "      <td>1.000000</td>\n",
       "      <td>0.010540</td>\n",
       "    </tr>\n",
       "    <tr>\n",
       "      <th>course_uuid</th>\n",
       "      <td>-0.015683</td>\n",
       "      <td>0.020815</td>\n",
       "      <td>-0.049521</td>\n",
       "      <td>0.010540</td>\n",
       "      <td>1.000000</td>\n",
       "    </tr>\n",
       "  </tbody>\n",
       "</table>\n",
       "</div>"
      ],
      "text/plain": [
       "             somaForum    somaEx  duration      uuid  course_uuid\n",
       "somaForum     1.000000 -0.005373 -0.062605  0.044326    -0.015683\n",
       "somaEx       -0.005373  1.000000 -0.006926  0.028276     0.020815\n",
       "duration     -0.062605 -0.006926  1.000000  0.000890    -0.049521\n",
       "uuid          0.044326  0.028276  0.000890  1.000000     0.010540\n",
       "course_uuid  -0.015683  0.020815 -0.049521  0.010540     1.000000"
      ]
     },
     "execution_count": 27,
     "metadata": {},
     "output_type": "execute_result"
    }
   ],
   "source": [
    "tasksForumEx.corr()"
   ]
  },
  {
   "cell_type": "code",
   "execution_count": 28,
   "metadata": {},
   "outputs": [
    {
     "data": {
      "image/png": "[encoded data removed]",
      "text/plain": [
       "<Figure size 432x288 with 2 Axes>"
      ]
     },
     "metadata": {
      "needs_background": "light"
     },
     "output_type": "display_data"
    }
   ],
   "source": [
    "dates= [pd.to_datetime(d) for d in tasksForumEx['moment']]\n",
    "du= [d for d in tasksForumEx['duration']]\n",
    "plt.scatter(x=dates,y=tasksForumEx['somaEx'],s=tasksForumEx['somaForum']*5,c=du,cmap='jet')\n",
    "plt.xticks(rotation='vertical')\n",
    "plt.colorbar()\n",
    "plt.show()"
   ]
  },
  {
   "cell_type": "markdown",
   "metadata": {},
   "source": [
    "Neste plot, percebemos algo interessante: o tempo que o aluno gasta em vídeo, representado no gráfico pela cor dos pontos, não tem correlação nem com a quantidade de exercícios feitos pelo aluno, nem com a atividade nos fóruns do mesmo. Ou seja, um aluno que assiste muitas aulas na plataforma não irá, necessáriamente, fazer muitos exercícios ou ser muito ativo nos fóruns online."
   ]
  },
  {
   "cell_type": "code",
   "execution_count": 64,
   "metadata": {},
   "outputs": [],
   "source": [
    "scores = tasksForumEx.copy()\n",
    "scores['somaForum'] = scores.groupby('uuid')['somaForum'].transform('sum')\n",
    "scores['somaEx'] = scores.groupby('uuid')['somaEx'].transform('sum')\n",
    "scores.drop_duplicates(subset='uuid',inplace=True)\n",
    "datedScores = scores.merge(activeYears[['uuid','yearsActive']],left_on='uuid',right_on='uuid')\n",
    "temp = datedScores[['uuid']].merge(regs[['user_uuid','course_uuid']],left_on='uuid',right_on='user_uuid')\n",
    "datedScores['courses'] = temp.groupby('uuid')['course_uuid'].transform('count')\n",
    "datedScores.drop(['course_uuid','moment'],axis=1,inplace=True)"
   ]
  },
  {
   "cell_type": "code",
   "execution_count": 65,
   "metadata": {},
   "outputs": [
    {
     "data": {
      "text/html": [
       "<div>\n",
       "<style scoped>\n",
       "    .dataframe tbody tr th:only-of-type {\n",
       "        vertical-align: middle;\n",
       "    }\n",
       "\n",
       "    .dataframe tbody tr th {\n",
       "        vertical-align: top;\n",
       "    }\n",
       "\n",
       "    .dataframe thead th {\n",
       "        text-align: right;\n",
       "    }\n",
       "</style>\n",
       "<table border=\"1\" class=\"dataframe\">\n",
       "  <thead>\n",
       "    <tr style=\"text-align: right;\">\n",
       "      <th></th>\n",
       "      <th>somaForum</th>\n",
       "      <th>somaEx</th>\n",
       "      <th>duration</th>\n",
       "      <th>uuid</th>\n",
       "      <th>yearsActive</th>\n",
       "      <th>courses</th>\n",
       "    </tr>\n",
       "  </thead>\n",
       "  <tbody>\n",
       "    <tr>\n",
       "      <th>0</th>\n",
       "      <td>266</td>\n",
       "      <td>457</td>\n",
       "      <td>0</td>\n",
       "      <td>13258</td>\n",
       "      <td>4</td>\n",
       "      <td>28</td>\n",
       "    </tr>\n",
       "    <tr>\n",
       "      <th>1</th>\n",
       "      <td>2</td>\n",
       "      <td>10</td>\n",
       "      <td>981</td>\n",
       "      <td>53284</td>\n",
       "      <td>6</td>\n",
       "      <td>28</td>\n",
       "    </tr>\n",
       "    <tr>\n",
       "      <th>2</th>\n",
       "      <td>2</td>\n",
       "      <td>24</td>\n",
       "      <td>0</td>\n",
       "      <td>7455</td>\n",
       "      <td>4</td>\n",
       "      <td>28</td>\n",
       "    </tr>\n",
       "    <tr>\n",
       "      <th>3</th>\n",
       "      <td>1</td>\n",
       "      <td>7</td>\n",
       "      <td>0</td>\n",
       "      <td>39989</td>\n",
       "      <td>4</td>\n",
       "      <td>28</td>\n",
       "    </tr>\n",
       "    <tr>\n",
       "      <th>4</th>\n",
       "      <td>10</td>\n",
       "      <td>52</td>\n",
       "      <td>151</td>\n",
       "      <td>27744</td>\n",
       "      <td>4</td>\n",
       "      <td>28</td>\n",
       "    </tr>\n",
       "    <tr>\n",
       "      <th>...</th>\n",
       "      <td>...</td>\n",
       "      <td>...</td>\n",
       "      <td>...</td>\n",
       "      <td>...</td>\n",
       "      <td>...</td>\n",
       "      <td>...</td>\n",
       "    </tr>\n",
       "    <tr>\n",
       "      <th>2959</th>\n",
       "      <td>2</td>\n",
       "      <td>4</td>\n",
       "      <td>0</td>\n",
       "      <td>53331</td>\n",
       "      <td>0</td>\n",
       "      <td>12</td>\n",
       "    </tr>\n",
       "    <tr>\n",
       "      <th>2960</th>\n",
       "      <td>1</td>\n",
       "      <td>4</td>\n",
       "      <td>0</td>\n",
       "      <td>28646</td>\n",
       "      <td>0</td>\n",
       "      <td>12</td>\n",
       "    </tr>\n",
       "    <tr>\n",
       "      <th>2961</th>\n",
       "      <td>7</td>\n",
       "      <td>15</td>\n",
       "      <td>0</td>\n",
       "      <td>61619</td>\n",
       "      <td>0</td>\n",
       "      <td>12</td>\n",
       "    </tr>\n",
       "    <tr>\n",
       "      <th>2962</th>\n",
       "      <td>1</td>\n",
       "      <td>1</td>\n",
       "      <td>0</td>\n",
       "      <td>62549</td>\n",
       "      <td>3</td>\n",
       "      <td>12</td>\n",
       "    </tr>\n",
       "    <tr>\n",
       "      <th>2963</th>\n",
       "      <td>1</td>\n",
       "      <td>8</td>\n",
       "      <td>723</td>\n",
       "      <td>17405</td>\n",
       "      <td>0</td>\n",
       "      <td>12</td>\n",
       "    </tr>\n",
       "  </tbody>\n",
       "</table>\n",
       "<p>2964 rows × 6 columns</p>\n",
       "</div>"
      ],
      "text/plain": [
       "      somaForum  somaEx  duration   uuid  yearsActive  courses\n",
       "0           266     457         0  13258            4       28\n",
       "1             2      10       981  53284            6       28\n",
       "2             2      24         0   7455            4       28\n",
       "3             1       7         0  39989            4       28\n",
       "4            10      52       151  27744            4       28\n",
       "...         ...     ...       ...    ...          ...      ...\n",
       "2959          2       4         0  53331            0       12\n",
       "2960          1       4         0  28646            0       12\n",
       "2961          7      15         0  61619            0       12\n",
       "2962          1       1         0  62549            3       12\n",
       "2963          1       8       723  17405            0       12\n",
       "\n",
       "[2964 rows x 6 columns]"
      ]
     },
     "execution_count": 65,
     "metadata": {},
     "output_type": "execute_result"
    }
   ],
   "source": [
    "datedScores"
   ]
  },
  {
   "cell_type": "markdown",
   "metadata": {},
   "source": [
    "Aqui, desenvolvemos uma metrica de score para os alunos"
   ]
  },
  {
   "cell_type": "code",
   "execution_count": 108,
   "metadata": {},
   "outputs": [],
   "source": [
    "datedScores = datedScores[datedScores['courses']>0]\n",
    "datedScores = datedScores[(datedScores['duration']<1200) & (datedScores['duration']>0)]\n",
    "normalEx = datedScores['somaEx']/datedScores['somaEx'].mean()\n",
    "normalForum = datedScores['somaForum']/datedScores['somaForum'].mean()\n",
    "normalDuration = datedScores['duration']/datedScores['duration'].mean()\n",
    "normalCourses = datedScores['courses']/datedScores['courses'].mean()\n",
    "\n",
    "datedScores['score'] = (normalEx+normalForum+normalDuration)/normalCourses"
   ]
  },
  {
   "cell_type": "code",
   "execution_count": 109,
   "metadata": {},
   "outputs": [
    {
     "data": {
      "text/html": [
       "<div>\n",
       "<style scoped>\n",
       "    .dataframe tbody tr th:only-of-type {\n",
       "        vertical-align: middle;\n",
       "    }\n",
       "\n",
       "    .dataframe tbody tr th {\n",
       "        vertical-align: top;\n",
       "    }\n",
       "\n",
       "    .dataframe thead th {\n",
       "        text-align: right;\n",
       "    }\n",
       "</style>\n",
       "<table border=\"1\" class=\"dataframe\">\n",
       "  <thead>\n",
       "    <tr style=\"text-align: right;\">\n",
       "      <th></th>\n",
       "      <th>somaForum</th>\n",
       "      <th>somaEx</th>\n",
       "      <th>duration</th>\n",
       "      <th>uuid</th>\n",
       "      <th>yearsActive</th>\n",
       "      <th>courses</th>\n",
       "      <th>score</th>\n",
       "    </tr>\n",
       "  </thead>\n",
       "  <tbody>\n",
       "    <tr>\n",
       "      <th>1</th>\n",
       "      <td>2</td>\n",
       "      <td>10</td>\n",
       "      <td>981</td>\n",
       "      <td>53284</td>\n",
       "      <td>6</td>\n",
       "      <td>28</td>\n",
       "      <td>5.514413</td>\n",
       "    </tr>\n",
       "    <tr>\n",
       "      <th>4</th>\n",
       "      <td>10</td>\n",
       "      <td>52</td>\n",
       "      <td>151</td>\n",
       "      <td>27744</td>\n",
       "      <td>4</td>\n",
       "      <td>28</td>\n",
       "      <td>8.865532</td>\n",
       "    </tr>\n",
       "    <tr>\n",
       "      <th>5</th>\n",
       "      <td>2</td>\n",
       "      <td>26</td>\n",
       "      <td>85</td>\n",
       "      <td>16791</td>\n",
       "      <td>4</td>\n",
       "      <td>28</td>\n",
       "      <td>3.137688</td>\n",
       "    </tr>\n",
       "    <tr>\n",
       "      <th>6</th>\n",
       "      <td>2</td>\n",
       "      <td>44</td>\n",
       "      <td>192</td>\n",
       "      <td>57928</td>\n",
       "      <td>4</td>\n",
       "      <td>28</td>\n",
       "      <td>4.885787</td>\n",
       "    </tr>\n",
       "    <tr>\n",
       "      <th>10</th>\n",
       "      <td>14</td>\n",
       "      <td>86</td>\n",
       "      <td>601</td>\n",
       "      <td>25141</td>\n",
       "      <td>4</td>\n",
       "      <td>28</td>\n",
       "      <td>14.927590</td>\n",
       "    </tr>\n",
       "    <tr>\n",
       "      <th>...</th>\n",
       "      <td>...</td>\n",
       "      <td>...</td>\n",
       "      <td>...</td>\n",
       "      <td>...</td>\n",
       "      <td>...</td>\n",
       "      <td>...</td>\n",
       "      <td>...</td>\n",
       "    </tr>\n",
       "    <tr>\n",
       "      <th>2950</th>\n",
       "      <td>1</td>\n",
       "      <td>21</td>\n",
       "      <td>560</td>\n",
       "      <td>29650</td>\n",
       "      <td>0</td>\n",
       "      <td>8</td>\n",
       "      <td>14.733259</td>\n",
       "    </tr>\n",
       "    <tr>\n",
       "      <th>2952</th>\n",
       "      <td>1</td>\n",
       "      <td>4</td>\n",
       "      <td>496</td>\n",
       "      <td>38065</td>\n",
       "      <td>0</td>\n",
       "      <td>8</td>\n",
       "      <td>9.469169</td>\n",
       "    </tr>\n",
       "    <tr>\n",
       "      <th>2956</th>\n",
       "      <td>2</td>\n",
       "      <td>108</td>\n",
       "      <td>282</td>\n",
       "      <td>58784</td>\n",
       "      <td>4</td>\n",
       "      <td>8</td>\n",
       "      <td>34.822874</td>\n",
       "    </tr>\n",
       "    <tr>\n",
       "      <th>2957</th>\n",
       "      <td>1</td>\n",
       "      <td>4</td>\n",
       "      <td>1184</td>\n",
       "      <td>47885</td>\n",
       "      <td>0</td>\n",
       "      <td>8</td>\n",
       "      <td>19.018918</td>\n",
       "    </tr>\n",
       "    <tr>\n",
       "      <th>2963</th>\n",
       "      <td>1</td>\n",
       "      <td>8</td>\n",
       "      <td>723</td>\n",
       "      <td>17405</td>\n",
       "      <td>0</td>\n",
       "      <td>12</td>\n",
       "      <td>9.099745</td>\n",
       "    </tr>\n",
       "  </tbody>\n",
       "</table>\n",
       "<p>1007 rows × 7 columns</p>\n",
       "</div>"
      ],
      "text/plain": [
       "      somaForum  somaEx  duration   uuid  yearsActive  courses      score\n",
       "1             2      10       981  53284            6       28   5.514413\n",
       "4            10      52       151  27744            4       28   8.865532\n",
       "5             2      26        85  16791            4       28   3.137688\n",
       "6             2      44       192  57928            4       28   4.885787\n",
       "10           14      86       601  25141            4       28  14.927590\n",
       "...         ...     ...       ...    ...          ...      ...        ...\n",
       "2950          1      21       560  29650            0        8  14.733259\n",
       "2952          1       4       496  38065            0        8   9.469169\n",
       "2956          2     108       282  58784            4        8  34.822874\n",
       "2957          1       4      1184  47885            0        8  19.018918\n",
       "2963          1       8       723  17405            0       12   9.099745\n",
       "\n",
       "[1007 rows x 7 columns]"
      ]
     },
     "execution_count": 109,
     "metadata": {},
     "output_type": "execute_result"
    }
   ],
   "source": [
    "datedScores"
   ]
  },
  {
   "cell_type": "markdown",
   "metadata": {},
   "source": [
    "Após estabelecida a métrica, veremos dados a respeito de cada um dos quartis de pontuação"
   ]
  },
  {
   "cell_type": "code",
   "execution_count": 110,
   "metadata": {},
   "outputs": [
    {
     "name": "stderr",
     "output_type": "stream",
     "text": [
      "<ipython-input-110-9a428a2349a8>:2: SettingWithCopyWarning: \n",
      "A value is trying to be set on a copy of a slice from a DataFrame.\n",
      "Try using .loc[row_indexer,col_indexer] = value instead\n",
      "\n",
      "See the caveats in the documentation: https://pandas.pydata.org/pandas-docs/stable/user_guide/indexing.html#returning-a-view-versus-a-copy\n",
      "  logFreq['entries'] = logFreq.groupby(['user_uuid','moment'])['moment'].transform('count')\n",
      "<ipython-input-110-9a428a2349a8>:3: SettingWithCopyWarning: \n",
      "A value is trying to be set on a copy of a slice from a DataFrame\n",
      "\n",
      "See the caveats in the documentation: https://pandas.pydata.org/pandas-docs/stable/user_guide/indexing.html#returning-a-view-versus-a-copy\n",
      "  logFreq.drop_duplicates(subset=['user_uuid','moment'],inplace=True)\n",
      "<ipython-input-110-9a428a2349a8>:4: SettingWithCopyWarning: \n",
      "A value is trying to be set on a copy of a slice from a DataFrame.\n",
      "Try using .loc[row_indexer,col_indexer] = value instead\n",
      "\n",
      "See the caveats in the documentation: https://pandas.pydata.org/pandas-docs/stable/user_guide/indexing.html#returning-a-view-versus-a-copy\n",
      "  logFreq['var'] = logFreq.groupby(['user_uuid'])['entries'].transform('var')\n",
      "<ipython-input-110-9a428a2349a8>:5: SettingWithCopyWarning: \n",
      "A value is trying to be set on a copy of a slice from a DataFrame.\n",
      "Try using .loc[row_indexer,col_indexer] = value instead\n",
      "\n",
      "See the caveats in the documentation: https://pandas.pydata.org/pandas-docs/stable/user_guide/indexing.html#returning-a-view-versus-a-copy\n",
      "  logFreq['std'] = logFreq.groupby(['user_uuid'])['entries'].transform('std')\n"
     ]
    },
    {
     "data": {
      "text/html": [
       "<div>\n",
       "<style scoped>\n",
       "    .dataframe tbody tr th:only-of-type {\n",
       "        vertical-align: middle;\n",
       "    }\n",
       "\n",
       "    .dataframe tbody tr th {\n",
       "        vertical-align: top;\n",
       "    }\n",
       "\n",
       "    .dataframe thead th {\n",
       "        text-align: right;\n",
       "    }\n",
       "</style>\n",
       "<table border=\"1\" class=\"dataframe\">\n",
       "  <thead>\n",
       "    <tr style=\"text-align: right;\">\n",
       "      <th></th>\n",
       "      <th>user_uuid</th>\n",
       "      <th>moment</th>\n",
       "      <th>entries</th>\n",
       "      <th>var</th>\n",
       "      <th>std</th>\n",
       "    </tr>\n",
       "  </thead>\n",
       "  <tbody>\n",
       "    <tr>\n",
       "      <th>0</th>\n",
       "      <td>57928</td>\n",
       "      <td>2016-09-12</td>\n",
       "      <td>47</td>\n",
       "      <td>976.858974</td>\n",
       "      <td>31.254743</td>\n",
       "    </tr>\n",
       "    <tr>\n",
       "      <th>1</th>\n",
       "      <td>73719</td>\n",
       "      <td>2016-09-12</td>\n",
       "      <td>5</td>\n",
       "      <td>55.314407</td>\n",
       "      <td>7.437366</td>\n",
       "    </tr>\n",
       "    <tr>\n",
       "      <th>2</th>\n",
       "      <td>38957</td>\n",
       "      <td>2016-09-12</td>\n",
       "      <td>2</td>\n",
       "      <td>30.077558</td>\n",
       "      <td>5.484301</td>\n",
       "    </tr>\n",
       "    <tr>\n",
       "      <th>3</th>\n",
       "      <td>59788</td>\n",
       "      <td>2016-09-12</td>\n",
       "      <td>28</td>\n",
       "      <td>90.730488</td>\n",
       "      <td>9.525255</td>\n",
       "    </tr>\n",
       "    <tr>\n",
       "      <th>5</th>\n",
       "      <td>61315</td>\n",
       "      <td>2016-09-12</td>\n",
       "      <td>12</td>\n",
       "      <td>10.500000</td>\n",
       "      <td>3.240370</td>\n",
       "    </tr>\n",
       "    <tr>\n",
       "      <th>...</th>\n",
       "      <td>...</td>\n",
       "      <td>...</td>\n",
       "      <td>...</td>\n",
       "      <td>...</td>\n",
       "      <td>...</td>\n",
       "    </tr>\n",
       "    <tr>\n",
       "      <th>18533448</th>\n",
       "      <td>53472</td>\n",
       "      <td>2020-08-27</td>\n",
       "      <td>4</td>\n",
       "      <td>33.072727</td>\n",
       "      <td>5.750889</td>\n",
       "    </tr>\n",
       "    <tr>\n",
       "      <th>18533454</th>\n",
       "      <td>93015</td>\n",
       "      <td>2020-08-27</td>\n",
       "      <td>2</td>\n",
       "      <td>94.666667</td>\n",
       "      <td>9.729680</td>\n",
       "    </tr>\n",
       "    <tr>\n",
       "      <th>18533456</th>\n",
       "      <td>97279</td>\n",
       "      <td>2020-08-27</td>\n",
       "      <td>1</td>\n",
       "      <td>52.000000</td>\n",
       "      <td>7.211103</td>\n",
       "    </tr>\n",
       "    <tr>\n",
       "      <th>18533465</th>\n",
       "      <td>83062</td>\n",
       "      <td>2020-08-27</td>\n",
       "      <td>1</td>\n",
       "      <td>24.119540</td>\n",
       "      <td>4.911165</td>\n",
       "    </tr>\n",
       "    <tr>\n",
       "      <th>18533470</th>\n",
       "      <td>76955</td>\n",
       "      <td>2020-08-27</td>\n",
       "      <td>1</td>\n",
       "      <td>132.646154</td>\n",
       "      <td>11.517211</td>\n",
       "    </tr>\n",
       "  </tbody>\n",
       "</table>\n",
       "<p>2235221 rows × 5 columns</p>\n",
       "</div>"
      ],
      "text/plain": [
       "          user_uuid      moment  entries         var        std\n",
       "0             57928  2016-09-12       47  976.858974  31.254743\n",
       "1             73719  2016-09-12        5   55.314407   7.437366\n",
       "2             38957  2016-09-12        2   30.077558   5.484301\n",
       "3             59788  2016-09-12       28   90.730488   9.525255\n",
       "5             61315  2016-09-12       12   10.500000   3.240370\n",
       "...             ...         ...      ...         ...        ...\n",
       "18533448      53472  2020-08-27        4   33.072727   5.750889\n",
       "18533454      93015  2020-08-27        2   94.666667   9.729680\n",
       "18533456      97279  2020-08-27        1   52.000000   7.211103\n",
       "18533465      83062  2020-08-27        1   24.119540   4.911165\n",
       "18533470      76955  2020-08-27        1  132.646154  11.517211\n",
       "\n",
       "[2235221 rows x 5 columns]"
      ]
     },
     "execution_count": 110,
     "metadata": {},
     "output_type": "execute_result"
    }
   ],
   "source": [
    "logFreq = logs[['user_uuid','moment']]\n",
    "logFreq['entries'] = logFreq.groupby(['user_uuid','moment'])['moment'].transform('count')\n",
    "logFreq.drop_duplicates(subset=['user_uuid','moment'],inplace=True)\n",
    "logFreq['var'] = logFreq.groupby(['user_uuid'])['entries'].transform('var')\n",
    "logFreq['std'] = logFreq.groupby(['user_uuid'])['entries'].transform('std')\n",
    "logFreq"
   ]
  },
  {
   "cell_type": "code",
   "execution_count": 111,
   "metadata": {},
   "outputs": [],
   "source": [
    "scoreFreq = datedScores.merge(logFreq[['user_uuid','var','entries','std']],left_on='uuid',right_on='user_uuid')\n",
    "scoreFreq['entries'] = scoreFreq.groupby(['user_uuid'])['entries'].transform('sum')\n",
    "scoreFreq.drop_duplicates(subset='user_uuid',inplace=True)"
   ]
  },
  {
   "cell_type": "code",
   "execution_count": 112,
   "metadata": {},
   "outputs": [],
   "source": [
    "scoreFreq['logScore'] = np.log(scoreFreq['score'])\n",
    "scoreFreq['logCourses'] = np.log(scoreFreq['courses'])"
   ]
  },
  {
   "cell_type": "code",
   "execution_count": 113,
   "metadata": {},
   "outputs": [
    {
     "data": {
      "text/plain": [
       "-0.7546929547849937"
      ]
     },
     "execution_count": 113,
     "metadata": {},
     "output_type": "execute_result"
    }
   ],
   "source": [
    "scoreFreq['logCourses'].corr(scoreFreq['logScore'])"
   ]
  },
  {
   "cell_type": "code",
   "execution_count": 114,
   "metadata": {},
   "outputs": [
    {
     "data": {
      "text/plain": [
       "(1007, 13)"
      ]
     },
     "execution_count": 114,
     "metadata": {},
     "output_type": "execute_result"
    }
   ],
   "source": [
    "scoreFreq.shape"
   ]
  },
  {
   "cell_type": "code",
   "execution_count": 115,
   "metadata": {},
   "outputs": [
    {
     "data": {
      "image/png": "[encoded data removed]",
      "text/plain": [
       "<Figure size 432x288 with 2 Axes>"
      ]
     },
     "metadata": {
      "needs_background": "light"
     },
     "output_type": "display_data"
    }
   ],
   "source": [
    "scoreFreq.plot(kind='scatter',x='std',y='score',c='courses',colormap='jet')\n",
    "plt.show()"
   ]
  },
  {
   "cell_type": "code",
   "execution_count": 116,
   "metadata": {
    "scrolled": true
   },
   "outputs": [
    {
     "data": {
      "image/png": "[encoded data removed]",
      "text/plain": [
       "<Figure size 432x288 with 2 Axes>"
      ]
     },
     "metadata": {
      "needs_background": "light"
     },
     "output_type": "display_data"
    }
   ],
   "source": [
    "scoreFreq.plot(kind='scatter',x='var',y='score',colormap='jet',c='courses',loglog=True)\n",
    "plt.show()"
   ]
  },
  {
   "cell_type": "code",
   "execution_count": 117,
   "metadata": {},
   "outputs": [
    {
     "data": {
      "image/png": "[encoded data removed]",
      "text/plain": [
       "<Figure size 432x288 with 2 Axes>"
      ]
     },
     "metadata": {
      "needs_background": "light"
     },
     "output_type": "display_data"
    }
   ],
   "source": [
    "scoreFreq.plot(kind='scatter',x='std',y='score',colormap='jet',c='entries')\n",
    "plt.show()"
   ]
  },
  {
   "cell_type": "code",
   "execution_count": 118,
   "metadata": {},
   "outputs": [
    {
     "data": {
      "image/png": "[encoded data removed]",
      "text/plain": [
       "<Figure size 360x360 with 1 Axes>"
      ]
     },
     "metadata": {
      "needs_background": "light"
     },
     "output_type": "display_data"
    }
   ],
   "source": [
    "cmap = sns.cubehelix_palette(as_cmap=True)\n",
    "sns.lmplot(x='logCourses',y='logScore',data=scoreFreq,palette=cmap,fit_reg=True)\n",
    "plt.show()"
   ]
  },
  {
   "cell_type": "code",
   "execution_count": 119,
   "metadata": {},
   "outputs": [
    {
     "data": {
      "image/png": "[encoded data removed]",
      "text/plain": [
       "<Figure size 432x288 with 2 Axes>"
      ]
     },
     "metadata": {
      "needs_background": "light"
     },
     "output_type": "display_data"
    }
   ],
   "source": [
    "scoreFreq.plot(kind='scatter',x='logCourses',y='logScore',colormap='jet',c='entries')\n",
    "plt.show()"
   ]
  },
  {
   "cell_type": "code",
   "execution_count": 121,
   "metadata": {},
   "outputs": [
    {
     "data": {
      "image/png": "[encoded data removed]",
      "text/plain": [
       "<Figure size 432x288 with 2 Axes>"
      ]
     },
     "metadata": {
      "needs_background": "light"
     },
     "output_type": "display_data"
    }
   ],
   "source": [
    "scoreFreq.plot(kind='scatter',x='var',y='score',colormap='jet',c='duration',loglog=True)\n",
    "plt.show()"
   ]
  },
  {
   "cell_type": "code",
   "execution_count": 46,
   "metadata": {},
   "outputs": [
    {
     "data": {
      "text/html": [
       "<div>\n",
       "<style scoped>\n",
       "    .dataframe tbody tr th:only-of-type {\n",
       "        vertical-align: middle;\n",
       "    }\n",
       "\n",
       "    .dataframe tbody tr th {\n",
       "        vertical-align: top;\n",
       "    }\n",
       "\n",
       "    .dataframe thead th {\n",
       "        text-align: right;\n",
       "    }\n",
       "</style>\n",
       "<table border=\"1\" class=\"dataframe\">\n",
       "  <thead>\n",
       "    <tr style=\"text-align: right;\">\n",
       "      <th></th>\n",
       "      <th>duration</th>\n",
       "      <th>uuid</th>\n",
       "    </tr>\n",
       "  </thead>\n",
       "  <tbody>\n",
       "    <tr>\n",
       "      <th>22063</th>\n",
       "      <td>1497</td>\n",
       "      <td>4298</td>\n",
       "    </tr>\n",
       "    <tr>\n",
       "      <th>35342</th>\n",
       "      <td>1496</td>\n",
       "      <td>49765</td>\n",
       "    </tr>\n",
       "    <tr>\n",
       "      <th>24124</th>\n",
       "      <td>1496</td>\n",
       "      <td>47443</td>\n",
       "    </tr>\n",
       "    <tr>\n",
       "      <th>39779</th>\n",
       "      <td>1490</td>\n",
       "      <td>12482</td>\n",
       "    </tr>\n",
       "    <tr>\n",
       "      <th>2646</th>\n",
       "      <td>1489</td>\n",
       "      <td>61167</td>\n",
       "    </tr>\n",
       "  </tbody>\n",
       "</table>\n",
       "</div>"
      ],
      "text/plain": [
       "       duration   uuid\n",
       "22063      1497   4298\n",
       "35342      1496  49765\n",
       "24124      1496  47443\n",
       "39779      1490  12482\n",
       "2646       1489  61167"
      ]
     },
     "execution_count": 46,
     "metadata": {},
     "output_type": "execute_result"
    }
   ],
   "source": [
    "timeWatched = tasks[['duration','uuid']]\n",
    "#remover 0 minutos (ruido)\n",
    "timeWatched = timeWatched[(timeWatched['duration'] > 0) & (timeWatched['duration'] < 1500)]\n",
    "timeWatched.sort_values(by='duration', ascending=False).head()"
   ]
  },
  {
   "cell_type": "code",
   "execution_count": 47,
   "metadata": {},
   "outputs": [
    {
     "data": {
      "text/plain": [
       "<matplotlib.axes._subplots.AxesSubplot at 0x249088bb250>"
      ]
     },
     "execution_count": 47,
     "metadata": {},
     "output_type": "execute_result"
    },
    {
     "data": {
      "image/png": "[encoded data removed]",
      "text/plain": [
       "<Figure size 432x288 with 1 Axes>"
      ]
     },
     "metadata": {
      "needs_background": "light"
     },
     "output_type": "display_data"
    }
   ],
   "source": [
    "timeWatched.boxplot(column='duration', return_type='axes')"
   ]
  },
  {
   "cell_type": "code",
   "execution_count": 48,
   "metadata": {},
   "outputs": [
    {
     "data": {
      "text/plain": [
       "array([[<matplotlib.axes._subplots.AxesSubplot object at 0x0000024906F4E310>]],\n",
       "      dtype=object)"
      ]
     },
     "execution_count": 48,
     "metadata": {},
     "output_type": "execute_result"
    },
    {
     "data": {
      "image/png": "[encoded data removed]",
      "text/plain": [
       "<Figure size 432x288 with 1 Axes>"
      ]
     },
     "metadata": {
      "needs_background": "light"
     },
     "output_type": "display_data"
    }
   ],
   "source": [
    "timeWatched.hist(column='duration',bins=30)"
   ]
  },
  {
   "cell_type": "code",
   "execution_count": 49,
   "metadata": {},
   "outputs": [
    {
     "data": {
      "text/html": [
       "<div>\n",
       "<style scoped>\n",
       "    .dataframe tbody tr th:only-of-type {\n",
       "        vertical-align: middle;\n",
       "    }\n",
       "\n",
       "    .dataframe tbody tr th {\n",
       "        vertical-align: top;\n",
       "    }\n",
       "\n",
       "    .dataframe thead th {\n",
       "        text-align: right;\n",
       "    }\n",
       "</style>\n",
       "<table border=\"1\" class=\"dataframe\">\n",
       "  <thead>\n",
       "    <tr style=\"text-align: right;\">\n",
       "      <th></th>\n",
       "      <th>duration</th>\n",
       "      <th>uuid</th>\n",
       "    </tr>\n",
       "  </thead>\n",
       "  <tbody>\n",
       "    <tr>\n",
       "      <th>22063</th>\n",
       "      <td>1497</td>\n",
       "      <td>4298</td>\n",
       "    </tr>\n",
       "    <tr>\n",
       "      <th>35342</th>\n",
       "      <td>1496</td>\n",
       "      <td>49765</td>\n",
       "    </tr>\n",
       "    <tr>\n",
       "      <th>24124</th>\n",
       "      <td>1496</td>\n",
       "      <td>47443</td>\n",
       "    </tr>\n",
       "    <tr>\n",
       "      <th>39779</th>\n",
       "      <td>1490</td>\n",
       "      <td>12482</td>\n",
       "    </tr>\n",
       "    <tr>\n",
       "      <th>2646</th>\n",
       "      <td>1489</td>\n",
       "      <td>61167</td>\n",
       "    </tr>\n",
       "  </tbody>\n",
       "</table>\n",
       "</div>"
      ],
      "text/plain": [
       "       duration   uuid\n",
       "22063      1497   4298\n",
       "35342      1496  49765\n",
       "24124      1496  47443\n",
       "39779      1490  12482\n",
       "2646       1489  61167"
      ]
     },
     "execution_count": 49,
     "metadata": {},
     "output_type": "execute_result"
    }
   ],
   "source": [
    "#pegar os top 25% com mais tempo assistido\n",
    "top25 = timeWatched.sort_values(by='duration', ascending=False).head(int(len(timeWatched)*0.25))\n",
    "top25.head()"
   ]
  },
  {
   "cell_type": "code",
   "execution_count": 50,
   "metadata": {},
   "outputs": [
    {
     "data": {
      "text/plain": [
       "array([[<matplotlib.axes._subplots.AxesSubplot object at 0x0000024905DA3310>]],\n",
       "      dtype=object)"
      ]
     },
     "execution_count": 50,
     "metadata": {},
     "output_type": "execute_result"
    },
    {
     "data": {
      "image/png": "[encoded data removed]",
      "text/plain": [
       "<Figure size 432x288 with 1 Axes>"
      ]
     },
     "metadata": {
      "needs_background": "light"
     },
     "output_type": "display_data"
    }
   ],
   "source": [
    "top25.hist(column='duration', bins=30)"
   ]
  },
  {
   "cell_type": "markdown",
   "metadata": {},
   "source": [
    "Acima, temos a distribuição do tempo em que os alunos do quartil superior gastam na plataforma (Tempo em minutos X quantidade de alunos)"
   ]
  },
  {
   "cell_type": "code",
   "execution_count": 51,
   "metadata": {},
   "outputs": [
    {
     "data": {
      "text/html": [
       "<div>\n",
       "<style scoped>\n",
       "    .dataframe tbody tr th:only-of-type {\n",
       "        vertical-align: middle;\n",
       "    }\n",
       "\n",
       "    .dataframe tbody tr th {\n",
       "        vertical-align: top;\n",
       "    }\n",
       "\n",
       "    .dataframe thead th {\n",
       "        text-align: right;\n",
       "    }\n",
       "</style>\n",
       "<table border=\"1\" class=\"dataframe\">\n",
       "  <thead>\n",
       "    <tr style=\"text-align: right;\">\n",
       "      <th></th>\n",
       "      <th>duration</th>\n",
       "      <th>uuid</th>\n",
       "      <th>user_uuid</th>\n",
       "      <th>course_uuid</th>\n",
       "      <th>createdAt</th>\n",
       "      <th>finishedAt</th>\n",
       "      <th>lastAccessDate</th>\n",
       "      <th>currentState</th>\n",
       "    </tr>\n",
       "  </thead>\n",
       "  <tbody>\n",
       "    <tr>\n",
       "      <th>0</th>\n",
       "      <td>1496</td>\n",
       "      <td>47443</td>\n",
       "      <td>47443</td>\n",
       "      <td>1012</td>\n",
       "      <td>2017-02-23 16:16:27</td>\n",
       "      <td>NaN</td>\n",
       "      <td>2017-05-03 22:38:01</td>\n",
       "      <td>IN_PROGRESS</td>\n",
       "    </tr>\n",
       "    <tr>\n",
       "      <th>1</th>\n",
       "      <td>1496</td>\n",
       "      <td>47443</td>\n",
       "      <td>47443</td>\n",
       "      <td>1039</td>\n",
       "      <td>2017-02-23 16:55:09</td>\n",
       "      <td>2017-03-12 22:31:50</td>\n",
       "      <td>2017-03-12 22:31:42</td>\n",
       "      <td>IN_PROGRESS</td>\n",
       "    </tr>\n",
       "    <tr>\n",
       "      <th>2</th>\n",
       "      <td>1496</td>\n",
       "      <td>47443</td>\n",
       "      <td>47443</td>\n",
       "      <td>1057</td>\n",
       "      <td>2017-02-23 22:00:18</td>\n",
       "      <td>2017-10-10 21:43:44</td>\n",
       "      <td>2017-10-10 21:44:39</td>\n",
       "      <td>IN_PROGRESS</td>\n",
       "    </tr>\n",
       "    <tr>\n",
       "      <th>3</th>\n",
       "      <td>1496</td>\n",
       "      <td>47443</td>\n",
       "      <td>47443</td>\n",
       "      <td>983</td>\n",
       "      <td>2017-02-23 22:00:55</td>\n",
       "      <td>2017-10-16 20:17:24</td>\n",
       "      <td>2018-01-08 20:26:25</td>\n",
       "      <td>IN_PROGRESS</td>\n",
       "    </tr>\n",
       "    <tr>\n",
       "      <th>4</th>\n",
       "      <td>1496</td>\n",
       "      <td>47443</td>\n",
       "      <td>47443</td>\n",
       "      <td>1002</td>\n",
       "      <td>2017-02-23 22:02:39</td>\n",
       "      <td>2017-02-24 00:26:42</td>\n",
       "      <td>2017-02-24 00:26:35</td>\n",
       "      <td>IN_PROGRESS</td>\n",
       "    </tr>\n",
       "  </tbody>\n",
       "</table>\n",
       "</div>"
      ],
      "text/plain": [
       "   duration   uuid  user_uuid  course_uuid            createdAt  \\\n",
       "0      1496  47443      47443         1012  2017-02-23 16:16:27   \n",
       "1      1496  47443      47443         1039  2017-02-23 16:55:09   \n",
       "2      1496  47443      47443         1057  2017-02-23 22:00:18   \n",
       "3      1496  47443      47443          983  2017-02-23 22:00:55   \n",
       "4      1496  47443      47443         1002  2017-02-23 22:02:39   \n",
       "\n",
       "            finishedAt       lastAccessDate currentState  \n",
       "0                  NaN  2017-05-03 22:38:01  IN_PROGRESS  \n",
       "1  2017-03-12 22:31:50  2017-03-12 22:31:42  IN_PROGRESS  \n",
       "2  2017-10-10 21:43:44  2017-10-10 21:44:39  IN_PROGRESS  \n",
       "3  2017-10-16 20:17:24  2018-01-08 20:26:25  IN_PROGRESS  \n",
       "4  2017-02-24 00:26:42  2017-02-24 00:26:35  IN_PROGRESS  "
      ]
     },
     "execution_count": 51,
     "metadata": {},
     "output_type": "execute_result"
    }
   ],
   "source": [
    "statuses = top25.merge(regs, left_on='uuid',right_on='user_uuid')\n",
    "statuses.head()"
   ]
  },
  {
   "cell_type": "code",
   "execution_count": 52,
   "metadata": {},
   "outputs": [],
   "source": [
    "statuses = statuses[statuses.currentState!='NOT_VISIBLE']\n",
    "statuses = statuses[statuses.currentState!='BOOKMARKED']"
   ]
  },
  {
   "cell_type": "markdown",
   "metadata": {},
   "source": [
    "Aqui, fazemos a remoção de estados de curso irrelevantes para nossa análise, deixando apenas IN_PROGRESS e PAUSED a serem analisados"
   ]
  },
  {
   "cell_type": "code",
   "execution_count": 53,
   "metadata": {},
   "outputs": [],
   "source": [
    "#curso completado -> com data e in_progress // curso pausado -> resto\n",
    "statuses['completion'] = np.where((statuses['currentState']=='IN_PROGRESS') & (statuses['finishedAt'].notna()), 'completed', 'paused')"
   ]
  },
  {
   "cell_type": "code",
   "execution_count": 54,
   "metadata": {},
   "outputs": [
    {
     "data": {
      "text/html": [
       "<div>\n",
       "<style scoped>\n",
       "    .dataframe tbody tr th:only-of-type {\n",
       "        vertical-align: middle;\n",
       "    }\n",
       "\n",
       "    .dataframe tbody tr th {\n",
       "        vertical-align: top;\n",
       "    }\n",
       "\n",
       "    .dataframe thead th {\n",
       "        text-align: right;\n",
       "    }\n",
       "</style>\n",
       "<table border=\"1\" class=\"dataframe\">\n",
       "  <thead>\n",
       "    <tr style=\"text-align: right;\">\n",
       "      <th></th>\n",
       "      <th>uuid</th>\n",
       "      <th>user_uuid</th>\n",
       "      <th>course_uuid</th>\n",
       "      <th>createdAt</th>\n",
       "      <th>finishedAt</th>\n",
       "      <th>lastAccessDate</th>\n",
       "      <th>currentState</th>\n",
       "      <th>completion</th>\n",
       "    </tr>\n",
       "  </thead>\n",
       "  <tbody>\n",
       "    <tr>\n",
       "      <th>0</th>\n",
       "      <td>47443</td>\n",
       "      <td>47443</td>\n",
       "      <td>1012</td>\n",
       "      <td>2017-02-23 16:16:27</td>\n",
       "      <td>NaN</td>\n",
       "      <td>2017-05-03 22:38:01</td>\n",
       "      <td>IN_PROGRESS</td>\n",
       "      <td>paused</td>\n",
       "    </tr>\n",
       "    <tr>\n",
       "      <th>1</th>\n",
       "      <td>47443</td>\n",
       "      <td>47443</td>\n",
       "      <td>1039</td>\n",
       "      <td>2017-02-23 16:55:09</td>\n",
       "      <td>2017-03-12 22:31:50</td>\n",
       "      <td>2017-03-12 22:31:42</td>\n",
       "      <td>IN_PROGRESS</td>\n",
       "      <td>completed</td>\n",
       "    </tr>\n",
       "    <tr>\n",
       "      <th>2</th>\n",
       "      <td>47443</td>\n",
       "      <td>47443</td>\n",
       "      <td>1057</td>\n",
       "      <td>2017-02-23 22:00:18</td>\n",
       "      <td>2017-10-10 21:43:44</td>\n",
       "      <td>2017-10-10 21:44:39</td>\n",
       "      <td>IN_PROGRESS</td>\n",
       "      <td>completed</td>\n",
       "    </tr>\n",
       "    <tr>\n",
       "      <th>3</th>\n",
       "      <td>47443</td>\n",
       "      <td>47443</td>\n",
       "      <td>983</td>\n",
       "      <td>2017-02-23 22:00:55</td>\n",
       "      <td>2017-10-16 20:17:24</td>\n",
       "      <td>2018-01-08 20:26:25</td>\n",
       "      <td>IN_PROGRESS</td>\n",
       "      <td>completed</td>\n",
       "    </tr>\n",
       "    <tr>\n",
       "      <th>4</th>\n",
       "      <td>47443</td>\n",
       "      <td>47443</td>\n",
       "      <td>1002</td>\n",
       "      <td>2017-02-23 22:02:39</td>\n",
       "      <td>2017-02-24 00:26:42</td>\n",
       "      <td>2017-02-24 00:26:35</td>\n",
       "      <td>IN_PROGRESS</td>\n",
       "      <td>completed</td>\n",
       "    </tr>\n",
       "  </tbody>\n",
       "</table>\n",
       "</div>"
      ],
      "text/plain": [
       "    uuid  user_uuid  course_uuid            createdAt           finishedAt  \\\n",
       "0  47443      47443         1012  2017-02-23 16:16:27                  NaN   \n",
       "1  47443      47443         1039  2017-02-23 16:55:09  2017-03-12 22:31:50   \n",
       "2  47443      47443         1057  2017-02-23 22:00:18  2017-10-10 21:43:44   \n",
       "3  47443      47443          983  2017-02-23 22:00:55  2017-10-16 20:17:24   \n",
       "4  47443      47443         1002  2017-02-23 22:02:39  2017-02-24 00:26:42   \n",
       "\n",
       "        lastAccessDate currentState completion  \n",
       "0  2017-05-03 22:38:01  IN_PROGRESS     paused  \n",
       "1  2017-03-12 22:31:42  IN_PROGRESS  completed  \n",
       "2  2017-10-10 21:44:39  IN_PROGRESS  completed  \n",
       "3  2018-01-08 20:26:25  IN_PROGRESS  completed  \n",
       "4  2017-02-24 00:26:35  IN_PROGRESS  completed  "
      ]
     },
     "execution_count": 54,
     "metadata": {},
     "output_type": "execute_result"
    }
   ],
   "source": [
    "statuses.drop(['duration'],axis=1,inplace=True)\n",
    "statuses.head()"
   ]
  },
  {
   "cell_type": "code",
   "execution_count": 55,
   "metadata": {},
   "outputs": [
    {
     "data": {
      "text/plain": [
       "<matplotlib.axes._subplots.AxesSubplot at 0x24904c55820>"
      ]
     },
     "execution_count": 55,
     "metadata": {},
     "output_type": "execute_result"
    },
    {
     "data": {
      "image/png": "[encoded data removed]",
      "text/plain": [
       "<Figure size 432x288 with 1 Axes>"
      ]
     },
     "metadata": {},
     "output_type": "display_data"
    }
   ],
   "source": [
    "statuses.groupby('completion')['completion'].count().plot.pie(colors = ['green','yellow'], autopct='%1.1f%%',title='Course completion',)"
   ]
  },
  {
   "cell_type": "code",
   "execution_count": 56,
   "metadata": {},
   "outputs": [
    {
     "data": {
      "text/plain": [
       "completion\n",
       "completed     8405\n",
       "paused       13512\n",
       "Name: completion, dtype: int64"
      ]
     },
     "execution_count": 56,
     "metadata": {},
     "output_type": "execute_result"
    }
   ],
   "source": [
    "statuses.groupby('completion')['completion'].count()"
   ]
  },
  {
   "cell_type": "markdown",
   "metadata": {},
   "source": [
    "Pelo gráfico, percebe-se que a maioria dos alunos os quais consideramos \"os mais estudiosos\" não completam seus cursos, mas sim os pausam em pontos arbitrários, sem necessáriamente haver um critério"
   ]
  },
  {
   "cell_type": "code",
   "execution_count": 57,
   "metadata": {},
   "outputs": [
    {
     "data": {
      "text/html": [
       "<div>\n",
       "<style scoped>\n",
       "    .dataframe tbody tr th:only-of-type {\n",
       "        vertical-align: middle;\n",
       "    }\n",
       "\n",
       "    .dataframe tbody tr th {\n",
       "        vertical-align: top;\n",
       "    }\n",
       "\n",
       "    .dataframe thead th {\n",
       "        text-align: right;\n",
       "    }\n",
       "</style>\n",
       "<table border=\"1\" class=\"dataframe\">\n",
       "  <thead>\n",
       "    <tr style=\"text-align: right;\">\n",
       "      <th></th>\n",
       "      <th>createdAt</th>\n",
       "      <th>level</th>\n",
       "      <th>publicatedAt</th>\n",
       "      <th>totalVideoTime</th>\n",
       "      <th>subCategory_id</th>\n",
       "      <th>situation</th>\n",
       "      <th>isProject</th>\n",
       "      <th>removedAt</th>\n",
       "      <th>uuid</th>\n",
       "      <th>substitute_uuid</th>\n",
       "    </tr>\n",
       "  </thead>\n",
       "  <tbody>\n",
       "    <tr>\n",
       "      <th>0</th>\n",
       "      <td>2011-09-22</td>\n",
       "      <td>1</td>\n",
       "      <td>2011-09-22</td>\n",
       "      <td>51</td>\n",
       "      <td>30</td>\n",
       "      <td>PUBLISHED</td>\n",
       "      <td>0</td>\n",
       "      <td>NaN</td>\n",
       "      <td>588</td>\n",
       "      <td>NaN</td>\n",
       "    </tr>\n",
       "    <tr>\n",
       "      <th>1</th>\n",
       "      <td>2011-10-27</td>\n",
       "      <td>5</td>\n",
       "      <td>2011-10-27</td>\n",
       "      <td>72</td>\n",
       "      <td>21</td>\n",
       "      <td>PUBLISHED</td>\n",
       "      <td>0</td>\n",
       "      <td>NaN</td>\n",
       "      <td>840</td>\n",
       "      <td>NaN</td>\n",
       "    </tr>\n",
       "    <tr>\n",
       "      <th>2</th>\n",
       "      <td>2012-02-15</td>\n",
       "      <td>1</td>\n",
       "      <td>2012-02-15</td>\n",
       "      <td>112</td>\n",
       "      <td>1</td>\n",
       "      <td>PUBLISHED</td>\n",
       "      <td>0</td>\n",
       "      <td>NaN</td>\n",
       "      <td>764</td>\n",
       "      <td>NaN</td>\n",
       "    </tr>\n",
       "    <tr>\n",
       "      <th>3</th>\n",
       "      <td>2012-03-07</td>\n",
       "      <td>5</td>\n",
       "      <td>2012-03-07</td>\n",
       "      <td>83</td>\n",
       "      <td>21</td>\n",
       "      <td>PUBLISHED</td>\n",
       "      <td>0</td>\n",
       "      <td>NaN</td>\n",
       "      <td>720</td>\n",
       "      <td>NaN</td>\n",
       "    </tr>\n",
       "    <tr>\n",
       "      <th>4</th>\n",
       "      <td>2012-05-29</td>\n",
       "      <td>1</td>\n",
       "      <td>2012-05-29</td>\n",
       "      <td>70</td>\n",
       "      <td>48</td>\n",
       "      <td>PUBLISHED</td>\n",
       "      <td>0</td>\n",
       "      <td>NaN</td>\n",
       "      <td>937</td>\n",
       "      <td>NaN</td>\n",
       "    </tr>\n",
       "  </tbody>\n",
       "</table>\n",
       "</div>"
      ],
      "text/plain": [
       "    createdAt  level publicatedAt  totalVideoTime  subCategory_id  situation  \\\n",
       "0  2011-09-22      1   2011-09-22              51              30  PUBLISHED   \n",
       "1  2011-10-27      5   2011-10-27              72              21  PUBLISHED   \n",
       "2  2012-02-15      1   2012-02-15             112               1  PUBLISHED   \n",
       "3  2012-03-07      5   2012-03-07              83              21  PUBLISHED   \n",
       "4  2012-05-29      1   2012-05-29              70              48  PUBLISHED   \n",
       "\n",
       "   isProject removedAt  uuid  substitute_uuid  \n",
       "0          0       NaN   588              NaN  \n",
       "1          0       NaN   840              NaN  \n",
       "2          0       NaN   764              NaN  \n",
       "3          0       NaN   720              NaN  \n",
       "4          0       NaN   937              NaN  "
      ]
     },
     "execution_count": 57,
     "metadata": {},
     "output_type": "execute_result"
    }
   ],
   "source": [
    "courses.head()"
   ]
  },
  {
   "cell_type": "code",
   "execution_count": 58,
   "metadata": {},
   "outputs": [
    {
     "data": {
      "text/plain": [
       "level\n",
       "1     664\n",
       "5     375\n",
       "10     50\n",
       "Name: level, dtype: int64"
      ]
     },
     "execution_count": 58,
     "metadata": {},
     "output_type": "execute_result"
    }
   ],
   "source": [
    "courses.groupby('level')['level'].count()"
   ]
  },
  {
   "cell_type": "code",
   "execution_count": 59,
   "metadata": {},
   "outputs": [
    {
     "data": {
      "text/html": [
       "<div>\n",
       "<style scoped>\n",
       "    .dataframe tbody tr th:only-of-type {\n",
       "        vertical-align: middle;\n",
       "    }\n",
       "\n",
       "    .dataframe tbody tr th {\n",
       "        vertical-align: top;\n",
       "    }\n",
       "\n",
       "    .dataframe thead th {\n",
       "        text-align: right;\n",
       "    }\n",
       "</style>\n",
       "<table border=\"1\" class=\"dataframe\">\n",
       "  <thead>\n",
       "    <tr style=\"text-align: right;\">\n",
       "      <th></th>\n",
       "      <th>uuid_x</th>\n",
       "      <th>kind</th>\n",
       "      <th>status</th>\n",
       "      <th>course_uuid</th>\n",
       "      <th>level</th>\n",
       "      <th>publicatedAt</th>\n",
       "      <th>totalVideoTime</th>\n",
       "      <th>subCategory_id</th>\n",
       "      <th>situation</th>\n",
       "      <th>isProject</th>\n",
       "      <th>removedAt</th>\n",
       "      <th>substitute_uuid</th>\n",
       "    </tr>\n",
       "  </thead>\n",
       "  <tbody>\n",
       "    <tr>\n",
       "      <th>0</th>\n",
       "      <td>4298</td>\n",
       "      <td>VIDEO</td>\n",
       "      <td>ACTIVE</td>\n",
       "      <td>591</td>\n",
       "      <td>1</td>\n",
       "      <td>2018-04-06</td>\n",
       "      <td>0</td>\n",
       "      <td>107</td>\n",
       "      <td>PUBLISHED</td>\n",
       "      <td>0</td>\n",
       "      <td>NaN</td>\n",
       "      <td>NaN</td>\n",
       "    </tr>\n",
       "    <tr>\n",
       "      <th>1</th>\n",
       "      <td>18189</td>\n",
       "      <td>VIDEO</td>\n",
       "      <td>ACTIVE</td>\n",
       "      <td>591</td>\n",
       "      <td>1</td>\n",
       "      <td>2018-04-06</td>\n",
       "      <td>0</td>\n",
       "      <td>107</td>\n",
       "      <td>PUBLISHED</td>\n",
       "      <td>0</td>\n",
       "      <td>NaN</td>\n",
       "      <td>NaN</td>\n",
       "    </tr>\n",
       "    <tr>\n",
       "      <th>2</th>\n",
       "      <td>33089</td>\n",
       "      <td>VIDEO</td>\n",
       "      <td>ACTIVE</td>\n",
       "      <td>591</td>\n",
       "      <td>1</td>\n",
       "      <td>2018-04-06</td>\n",
       "      <td>0</td>\n",
       "      <td>107</td>\n",
       "      <td>PUBLISHED</td>\n",
       "      <td>0</td>\n",
       "      <td>NaN</td>\n",
       "      <td>NaN</td>\n",
       "    </tr>\n",
       "    <tr>\n",
       "      <th>3</th>\n",
       "      <td>26139</td>\n",
       "      <td>VIDEO</td>\n",
       "      <td>ACTIVE</td>\n",
       "      <td>591</td>\n",
       "      <td>1</td>\n",
       "      <td>2018-04-06</td>\n",
       "      <td>0</td>\n",
       "      <td>107</td>\n",
       "      <td>PUBLISHED</td>\n",
       "      <td>0</td>\n",
       "      <td>NaN</td>\n",
       "      <td>NaN</td>\n",
       "    </tr>\n",
       "    <tr>\n",
       "      <th>4</th>\n",
       "      <td>2363</td>\n",
       "      <td>VIDEO</td>\n",
       "      <td>ACTIVE</td>\n",
       "      <td>591</td>\n",
       "      <td>1</td>\n",
       "      <td>2018-04-06</td>\n",
       "      <td>0</td>\n",
       "      <td>107</td>\n",
       "      <td>PUBLISHED</td>\n",
       "      <td>0</td>\n",
       "      <td>NaN</td>\n",
       "      <td>NaN</td>\n",
       "    </tr>\n",
       "  </tbody>\n",
       "</table>\n",
       "</div>"
      ],
      "text/plain": [
       "   uuid_x   kind  status  course_uuid  level publicatedAt  totalVideoTime  \\\n",
       "0    4298  VIDEO  ACTIVE          591      1   2018-04-06               0   \n",
       "1   18189  VIDEO  ACTIVE          591      1   2018-04-06               0   \n",
       "2   33089  VIDEO  ACTIVE          591      1   2018-04-06               0   \n",
       "3   26139  VIDEO  ACTIVE          591      1   2018-04-06               0   \n",
       "4    2363  VIDEO  ACTIVE          591      1   2018-04-06               0   \n",
       "\n",
       "   subCategory_id  situation  isProject removedAt  substitute_uuid  \n",
       "0             107  PUBLISHED          0       NaN              NaN  \n",
       "1             107  PUBLISHED          0       NaN              NaN  \n",
       "2             107  PUBLISHED          0       NaN              NaN  \n",
       "3             107  PUBLISHED          0       NaN              NaN  \n",
       "4             107  PUBLISHED          0       NaN              NaN  "
      ]
     },
     "execution_count": 59,
     "metadata": {},
     "output_type": "execute_result"
    }
   ],
   "source": [
    "top25_courses = top25.merge(tasks, left_on='uuid',right_on='uuid')\n",
    "top25_courses = top25_courses.merge(courses, left_on='course_uuid',right_on='uuid')\n",
    "top25_courses.drop(['duration_x','duration_y','createdAt_x','createdAt_y','uuid_y'],axis=1,inplace=True)\n",
    "top25_courses.head()"
   ]
  },
  {
   "cell_type": "code",
   "execution_count": 60,
   "metadata": {},
   "outputs": [
    {
     "data": {
      "text/plain": [
       "level\n",
       "1     2350\n",
       "5     1463\n",
       "10     175\n",
       "Name: level, dtype: int64"
      ]
     },
     "execution_count": 60,
     "metadata": {},
     "output_type": "execute_result"
    }
   ],
   "source": [
    "top25_courses.groupby('level')['level'].count()"
   ]
  },
  {
   "cell_type": "markdown",
   "metadata": {},
   "source": [
    "Temos abaixo o gráfico que ilustra uma predominância de cursos considerados \"mais fáceis\" dentre esse público."
   ]
  },
  {
   "cell_type": "code",
   "execution_count": 61,
   "metadata": {},
   "outputs": [
    {
     "data": {
      "text/plain": [
       "<matplotlib.axes._subplots.AxesSubplot at 0x24908256310>"
      ]
     },
     "execution_count": 61,
     "metadata": {},
     "output_type": "execute_result"
    },
    {
     "data": {
      "image/png": "[encoded data removed]",
      "text/plain": [
       "<Figure size 432x288 with 1 Axes>"
      ]
     },
     "metadata": {},
     "output_type": "display_data"
    }
   ],
   "source": [
    "top25_courses.groupby('level')['level'].count().plot.pie(colors = ['green','orange','red'], autopct='%1.0f%%',title='Course difficulty')"
   ]
  },
  {
   "cell_type": "code",
   "execution_count": 62,
   "metadata": {
    "scrolled": true
   },
   "outputs": [
    {
     "data": {
      "text/html": [
       "<div>\n",
       "<style scoped>\n",
       "    .dataframe tbody tr th:only-of-type {\n",
       "        vertical-align: middle;\n",
       "    }\n",
       "\n",
       "    .dataframe tbody tr th {\n",
       "        vertical-align: top;\n",
       "    }\n",
       "\n",
       "    .dataframe thead th {\n",
       "        text-align: right;\n",
       "    }\n",
       "</style>\n",
       "<table border=\"1\" class=\"dataframe\">\n",
       "  <thead>\n",
       "    <tr style=\"text-align: right;\">\n",
       "      <th></th>\n",
       "      <th>uuid</th>\n",
       "      <th>completionRate</th>\n",
       "      <th>courseCount</th>\n",
       "    </tr>\n",
       "  </thead>\n",
       "  <tbody>\n",
       "    <tr>\n",
       "      <th>0</th>\n",
       "      <td>47443</td>\n",
       "      <td>64.864865</td>\n",
       "      <td>37</td>\n",
       "    </tr>\n",
       "    <tr>\n",
       "      <th>37</th>\n",
       "      <td>12482</td>\n",
       "      <td>66.666667</td>\n",
       "      <td>3</td>\n",
       "    </tr>\n",
       "    <tr>\n",
       "      <th>40</th>\n",
       "      <td>61167</td>\n",
       "      <td>60.000000</td>\n",
       "      <td>5</td>\n",
       "    </tr>\n",
       "    <tr>\n",
       "      <th>45</th>\n",
       "      <td>24052</td>\n",
       "      <td>0.000000</td>\n",
       "      <td>2</td>\n",
       "    </tr>\n",
       "    <tr>\n",
       "      <th>47</th>\n",
       "      <td>19775</td>\n",
       "      <td>38.709677</td>\n",
       "      <td>31</td>\n",
       "    </tr>\n",
       "  </tbody>\n",
       "</table>\n",
       "</div>"
      ],
      "text/plain": [
       "     uuid  completionRate  courseCount\n",
       "0   47443       64.864865           37\n",
       "37  12482       66.666667            3\n",
       "40  61167       60.000000            5\n",
       "45  24052        0.000000            2\n",
       "47  19775       38.709677           31"
      ]
     },
     "execution_count": 62,
     "metadata": {},
     "output_type": "execute_result"
    }
   ],
   "source": [
    "teste = statuses.merge(top25_courses, left_on='uuid',right_on='uuid_x')\n",
    "teste.drop(['uuid_x', 'course_uuid_y'],axis=1,inplace=True)\n",
    "teste['completion'] = teste['completion'].replace('completed', 1)\n",
    "teste['completion'] = teste['completion'].replace('paused', 0)\n",
    "teste['courseCount'] = teste.groupby('uuid')['course_uuid_x'].transform('count')\n",
    "teste['completionRate'] = 100*teste.groupby(by=['uuid'])['completion'].transform('sum')/teste['courseCount']\n",
    "teste = teste[['uuid','completionRate','courseCount']]\n",
    "teste.drop_duplicates(subset=['uuid'],keep='first',inplace=True)\n",
    "teste.head()"
   ]
  },
  {
   "cell_type": "markdown",
   "metadata": {},
   "source": [
    "Finalmente, temos abaixo uma distribuição ta taxa de conclusão dos cursos entre os 25% mais ativos na plataforma."
   ]
  },
  {
   "cell_type": "code",
   "execution_count": 63,
   "metadata": {},
   "outputs": [
    {
     "data": {
      "text/plain": [
       "Text(0.5, 1.0, 'Taxa de completude dos cursos')"
      ]
     },
     "execution_count": 63,
     "metadata": {},
     "output_type": "execute_result"
    },
    {
     "data": {
      "image/png": "[encoded data removed]",
      "text/plain": [
       "<Figure size 432x288 with 1 Axes>"
      ]
     },
     "metadata": {
      "needs_background": "light"
     },
     "output_type": "display_data"
    }
   ],
   "source": [
    "teste.hist(column='completionRate',bins=30)\n",
    "plt.title('Taxa de completude dos cursos')"
   ]
  },
  {
   "cell_type": "markdown",
   "metadata": {},
   "source": [
    "Percebemos aqui que, em par com o que já foi comentado anteriormente, a grande maioria dos alunos analisados não completa nem 20% dos cursos em que se inscreve."
   ]
  }
 ],
 "metadata": {
  "kernelspec": {
   "display_name": "Python 3",
   "language": "python",
   "name": "python3"
  },
  "language_info": {
   "codemirror_mode": {
    "name": "ipython",
    "version": 3
   },
   "file_extension": ".py",
   "mimetype": "text/x-python",
   "name": "python",
   "nbconvert_exporter": "python",
   "pygments_lexer": "ipython3",
   "version": "3.8.3"
  }
 },
 "nbformat": 4,
 "nbformat_minor": 2
}
